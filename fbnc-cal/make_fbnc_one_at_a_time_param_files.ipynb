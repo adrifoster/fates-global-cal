{
 "cells": [
  {
   "cell_type": "markdown",
   "id": "3297843c",
   "metadata": {},
   "source": [
    "## Script to generate FATES parameter files for one at a time ensemble"
   ]
  },
  {
   "cell_type": "markdown",
   "id": "d6bf78f1",
   "metadata": {},
   "source": [
    "#### Libraries"
   ]
  },
  {
   "cell_type": "code",
   "execution_count": 1,
   "id": "0c06877b",
   "metadata": {},
   "outputs": [],
   "source": [
    "from scipy.stats import qmc\n",
    "import numpy as np\n",
    "import xarray as xr\n",
    "import csv\n",
    "import pandas as pd\n",
    "import os\n",
    "import netCDF4 as nc4\n",
    "import sys\n",
    "import shutil\n",
    "from tempfile import TemporaryFile                                                                                                                                 \n",
    "import argparse                                                                                                                                                                                                                                                                                                       \n",
    "import tempfile \n",
    "import random\n",
    "import re\n",
    "\n",
    "import functions_py.modp as mp\n"
   ]
  },
  {
   "cell_type": "markdown",
   "id": "2fc85995",
   "metadata": {},
   "source": [
    "#### Set the seed"
   ]
  },
  {
   "cell_type": "code",
   "execution_count": 2,
   "id": "b9b6142e",
   "metadata": {},
   "outputs": [],
   "source": [
    "random.seed(32)"
   ]
  },
  {
   "cell_type": "markdown",
   "id": "255f4f8d",
   "metadata": {},
   "source": [
    "- Read in main csv\n",
    "- For each parameter:\n",
    "- if it is global simply create min and max param file\n",
    "- if it is pft specific read in the relevant csv and make min and max changing the relevant pfts "
   ]
  },
  {
   "cell_type": "code",
   "execution_count": 3,
   "id": "318b6ad6",
   "metadata": {},
   "outputs": [
    {
     "name": "stdout",
     "output_type": "stream",
     "text": [
      "                         Parameter_Name  PFT  Min_value   Max_value\n",
      "0      fates_maintresp_nonleaf_baserate    0   0.000001    0.000006\n",
      "1   fates_maintresp_reduction_intercept    1   0.000000    1.000000\n",
      "2                          fates_grperc    1   0.100000    1.000000\n",
      "3           fates_alloc_storage_cushion    1   1.000000    3.000000\n",
      "4                    fates_wood_density    1        NaN         NaN\n",
      "5                      fates_mort_bmort    1   0.010000    0.050000\n",
      "6         fates_mort_scalar_cstarvation    1   0.100000    1.000000\n",
      "7         fates_mort_scalar_hydrfailure    1   0.100000    1.000000\n",
      "8               fates_mort_disturb_frac    0   0.000000    1.000000\n",
      "9          fates_mort_understorey_death    0   0.000000    1.000000\n",
      "10                fates_turnover_branch    1  75.000000  225.000000\n",
      "11                  fates_turnover_leaf    1        NaN         NaN\n",
      "12\n"
     ]
    }
   ],
   "source": [
    "param_map = pd.read_csv('/qfs/people/need138/fates-fbnc-cal/param_dir/fbnc_params/FATES_FBNC_calibration_params.csv')\n",
    "param_map = param_map[['Parameter_Name', 'PFT', 'Min_value', 'Max_value']]\n",
    "\n",
    "# remove allometry parameters for now - param ranges will come from \n",
    "# analysis outside of FATES\n",
    "tmp = param_map.Parameter_Name.str.contains('allom')\n",
    "param_map = param_map[tmp == False]\n",
    "\n",
    "param_map = param_map.reset_index(drop=True)\n",
    "print(param_map)\n",
    "\n",
    "\n",
    "# number of parameters\n",
    "n_params = len(param_map)\n",
    "print(n_params)\n",
    "param_names = list(param_map.Parameter_Name)\n",
    "pfts = list(param_map.PFT)\n",
    "\n",
    "# param_scalars = [i for i, x in enumerate(list(param_ranges.parameter)) if re.search('pftscalar', x)]\n",
    "# print(param_scalars)\n"
   ]
  },
  {
   "cell_type": "markdown",
   "id": "e851e02f",
   "metadata": {},
   "source": [
    "#### Make parameter files"
   ]
  },
  {
   "cell_type": "code",
   "execution_count": 4,
   "id": "7d6e5b89",
   "metadata": {},
   "outputs": [
    {
     "name": "stdout",
     "output_type": "stream",
     "text": [
      "0     0\n",
      "1     1\n",
      "2     1\n",
      "3     1\n",
      "4     1\n",
      "5     1\n",
      "6     1\n",
      "7     1\n",
      "8     0\n",
      "9     0\n",
      "10    1\n",
      "11    1\n",
      "Name: PFT, dtype: int64\n",
      "1\n",
      "0\n",
      "fates_maintresp_nonleaf_baserate\n",
      "1\n",
      "fates_maintresp_reduction_intercept\n",
      "2\n",
      "fates_grperc\n",
      "3\n",
      "fates_alloc_storage_cushion\n",
      "4\n",
      "fates_wood_density\n",
      "5\n",
      "fates_mort_bmort\n",
      "6\n",
      "fates_mort_scalar_cstarvation\n",
      "7\n",
      "fates_mort_scalar_hydrfailure\n",
      "8\n",
      "fates_mort_disturb_frac\n",
      "9\n",
      "fates_mort_understorey_death\n",
      "10\n",
      "fates_turnover_branch\n",
      "11\n",
      "fates_turnover_leaf\n"
     ]
    }
   ],
   "source": [
    "## Read in defaut FATES file - note that this is the default for FATES but with:\n",
    "# - size bins that are consistent with Piponoit et al.\n",
    "# - updated vai params\n",
    "# - martinez_cano and chave allometries for trees\n",
    "# - no max height\n",
    "print(param_map.PFT)\n",
    "print(param_map.PFT[10])\n",
    "\n",
    "input_fname = '/qfs/people/need138/fates-fbnc-cal/param_dir/fates_params_fbnc_base.nc'\n",
    "\n",
    "# for each parameter\n",
    "for i in range(0,n_params) :\n",
    "    print(i)\n",
    "    \n",
    "    param = param_names[i]\n",
    "    print(param)\n",
    "    pft = param_map.PFT[i]\n",
    "     \n",
    "    # final parameter file names\n",
    "    fout_min = '/qfs/people/need138/fates-fbnc-cal/param_dir/fates_params_fbnc_{0}_min.nc'.format(param)\n",
    "    fout_max = '/qfs/people/need138/fates-fbnc-cal/param_dir/fates_params_fbnc_{0}_max.nc'.format(param)\n",
    "    \n",
    "    shutil.copyfile(input_fname, fout_min)   \n",
    "    shutil.copyfile(input_fname, fout_max)   \n",
    "    \n",
    "    # Global parammeters\n",
    "    if pft == 0 : \n",
    "        val_min = param_map.Min_value[i]\n",
    "        val_max = param_map.Max_value[i]\n",
    "            \n",
    "        mp.main(var = param, pft = 0, fin = fout_min, val = val_min, \n",
    "            fout = fout_min, O = 1, organ = 0)\n",
    "        mp.main(var = param, pft = 0, fin = fout_max, val = val_max, \n",
    "            fout = fout_max, O = 1, organ = 0)\n",
    "\n",
    "    # PFT specific parameters   \n",
    "    else :\n",
    "        # load the pft file\n",
    "        pft_param_map = pd.read_csv('/qfs/people/need138/fates-fbnc-cal/param_dir/fbnc_params/{0}.csv'.format(param))\n",
    "        pft_param_map = pft_param_map[['Parameter', 'PFT', 'Min', 'Max']]\n",
    "    \n",
    "        for p in range(0,len(pft_param_map.PFT)) :\n",
    "            \n",
    "            pfts = pft_param_map.PFT\n",
    "            \n",
    "            val_min = pft_param_map.Min[p]\n",
    "            val_max = pft_param_map.Max[p]\n",
    "               \n",
    "            mp.main(var = param, pft = pfts[p], fin = fout_min, val = val_min, \n",
    "                    fout = fout_min, O = 1, organ = 0)\n",
    "            mp.main(var = param, pft = pfts[p], fin = fout_max, val = val_max, \n",
    "                    fout = fout_max, O = 1, organ = 0)\n",
    "\n",
    "    "
   ]
  },
  {
   "cell_type": "code",
   "execution_count": null,
   "id": "a03879e2",
   "metadata": {},
   "outputs": [],
   "source": []
  },
  {
   "cell_type": "code",
   "execution_count": null,
   "id": "7b800e0c",
   "metadata": {},
   "outputs": [],
   "source": []
  }
 ],
 "metadata": {
  "kernelspec": {
   "display_name": "Python [conda env:e3sm_unified_latest]",
   "language": "python",
   "name": "conda-env-e3sm_unified_latest-py"
  },
  "language_info": {
   "codemirror_mode": {
    "name": "ipython",
    "version": 3
   },
   "file_extension": ".py",
   "mimetype": "text/x-python",
   "name": "python",
   "nbconvert_exporter": "python",
   "pygments_lexer": "ipython3",
   "version": "3.10.8"
  }
 },
 "nbformat": 4,
 "nbformat_minor": 5
}
