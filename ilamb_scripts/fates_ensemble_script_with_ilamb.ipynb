{
 "cells": [
  {
   "cell_type": "markdown",
   "metadata": {},
   "source": [
    "<h1> Ensemble generation submission and analysis notebook </h1>\n",
    "\n",
    "This script uses a combination of bash and python cells to form a workflow for creating and analysing FATES (or any CLM) ensembles. It will:\n",
    "\n",
    "<ol>\n",
    "<li>Clone the github repo \n",
    "<li>Make and build a default 4x5 CLM-FATES case\n",
    "<li>Make an ensemble of CLM-FATES cases \n",
    "<li>Generate an ensemble of parameter files with one at a time or latin hypercube  modification\n",
    "<li>Point each ensemble member at a different parameter file\n",
    "<li>Submit all these jobs\n",
    "<li>Analyse output\n",
    "</ol>\n",
    "\n",
    "n.b. This notebook is also set up to work with Cheyenne specific paths, but can be modified. \n",
    "\n",
    "The version here is relatively simple in that it just submits a one at a time sensemble and plots maps of the output. Obviously much more can be made of the ensemble design and analysis but this is here as a generic tool... "
   ]
  },
  {
   "cell_type": "markdown",
   "metadata": {},
   "source": [
    "#### INITIALISE: Control variables for the analysis script."
   ]
  },
  {
   "cell_type": "code",
   "execution_count": 1,
   "metadata": {},
   "outputs": [
    {
     "ename": "SyntaxError",
     "evalue": "invalid syntax (3652156408.py, line 13)",
     "output_type": "error",
     "traceback": [
      "\u001b[0;36m  Input \u001b[0;32mIn [1]\u001b[0;36m\u001b[0m\n\u001b[0;31m    doilambplots =\u001b[0m\n\u001b[0m                   ^\u001b[0m\n\u001b[0;31mSyntaxError\u001b[0m\u001b[0;31m:\u001b[0m invalid syntax\n"
     ]
    }
   ],
   "source": [
    "# This mega script does \n",
    "# ensemble setup (including parameter file generation.  \n",
    "# job submission and \n",
    "# analysis. \n",
    "\n",
    "# You can turn these off and on according to where you are tin the process. \n",
    "\n",
    "dosetup      = 1 # do we want to create parameters files and so on?\n",
    "dosubmit     = 1 # do we do the submission stage, or just the analysis?\n",
    "forcenewcase = 0 # do we scurb all the old cases and start again?\n",
    "doanalysis   = 0 # do we want to plot the outputs? \n",
    "doilamb      = 0 # do we want to run the ilamb analysis?\n",
    "doilambplots = \n",
    "print(\"setup, submit, analysis:\", dosetup,dosubmit,doanalysis,doilamb)\n",
    "\n",
    "#### INITIALISE: Define parameter space for senstivity analysis. \n",
    "\n",
    "#aspiration to make this into a dictionary...\n",
    "#=========================================================\n",
    "n = 6 # Ensemble Identification number\n",
    "#==========================================================\n",
    "\n",
    "if(n == 1):\n",
    "    parameter_list=['fates_rad_leaf_clumping_index','fates_rad_leaf_xl',\n",
    "                'fates_rad_leaf_rhovis','fates_rad_stem_rhovis',\n",
    "                'fates_rad_leaf_tauvis','fates_rad_stem_tauvis' ,\n",
    "               'fates_vai_top_bin_width','fates_vai_width_increase_factor']\n",
    "    parameter_label=['clumping_index','leaf_xl',\n",
    "                'leaf_rhovis','stem_rhovis',\n",
    "                'leaf_tauvis','stem_tauvis' ,\n",
    "               'top_bin_width','width_increase_factor']\n",
    "    nparams = 8\n",
    "    pmode = 1 #mode of varying the parameters. OAAT. \n",
    "    #how many members are in the ensemble?\n",
    "    sp=1 #are we using SP mode?\n",
    "    ncases=nparams*2\n",
    "    min_delta=[0.5,   0.01,0.75, 0.75, 0.75,0.75, 0.25, 1.1]\n",
    "    max_delta=[1/0.85,1.4 ,1.25, 1.25, 1.25,1.25, 0.5, 1.25]\n",
    "    abs0_rel1 = [1, 1, 1, 1, 1, 1, 1]\n",
    "    \n",
    "# ensemble 2 is to look at a range of absolute values of xl\n",
    "if(n == 2):\n",
    "    pvalue=[-0.99, -0.75, -0.5, -0.25, 0, 0.25, 0.5, 0.75, 0.99]\n",
    "    ncases = 8 #(this is zero indexed)\n",
    "    parameter_list=['fates_rad_leaf_xl']\n",
    "    pmode = 2 #just vary this one parameter. \n",
    "    parameter_label=['leaf_xl']\n",
    "    sp=1 #are we using SP mode\n",
    "    abs0_rel1 = [1]\n",
    "    \n",
    "if(n == 3):\n",
    "    parameter_list='fates_vai_top_bin_width','fates_vai_width_increase_factor'\n",
    "    parameter_label=['top_bin_width','width_increase_factor']\n",
    "    pvalue1=[1, 1, 1, 1,\n",
    "             0.5,  0.5, 0.5, 0.5,\n",
    "             0.2, 0.2, 0.2, 0.2,\n",
    "             0.1, 0.1, 0.1, 0.1,\n",
    "             0.05, 0.05, 0.05, 0.05]\n",
    "    pvalue2=[1.0, 1.1, 1.2, 1.3,\n",
    "             1.0, 1.1, 1.2, 1.3,\n",
    "             1.0, 1.1, 1.2, 1.3,\n",
    "             1.0, 1.1, 1.2, 1.3,\n",
    "             1.0, 1.1, 1.2, 1.3]\n",
    "    ncases = 19 # not sure why this is n-1 but it is.     \n",
    "    pmode = 3 # vary in an array\n",
    "    abs0_rel1 = [0, 0] # how to modify the parameters. \n",
    "    parameter_label=['bin_wid', 'inc_f']\n",
    "    sp=1 #are we using SP mode?\n",
    "\n",
    "if(n==4):\n",
    "    parameter_list=['fates_rad_leaf_clumping_index','fates_rad_leaf_xl',\n",
    "                'fates_rad_leaf_rhovis','fates_rad_stem_rhovis',\n",
    "                'fates_rad_leaf_tauvis','fates_rad_stem_tauvis']\n",
    "    parameter_label=['clumping_index','leaf_xl',\n",
    "                'leaf_rhovis','stem_rhovis',\n",
    "                'leaf_tauvis','stem_tauvis' ]\n",
    "    nparams = 6\n",
    "    pmode = 1 #OAAT. \n",
    "    #how many members are in the ensemble?\n",
    "    sp=1 #are we using SP mode?\n",
    "    ncases=nparams*2\n",
    "    min_delta=[0.5,   0.01,0.75, 0.75, 0.75,0.75, 0.25, 1.1]\n",
    "    max_delta=[1/0.85,1.4 ,1.25, 1.25, 1.25,1.25, 0.5, 1.25]\n",
    "    abs0_rel1 = [1, 1, 1, 1, 1, 1, 1]\n",
    "\n",
    "    print(parameter_list)  \n",
    "\n",
    "if(n == 5):\n",
    "    parameter_list='fates_leaf_vcmax25top','fates_leaf_stomatal_slope_ballberry'\n",
    "    parameter_label=['vcmax_top','BB slope']\n",
    "    pvalue1=[0.6, 0.6, 0.6, 0.6, 0.6,\n",
    "             0.8, 0.8, 0.8, 0.8, 0.8,\n",
    "             1.0, 1.0, 1.0, 1.0, 1.0,\n",
    "             1.2, 1.2, 1.2, 1.2, 1.2,\n",
    "             1.4, 1.4, 1.4, 1.4, 1.4]\n",
    "    pvalue2=[0.6, 0.8, 1.0, 1.2, 1.4,\n",
    "             0.6, 0.8, 1.0, 1.2, 1.4,\n",
    "             0.6, 0.8, 1.0, 1.2, 1.4,\n",
    "             0.6, 0.8, 1.0, 1.2, 1.4,\n",
    "             0.6, 0.8, 1.0, 1.2, 1.4]\n",
    "    ncases = 24 # n-1 to account for zero indexing.     \n",
    "    pmode = 3 #vary in an array\n",
    "    sp=1 #are we using SP mode?\n",
    "    abs0_rel1 = [1, 1]\n",
    "\n",
    "# redo leaf layering ensemble where clumping == 1 \n",
    "if(n == 6): \n",
    "    parameter_list='fates_vai_top_bin_width','fates_vai_width_increase_factor'\n",
    "    parameter_label=['top_bin_width','width_increase_factor']\n",
    "    pvalue1=[1, 1, 1, 1,\n",
    "             0.5,  0.5, 0.5, 0.5,\n",
    "             0.2, 0.2, 0.2, 0.2,\n",
    "             0.1, 0.1, 0.1, 0.1,\n",
    "             0.05, 0.05, 0.05, 0.05]\n",
    "    pvalue2=[1.0, 1.1, 1.2, 1.3,\n",
    "             1.0, 1.1, 1.2, 1.3,\n",
    "             1.0, 1.1, 1.2, 1.3,\n",
    "             1.0, 1.1, 1.2, 1.3,\n",
    "             1.0, 1.1, 1.2, 1.3]\n",
    "    ncases = 19 # not sure why this is n-1 but it is.     \n",
    "    pmode = 3 # vary in an array\n",
    "    abs0_rel1 = [0, 0] # how to modify the parameters. \n",
    "    parameter_label=['bin_wid', 'inc_f']\n",
    "    sp=1 #are we using SP mode?\n"
   ]
  },
  {
   "cell_type": "markdown",
   "metadata": {},
   "source": [
    "#### INITIALISE: Import libraries"
   ]
  },
  {
   "cell_type": "code",
   "execution_count": null,
   "metadata": {},
   "outputs": [],
   "source": [
    "import os\n",
    "import netCDF4 as nc4\n",
    "import sys\n",
    "import shutil\n",
    "import numpy as np\n",
    "import warnings\n",
    "warnings.filterwarnings('ignore')\n",
    "import xarray as xr\n",
    "from matplotlib import pyplot as plt\n",
    "#import datetime"
   ]
  },
  {
   "cell_type": "markdown",
   "metadata": {},
   "source": [
    "#### INITIALISE: Set pathnames for parameter directories and casenames."
   ]
  },
  {
   "cell_type": "code",
   "execution_count": null,
   "metadata": {},
   "outputs": [],
   "source": [
    "# what is your clone of the ctsm repo called? (or you want it to be called?) \n",
    "ctsmrepo='ctsmsep22'\n",
    "\n",
    "#what do you want the directory with the ensemble cases in to be called?\n",
    "ens_directory='RTM_ens'+str(n)\n",
    "\n",
    "#what do you want the case names to begin with?\n",
    "caseroot=ens_directory+'_case_'\n",
    "\n",
    "USER='rfisher'\n",
    "\n",
    "#path to scratch (or where the model is built.)\n",
    "output_dir='/glade/scratch/'+USER+'/'\n",
    "\n",
    "#where are we now?\n",
    "notebookdr=os.getcwd() \n",
    "\n",
    "# git directory. aka where do you want the code and scripts to live?\n",
    "gitpath = '/glade/work/'+USER+'/'\n",
    "\n",
    "# some more derived path names to simplify latter scripts\n",
    "scriptsdir=gitpath+'/git/'+ctsmrepo+'/cime/scripts/'\n"
   ]
  },
  {
   "cell_type": "markdown",
   "metadata": {},
   "source": [
    "#### INITIALISE: SP/NOCOMP specific paths to default case/param files"
   ]
  },
  {
   "cell_type": "code",
   "execution_count": null,
   "metadata": {},
   "outputs": [],
   "source": [
    "if(sp == 1): #Settings for the SP ensemble.\n",
    "    resub=0 #how many times to resubmit the model. \n",
    "\n",
    "    #what is the name of your 'basecase'?\n",
    "    defcase='fates_crops_smo_minlai_opt_vcmax50'\n",
    "    \n",
    "    #what is the base parameter file called?\n",
    "    paramfiledefault='fates_params_default.nc'    \n",
    "\n",
    "else: #Settings for the NOCOMP ensemble. \n",
    "    resub=2 #how many times do we want to resubmit the job?\n",
    "    \n",
    "    #what is the name of your 'basecase'?\n",
    "    defcase='SPdefault_sept'\n",
    "    \n",
    "    #what is the base parameter file called?\n",
    "    paramfiledefault='fates_params_default.nc'   \n",
    "    \n",
    "#set up the parameter file paths even if not in 'setup' mode\n",
    "paramsdir = scriptsdir+'/'+ens_directory+'/parameter_files'\n",
    "defparamdir = gitpath+'/git/'+ctsmrepo+'/src/fates/parameter_files/'\n",
    "\n",
    "#case charecteristics\n",
    "compset='2000_DATM%GSWP3v1_CLM50%FATES_SICE_SOCN_MOSART_SGLC_SWAV_SESP'\n",
    "resolution = 'f45_f45_mg37'"
   ]
  },
  {
   "cell_type": "markdown",
   "metadata": {},
   "source": [
    "#### INITIALISE: Make a function that creates directories if they don't already exist"
   ]
  },
  {
   "cell_type": "code",
   "execution_count": null,
   "metadata": {},
   "outputs": [],
   "source": [
    "def make_directory(fileroot):   \n",
    "    if(os.path.isdir(fileroot)):\n",
    "        print('dir exists:'+fileroot)\n",
    "    else:\n",
    "        os.mkdir(fileroot)\n",
    "        print('made: '+fileroot)"
   ]
  },
  {
   "cell_type": "markdown",
   "metadata": {},
   "source": [
    "#### SETUP: Make a git repo if needed. "
   ]
  },
  {
   "cell_type": "code",
   "execution_count": null,
   "metadata": {},
   "outputs": [],
   "source": [
    "make_directory(gitpath+'git')"
   ]
  },
  {
   "cell_type": "markdown",
   "metadata": {},
   "source": [
    "#### SETUP: Clone CTSM repo (if necessary). BASH"
   ]
  },
  {
   "cell_type": "code",
   "execution_count": null,
   "metadata": {},
   "outputs": [],
   "source": [
    "%%bash -s \"$ctsmrepo\" \"$dosetup\"\n",
    "ctsmrepo=$1\n",
    "dosetup=$2\n",
    "\n",
    "if [ $dosetup -eq 1 ]\n",
    "then\n",
    "cd /glade/work/$USER/git\n",
    "#go to git directory\n",
    "pwd\n",
    "#go to git repo, or checkout code\n",
    "if [[ -d \"$ctsmrepo\" ]]\n",
    "then\n",
    "cd $ctsmrepo\n",
    "echo \"Already have ctsm repo\"\n",
    "else\n",
    "echo \"Cloning ctsm\"\n",
    "#clone CTSM code if you didn't to this already. \n",
    "git clone https://github.com/escomp/ctsm $ctsmrepo\n",
    "cd $ctsmrepo\n",
    "./manage_externals/checkout_externals\n",
    "cd src\n",
    "fi\n",
    "fi\n"
   ]
  },
  {
   "cell_type": "markdown",
   "metadata": {},
   "source": [
    "#### SETUP: Make a default FATES 4x5 case BASH "
   ]
  },
  {
   "cell_type": "code",
   "execution_count": null,
   "metadata": {},
   "outputs": [],
   "source": [
    "create_command='./create_newcase --case '+defcase+' --compset '+compset+' --res '+resolution+' --run-unsupported'\n",
    "print(create_command)\n",
    "if(dosetup == 1):\n",
    "    os.chdir(scriptsdir)\n",
    "    if(os.path.isdir(defcase)):\n",
    "        print(\"defcase exists on your filesystem.\")\n",
    "    else:\n",
    "        print(\"making defcase.\",defcase)         \n",
    "        os.system(create_command+' ')\n",
    "        os.chdir(defcase)\n",
    "        os.system('./case.setup')\n",
    "        os.system('./case.build')\n",
    "os.chdir(notebookdr)"
   ]
  },
  {
   "cell_type": "markdown",
   "metadata": {},
   "source": [
    "#### SETUP: Adjust settings of default case.  "
   ]
  },
  {
   "cell_type": "code",
   "execution_count": null,
   "metadata": {},
   "outputs": [],
   "source": [
    "os.chdir(scriptsdir+defcase)\n",
    "print('updating settings')\n",
    "os.system('./xmlchange CONTINUE_RUN=FALSE')\n",
    "os.system('./xmlchange --id STOP_N --val 3')\n",
    "os.system('./xmlchange --id STOP_OPTION --val nyears')\n",
    "os.system('./xmlchange --id CLM_FORCE_COLDSTART --val on')\n",
    "os.chdir(notebookdr)\n",
    "print('done with xmlchanges')"
   ]
  },
  {
   "cell_type": "markdown",
   "metadata": {},
   "source": [
    "#### SETUP: Make ensemble and parameter directory"
   ]
  },
  {
   "cell_type": "code",
   "execution_count": null,
   "metadata": {},
   "outputs": [],
   "source": [
    "make_directory(scriptsdir+ens_directory)\n",
    "make_directory(scriptsdir+ens_directory+'/parameter_files' )"
   ]
  },
  {
   "cell_type": "markdown",
   "metadata": {},
   "source": [
    "#### SETUP: Make ensemble of CLM cases BASH"
   ]
  },
  {
   "cell_type": "code",
   "execution_count": null,
   "metadata": {},
   "outputs": [],
   "source": [
    "%%capture\n",
    "%%bash -s \"$scriptsdir\" \"$defcase\" \"$dosetup\" \"$ens_directory\" \"$caseroot\" \"$ncases\" \"$forcenewcase\"\n",
    "\n",
    "scriptsdir=$1\n",
    "defcase=$2\n",
    "dosetup=$3\n",
    "ens_directory=$4\n",
    "caseroot=$5\n",
    "ncases=$6\n",
    "forcenewcase=$7\n",
    "\n",
    "echo \"ncases=\" $ncases\n",
    "echo \"caseroot=\" $caseroot\n",
    "echo \"dosetup=\" $dosetup\n",
    "echo \"forcenewcase=\" $forcenewcase\n",
    "echo \"ens_directory=\" $ens_directory\n",
    "\n",
    "if [[ $dosetup -eq 1 ]]\n",
    "then\n",
    "cd $scriptsdir\n",
    "\n",
    "counter1=0 #include a default zero case. \n",
    "while [ $counter1 -le $ncases  ]\n",
    "do\n",
    "  newcase=$caseroot$counter1 #name of ensemble membr case.    \n",
    "  if [ -d $ens_directory/$newcase ]\n",
    "  then\n",
    "    echo ' new case already exists',$ens_directory/$newcase\n",
    "    if [ $forcenewcase -eq 1 ]\n",
    "    then\n",
    "    echo 'force making case', $ens_directory/$newcase\n",
    "    rm -rf $ens_directory/$newcase\n",
    "    ./create_clone --clone $defcase --case $ens_directory/$newcase ;\n",
    "    cd $ens_directory/$newcase\n",
    "    echo 'case setup', $ens_directory/$newcase\n",
    "    ./case.setup;\n",
    "     cd ../../ \n",
    "    fi    \n",
    "  else\n",
    "   echo 'making new case', $ens_directory/$newcase\n",
    "    ./create_clone --clone $defcase --case $ens_directory/$newcase ;\n",
    "    cd $ens_directory/$newcase\n",
    "    echo 'case setup', $ens_directory/$newcase\n",
    "    ./case.setup;\n",
    "    cd ../../ \n",
    "  fi\n",
    "((counter1++))\n",
    "done\n",
    "\n",
    "fi"
   ]
  },
  {
   "cell_type": "markdown",
   "metadata": {},
   "source": [
    "#### SETUP: Create/ncgen a .nc version of current default (.cdl) file. "
   ]
  },
  {
   "cell_type": "code",
   "execution_count": null,
   "metadata": {},
   "outputs": [],
   "source": [
    "if(dosetup == 1): \n",
    "    newfilenc=defparamdir+'fates_params_default.nc'\n",
    "    template_cdl=defparamdir+'fates_params_default.cdl'\n",
    "\n",
    "    if(os.path.isfile(newfilenc)):\n",
    "       os.remove(newfilenc)    \n",
    "    os.system('ncgen '+template_cdl+' -o '+newfilenc)\n",
    "    os.listdir(defparamdir)"
   ]
  },
  {
   "cell_type": "markdown",
   "metadata": {},
   "source": [
    "#### SETUP: Copy default template parameter file to ensemble parameter directory"
   ]
  },
  {
   "cell_type": "code",
   "execution_count": null,
   "metadata": {},
   "outputs": [],
   "source": [
    "if(dosetup == 1): \n",
    "    filename_template = paramsdir+'/'+paramfiledefault\n",
    "    print(filename_template)\n",
    "    if(os.path.isfile(filename_template)):\n",
    "       os.remove(filename_template)    \n",
    "    shutil.copy(newfilenc,filename_template)"
   ]
  },
  {
   "cell_type": "markdown",
   "metadata": {},
   "source": [
    "#### SETUP: Make a default user_nl_clm file"
   ]
  },
  {
   "cell_type": "code",
   "execution_count": null,
   "metadata": {},
   "outputs": [],
   "source": [
    "if (dosetup == 1 ):\n",
    "    defcasedir = scriptsdir+'/'+defcase #where is the vanilla file?\n",
    "    os.chdir(defcasedir) #go to the def case dir\n",
    "\n",
    "    if(os.path.isfile('user_nl_clm_default')):\n",
    "        #squash the existing default file\n",
    "        os.remove('user_nl_clm_default')\n",
    "    else:    \n",
    "        #move the vanilla version to the default version\n",
    "        shutil.copy(user_nl_clm, user_nl_clm_default)"
   ]
  },
  {
   "cell_type": "markdown",
   "metadata": {},
   "source": [
    "#### SETUP: Write configuration and dummy parameter filename into defualt user_nl_clm file"
   ]
  },
  {
   "cell_type": "code",
   "execution_count": null,
   "metadata": {},
   "outputs": [],
   "source": [
    "if (dosetup == 1 ):   \n",
    "    f = open('user_nl_clm_default', 'a')\n",
    "    if (sp ==1): #change to SP mode. \n",
    "        f.write('use_fates_sp = true')\n",
    "        f.write('\\n')\n",
    "    f.write('fates_paramfile = \"nullparameterfile\"')\n",
    "    f.close()\n",
    "    # copy this 'fresh' default file into the ensemble directory. \n",
    "    shutil.copy('user_nl_clm_default', scriptsdir+'/'+ens_directory+'/user_nl_clm_default')\n",
    "    \n",
    "    #check what you made!\n",
    "    os.system(\"cat user_nl_clm_default\")\n",
    "    os.chdir(notebookdr)\n",
    "print('end')"
   ]
  },
  {
   "cell_type": "markdown",
   "metadata": {},
   "source": [
    "#### SETUP: Create ensemble of parameter files"
   ]
  },
  {
   "cell_type": "code",
   "execution_count": null,
   "metadata": {},
   "outputs": [],
   "source": [
    "if(dosetup == 1): \n",
    "    fatesparamfile= 'fates_params_'+ens_directory+'_'\n",
    "    vs=range(0,ncases+1) \n",
    "    print(vs)\n",
    "    for i in vs:\n",
    "        filename_out = paramsdir+'/'+fatesparamfile+str(i)+'.nc' \n",
    "        #print('make:'+filename_out)\n",
    "        try:\n",
    "            os.remove(filename_out)\n",
    "        except:\n",
    "            print('file does not yet exist: '+filename_out)\n",
    "        shutil.copy(filename_template,filename_out)\n",
    "print('end')"
   ]
  },
  {
   "cell_type": "markdown",
   "metadata": {},
   "source": [
    "#### SETUP: Make function to modify FATES parameter files. "
   ]
  },
  {
   "cell_type": "code",
   "execution_count": null,
   "metadata": {},
   "outputs": [],
   "source": [
    "def def_pftfile( fileroot,i,variable,abs_rel,delta):   \n",
    "    pfilename = fileroot+str(i)+'.nc' \n",
    "    fin = nc4.Dataset(pfilename, 'r+')\n",
    "    print('modifying parameter file',i,variable,delta);\n",
    "    var = fin.variables[variable]\n",
    "    if(abs_rel == 1): #relative peturbation\n",
    "        var[:] = var[:]*delta\n",
    "    if(abs_rel == 0): #absolute peturbation\n",
    "        var[:] = var[:]*0+delta\n",
    "\n",
    "    fin.close()"
   ]
  },
  {
   "cell_type": "markdown",
   "metadata": {
    "tags": []
   },
   "source": [
    "#### SETUP: Modify parameter files (one at a time)"
   ]
  },
  {
   "cell_type": "code",
   "execution_count": null,
   "metadata": {},
   "outputs": [],
   "source": [
    "if(dosetup == 1): \n",
    "    fileroot =  paramsdir+'/'+fatesparamfile\n",
    "    print(n)\n",
    "    if(pmode == 1): #OAAT\n",
    "        for p in range(0,nparams):\n",
    "            def_pftfile(fileroot,p*2+1,parameter_list[p],abs0_rel1[p],min_delta[p])\n",
    "            def_pftfile(fileroot,p*2+2,parameter_list[p],abs0_rel1[p],max_delta[p])\n",
    "\n",
    "    if(pmode == 2): #single p variation. \n",
    "        for i in vs:\n",
    "            def_pftfile(fileroot,i,parameter_list[0],abs0_rel1[p],pvalue[i])\n",
    "\n",
    "    if(pmode == 3): #vary in a 2D array. \n",
    "        for i in vs:\n",
    "            def_pftfile(fileroot,i,parameter_list[0],abs0_rel1[0],pvalue1[i])\n",
    "            def_pftfile(fileroot,i,parameter_list[1],abs0_rel1[1],pvalue2[i])\n",
    "\n",
    "    if(n ==4 | n ==5): #Modify the background leaf lavel parameers.\n",
    "        for i in vs:\n",
    "            def_pftfile(fileroot,i,'fates_vai_width_increase_factor',0,1.1)\n",
    "            def_pftfile(fileroot,i,'fates_vai_top_bin_width',0,0.1)\n",
    "\n",
    "    if(n == 5 or n == 6 ): #Set the clumping factor to 1. \n",
    "        for i in vs:\n",
    "            def_pftfile(fileroot,i,'fates_rad_leaf_clumping_index',0,1.0)\n",
    "            "
   ]
  },
  {
   "cell_type": "markdown",
   "metadata": {},
   "source": [
    "#### SETUP: Point each ensemble script at different parameter file"
   ]
  },
  {
   "cell_type": "code",
   "execution_count": null,
   "metadata": {},
   "outputs": [],
   "source": [
    "if(dosetup == 1): \n",
    "    root= scriptsdir+'/'+ens_directory+'/'\n",
    "    vs=range(0,ncases+1) \n",
    "    print('paramsdir=',paramsdir)\n",
    "    for i in vs:\n",
    "        pftfilename = paramsdir+'/'+fatesparamfile+str(i)+'.nc'    \n",
    "        unlfile=root+caseroot+str(i)+'/'+'user_nl_clm'\n",
    "        defunl=scriptsdir+'/'+ens_directory+'/user_nl_clm_default' \n",
    "        #print('defult unl='+defunl)\n",
    "        #print('case unl='+unlfile)\n",
    "        shutil.copy(defunl,unlfile)\n",
    "        #print('unl='+unlfile)   \n",
    "        fin = open(unlfile, \"rt\")     \n",
    "        data = fin.read()   #read file contents to string   \n",
    "        data = data.replace('nullparameterfile',pftfilename) #replace all occurrences of the required string        \n",
    "        fin.close() #close the input file       \n",
    "        fin = open(unlfile, \"wt\") #open the input file in write mode     \n",
    "        fin.write(data) #overrite the input file with the resulting data       \n",
    "        fin.close() #close the file\n",
    "!cat '/glade/work/rfisher/git/ctsmsep22/cime/scripts//RTM_ens1/RTM_ens1_case_7/user_nl_clm'\n",
    "\n",
    "#### SETUP: Check parameter files were correctly modifed"
   ]
  },
  {
   "cell_type": "code",
   "execution_count": null,
   "metadata": {},
   "outputs": [],
   "source": [
    "if(dosetup == 1):\n",
    "    i=3\n",
    "    paramnum=0\n",
    "    pf= paramsdir+'/'+fatesparamfile+str(0)+'.nc' \n",
    "    print(pf)\n",
    "    find = nc4.Dataset(pf, 'r+')\n",
    "    vardef=find.variables[parameter_list[paramnum]]\n",
    "    pf= paramsdir+'/'+fatesparamfile+str(i)+'.nc' \n",
    "    print(pf)\n",
    "    finm = nc4.Dataset(pf, 'r+')\n",
    "    varmod=finm.variables[parameter_list[paramnum]]\n",
    "    if(pmode == 1):\n",
    "        print('actual ratio:',np.divide(varmod[:],vardef[:]))\n",
    "        print('target ratio:',min_delta[paramnum])\n",
    "    if(pmode == 2):\n",
    "        print('actual value:',varmod[:])\n",
    "        print(pvalue[i])\n",
    "    if(pmode == 3):\n",
    "        print('actual value:',varmod[:])\n",
    "        print(pvalue1[i])"
   ]
  },
  {
   "cell_type": "markdown",
   "metadata": {},
   "source": [
    "#### SUBMISSION: Submit ensemble of cases"
   ]
  },
  {
   "cell_type": "code",
   "execution_count": null,
   "metadata": {
    "tags": []
   },
   "outputs": [],
   "source": [
    "%%capture\n",
    "%%bash -s \"$scriptsdir\" \"$defcase\" \"$ens_directory\" \"$caseroot\" \"$ncases\" \"$dosubmit\" \n",
    "\n",
    "scriptsdir=$1\n",
    "defcase=$2\n",
    "ens_directory=$3\n",
    "caseroot=$4\n",
    "ncases=$5\n",
    "dosubmit=$6\n",
    "echo $dosubmit\n",
    "if [ $dosubmit -eq 1 ]\n",
    "then\n",
    "cd $scriptsdir\n",
    "\n",
    "echo 'submitting'\n",
    "startcase=0\n",
    "counter1=$startcase\n",
    "cd $ens_directory\n",
    "\n",
    "while [ $counter1 -le $ncases ]\n",
    "do\n",
    "  echo $counter1\n",
    "  newcase=$caseroot$counter1\n",
    "  echo $newcase\n",
    "\n",
    "  if [ -d $newcase ]\n",
    "  then\n",
    "    cd $newcase\n",
    "    cat user_nl_clm\n",
    "    echo 'submitting job',$newcase\n",
    "    ./xmlchange BUILD_COMPLETE=TRUE\n",
    "    #./xmlchange RESUBMIT=1\n",
    "   # ./xmlchange PROJECT=P93300041\n",
    "    ./case.submit\n",
    "    cd ../\n",
    "  else\n",
    "   echo 'no case', $newcase\n",
    "  fi\n",
    "\n",
    "  ((counter1++))\n",
    "  done\n",
    "else\n",
    "echo \"not submitting jobs\"\n",
    "fi"
   ]
  },
  {
   "cell_type": "markdown",
   "metadata": {},
   "source": [
    "#### check progress of jobs\n"
   ]
  },
  {
   "cell_type": "code",
   "execution_count": null,
   "metadata": {},
   "outputs": [],
   "source": [
    "rund=output_dir+caseroot+str(17)+'/run'\n",
    "print(rund)\n",
    "os.system('ls -lrt '+rund)"
   ]
  },
  {
   "cell_type": "markdown",
   "metadata": {},
   "source": [
    "<h2>Analyse output</h2>"
   ]
  },
  {
   "cell_type": "markdown",
   "metadata": {},
   "source": [
    "### Paths for analysis"
   ]
  },
  {
   "cell_type": "code",
   "execution_count": null,
   "metadata": {},
   "outputs": [],
   "source": [
    "if doanalysis ==1: \n",
    "    output='/glade/scratch/rfisher/'\n",
    "    conv = 3600*24*365\n",
    "    yr='.clm2.h0.'   \n",
    "    ychoose=2000\n",
    "    delta=1\n",
    "    print('ychoose=', ychoose)\n",
    "    rel=1"
   ]
  },
  {
   "cell_type": "markdown",
   "metadata": {},
   "source": [
    "#### ANALYSIS: Choose variables to read in"
   ]
  },
  {
   "cell_type": "code",
   "execution_count": null,
   "metadata": {},
   "outputs": [],
   "source": [
    "vars=['FATES_GPP','FSR','SABV','SABG','EFLX_LH_TOT','FSH','lat','lon','time']"
   ]
  },
  {
   "cell_type": "markdown",
   "metadata": {},
   "source": [
    " #### ANALYSIS: Make output figure directory"
   ]
  },
  {
   "cell_type": "code",
   "execution_count": null,
   "metadata": {},
   "outputs": [],
   "source": [
    "figpath = (notebookdr+'/'+ 'figs_'+ens_directory+'/')\n",
    "make_directory(figpath)"
   ]
  },
  {
   "cell_type": "markdown",
   "metadata": {},
   "source": [
    "####  ANALYSIS: Make a single data structure for the ensemble"
   ]
  },
  {
   "cell_type": "code",
   "execution_count": 2,
   "metadata": {},
   "outputs": [
    {
     "ename": "NameError",
     "evalue": "name 'output_dir' is not defined",
     "output_type": "error",
     "traceback": [
      "\u001b[0;31m---------------------------------------------------------------------------\u001b[0m",
      "\u001b[0;31mNameError\u001b[0m                                 Traceback (most recent call last)",
      "Input \u001b[0;32mIn [2]\u001b[0m, in \u001b[0;36m<cell line: 1>\u001b[0;34m()\u001b[0m\n\u001b[0;32m----> 1\u001b[0m \u001b[38;5;28mprint\u001b[39m(\u001b[43moutput_dir\u001b[49m)\n\u001b[1;32m      2\u001b[0m \u001b[38;5;28;01mif\u001b[39;00m doanalysis \u001b[38;5;241m==\u001b[39m\u001b[38;5;241m1\u001b[39m:\n\u001b[1;32m      3\u001b[0m     debug\u001b[38;5;241m=\u001b[39m\u001b[38;5;241m1\u001b[39m\n",
      "\u001b[0;31mNameError\u001b[0m: name 'output_dir' is not defined"
     ]
    }
   ],
   "source": [
    "print(output_dir)\n",
    "if doanalysis ==1:\n",
    "    debug=1\n",
    "    hstring='.clm2.h0.'\n",
    "    vs=range(0,ncases+1)\n",
    "    count=1\n",
    "    print(caseroot)\n",
    "    print(vs)\n",
    "    missing=range(0,ncases+1)\n",
    "    missing=np.multiply(missing,0)\n",
    "    for i in vs:       \n",
    "        run=caseroot+str(i)\n",
    "        os.listdir(output_dir + '/archive')\n",
    "        arc = output_dir + 'archive/' + run + '/lnd/hist/' \n",
    "        #arc = output_dir + '/' + run+'/'\n",
    "        hpath = arc\n",
    "        tfile = run+hstring+str(ychoose)+'-02.nc'\n",
    "        if(os.path.isdir(hpath)): \n",
    "            if(os.path.isfile(hpath+tfile)): \n",
    "                if debug == 1 :print('file in archive')\n",
    "                missing[i]=0\n",
    "            else:\n",
    "                if debug == 1 :print('file not in archive',hpath+tfile)\n",
    "        else:\n",
    "            if(debug == 1):print('no archive')\n",
    "            hpath = output_dir + run + '/run/'            \n",
    "            if(os.path.isdir(hpath)): \n",
    "                print('is rundir',hpath)                \n",
    "                if(os.path.isfile(hpath+tfile)):\n",
    "                    if debug == 1 :print('file in  rundir')\n",
    "                    missing[i]=0\n",
    "                else:\n",
    "                    print('no file in  rundir',hpath+tfile)\n",
    "                    missing[i]=1\n",
    "            else:\n",
    "                print('no  rundir',hpath)\n",
    "        if(missing[i]==0):\n",
    "            allvars=list(xr.open_dataset(hpath+tfile, decode_times=False).variables)\n",
    "            dropvars=list(set(allvars) - set(vars)) #thanks to Ben for figuring this part out :) \n",
    "            print('file'+str(i)+' ='+hpath+tfile)\n",
    "            tmp=xr.open_mfdataset(hpath+tfile, decode_times=False, drop_variables=dropvars)\n",
    "\n",
    "        if i==0:\n",
    "            try: \n",
    "                del dsc\n",
    "            except:\n",
    "                print('no dsc')\n",
    "            dsc = tmp           \n",
    "        else:\n",
    "            dsc=xr.concat([dsc,tmp],'ens')\n",
    "\n",
    "print('end')"
   ]
  },
  {
   "cell_type": "markdown",
   "metadata": {},
   "source": [
    "####  ANALYSIS: Save data in netcdf file just incase"
   ]
  },
  {
   "cell_type": "code",
   "execution_count": null,
   "metadata": {},
   "outputs": [],
   "source": [
    "#outfile=figpath+'/dataout.nc' \n",
    "#dsc.to_netcdf(outfile)\n",
    "#os.listdir(figpath)"
   ]
  },
  {
   "cell_type": "markdown",
   "metadata": {},
   "source": [
    "####  ANALYSIS:  Make a function to plot relative differences between runs"
   ]
  },
  {
   "cell_type": "code",
   "execution_count": null,
   "metadata": {},
   "outputs": [],
   "source": [
    "def make_diff_figure(dsc,v,rel,conv,ncases,pmode,vlim,parameter_list):   \n",
    "    fig = plt.figure()\n",
    "    if(pmode == 1):\n",
    "        plt.rcParams['figure.figsize'] = [27,7]\n",
    "    if(pmode == 2):\n",
    "        plt.rcParams['figure.figsize'] = [17,7]\n",
    "    if(pmode == 3):\n",
    "        plt.rcParams['figure.figsize'] = [12,10]\n",
    "    fig.subplots_adjust(hspace=0.3, wspace=0.2)\n",
    "    vs=range(0,ncases+1)\n",
    "    if(pmode == 3):\n",
    "        nrow=5\n",
    "    else:\n",
    "        nrow=2\n",
    "    ncol=(ncases+1) // nrow\n",
    "    count=1\n",
    "    var_0=dsc[vars[v]].isel(ens=12)\n",
    "    defm=np.multiply(np.mean(var_0,0),conv)\n",
    "    print(vs)\n",
    "    for i in vs:\n",
    "        # organize plots depending on whether this is a OAAT or ensemble analysis \n",
    "        index=((count+1) % nrow)*ncol + ((count+1) // nrow)\n",
    "        #print('i '+str(i))\n",
    "        p=((count+1) // nrow)-1\n",
    "        if(pmode == 3):index = i+1\n",
    "        var_i=dsc[vars[v]].isel(ens=i)\n",
    "        var_i=dsc[vars[v]].isel(ens=i) \n",
    "        mod=np.multiply(np.mean(var_i,0),conv)\n",
    "        delt=mod-defm\n",
    "        if(pmode == 1):\n",
    "            if((count+1) % 2==0):\n",
    "                ex=' x'+str(min_delta[p])\n",
    "            else:\n",
    "                ex=' x'+str(max_delta[p])\n",
    "        if(pmode == 2):\n",
    "            ex = ' x'+str(pvalue[i])\n",
    "        if(pmode == 3):\n",
    "            ex0 = ' ='+str(pvalue1[i])\n",
    "            ex1 = ' ='+str(pvalue2[i])\n",
    "        ax = fig.add_subplot(nrow, ncol, index)\n",
    "        if(missing[i]==1):\n",
    "            print('missing plot',i)\n",
    "            \n",
    "        else:         \n",
    "            plt1=delt.plot(cmap='RdYlBu',vmin=-vlim,vmax=vlim)\n",
    "                  \n",
    "            ax.get_xaxis().set_visible(False)\n",
    "            ax.get_yaxis().set_visible(False)\n",
    "        if pmode == 1 :ax.set_title(str(parameter_label[(((count+1) // 2))-1]+ex))\n",
    "        if pmode == 2 : ax.set_title(str(parameter_label[0]+ex))\n",
    "        if pmode == 3 : ax.set_title(parameter_label[0]+str(ex0)+' '+parameter_label[1]+str(ex1))\n",
    "\n",
    "        count=count+1\n",
    "        fig.canvas.draw()\n",
    "       # time.sleep(1) \n",
    "        figname = figpath+ens_directory+vars[v]+'.png'\n",
    "    print(figname)\n",
    "    plt.savefig(figname)\n",
    "    \n",
    "          "
   ]
  },
  {
   "cell_type": "markdown",
   "metadata": {},
   "source": [
    "### ANALYSIS: Plot model ensemble output"
   ]
  },
  {
   "cell_type": "code",
   "execution_count": null,
   "metadata": {},
   "outputs": [],
   "source": [
    "conv=1;vlim=1\n",
    "if doanalysis ==1:\n",
    "    make_diff_figure(dsc,0,rel,3600*365*24,ncases,pmode,vlim,parameter_list)"
   ]
  },
  {
   "cell_type": "code",
   "execution_count": null,
   "metadata": {},
   "outputs": [],
   "source": [
    "conv=1;vlim=8\n",
    "if doanalysis ==1:\n",
    "    make_diff_figure(dsc,1,rel,conv,ncases,pmode,vlim,parameter_list)"
   ]
  },
  {
   "cell_type": "code",
   "execution_count": null,
   "metadata": {},
   "outputs": [],
   "source": [
    "conv=1;vlim=10\n",
    "if doanalysis ==1:\n",
    "    make_diff_figure(dsc,2,rel,conv,ncases,pmode,vlim,parameter_list)"
   ]
  },
  {
   "cell_type": "code",
   "execution_count": null,
   "metadata": {},
   "outputs": [],
   "source": [
    "conv=1;vlim=5\n",
    "if doanalysis ==1:\n",
    "    make_diff_figure(dsc,3,rel,conv,ncases,pmode,vlim,parameter_list)"
   ]
  },
  {
   "cell_type": "code",
   "execution_count": null,
   "metadata": {},
   "outputs": [],
   "source": [
    "conv=1;vlim=2.5\n",
    "if doanalysis ==1:\n",
    "    make_diff_figure(dsc,4,rel,conv,ncases,pmode,vlim,parameter_list)"
   ]
  },
  {
   "cell_type": "code",
   "execution_count": null,
   "metadata": {},
   "outputs": [],
   "source": [
    "conv=1;vlim=3.5\n",
    "if doanalysis ==1:\n",
    "    make_diff_figure(dsc,5,rel,conv,ncases,pmode,vlim,parameter_list)"
   ]
  },
  {
   "cell_type": "markdown",
   "metadata": {},
   "source": [
    "#### ILAMB: Set up pathsfor ensemble"
   ]
  },
  {
   "cell_type": "code",
   "execution_count": null,
   "metadata": {},
   "outputs": [],
   "source": [
    "# where do you want to build the ILAMB data?\n",
    "# this needs more generalizing. \n",
    "build_dirname=ens_directory\n",
    "clm5_comp=1\n",
    "\n",
    "ilamb_path   ='/glade/work/rfisher/ilamb/ILAMB/MODELS/'\n",
    "build_path = ilamb_path+'/'+build_dirname+'/'+'_build2'\n",
    "\n",
    "#ILAMB config file\n",
    "config_file='ilamb_CLMFATES_SP.cfg'\n",
    "config_path='../ilamb_scripts/config_files/'+config_file\n",
    "\n",
    "#model setup path\n",
    "model_setup_file='model_setup_fatesrtm.txt'\n",
    "model_setup_path = '../ilamb_scripts/model_setup_files/'+ model_setup_file\n",
    "\n",
    "#write a new model setup file\n",
    "model_setup_path= 'model_setup_files/model_setup_'+ens_directory+'.txt'\n",
    "print(model_setup_path)\n",
    "\n",
    "#ILAMB regions file\n",
    "ilamb_regions='region_files/LandRegions.nc'\n",
    "print('ccwd='+os.getcwd())\n",
    "\n",
    "try:\n",
    "    os.remove(model_setup_path)\n",
    "except: \n",
    "    print(\"no setup file\")\n",
    "vs=range(0,ncases+1)\n",
    "modelarray = [\"dummylist\", \"dummylist\"]\n",
    "# Make list of all models in ensemble\n",
    "f = open(model_setup_path, \"w\")\n",
    "for i in vs:       \n",
    "    run=caseroot+str(i)\n",
    "    if(i==0):\n",
    "        if(clm5_comp==1):\n",
    "            run='CLM50-SP'\n",
    "    #models[i]=run\n",
    "    msu_line=run+' , /glade/scratch/'+USER+'/archive/'+run+'/lnd/hist/'+\" \"\n",
    "    if(i==0):\n",
    "        list_models=run\n",
    "        msu_list= msu_line\n",
    "    else:\n",
    "        list_models=list_models+\" \"+run\n",
    "        msu_list= msu_list + msu_line\n",
    "    modelarray.append(run) \n",
    "    f.write(msu_line)\n",
    "    f.write('\\n')\n",
    "#f = open(model_setup_path, \"w\")\n",
    "#f.writelines(msu_list)\n",
    "f.close()\n",
    "del modelarray[0:2]\n",
    "\n",
    "\n",
    "#model_setup_file='model_setup_fatesrtm3.txt'\n",
    "#model_setup_path = '../ilamb_scripts/model_setup_files/'+ model_setup_file\n",
    "#list_models='RTM_ens3_case_1 RTM_ens3_case_10 RTM_ens4_case_1'\n",
    "\n",
    "print('model config file='+ config_path)\n",
    "print('model setup path='+model_setup_path)\n",
    "print('ilamb_path='+ilamb_path)\n",
    "print('list_models='+list_models)\n",
    "print('build_path='+build_path)"
   ]
  },
  {
   "cell_type": "code",
   "execution_count": null,
   "metadata": {},
   "outputs": [],
   "source": [
    "#model_setup_path='model_setup_files/model_setup_RTM_ens6.txt'\n",
    "#models=['RTM_ens6_case_4','RTM_ens6_case_5','RTM_ens6_case_6']\n",
    "#list_models=models[0]+' '+models[1]+' '+models[2]\n",
    "#build_path='/glade/work/rfisher/ilamb/ILAMB/MODELS//fates_rtm/_build'"
   ]
  },
  {
   "cell_type": "markdown",
   "metadata": {},
   "source": [
    "model_setup_files/model_setup_RTM_ens3.txt\n",
    "ccwd=/glade/u/home/rfisher/fates-global-cal/ilamb_scripts\n",
    "model config file=../ilamb_scripts/config_files/ilamb_CLMFATES_SP.cfg\n",
    "model setup path=model_setup_files/model_setup_RTM_ens3.txt\n",
    "ilamb_path=/glade/work/rfisher/ilamb/ILAMB/MODELS/\n",
    "list_models=CLM50-SP RTM_ens3_case_1 RTM_ens3_case_2 RTM_ens3_case_3 RTM_ens3_case_4 RTM_ens3_case_5 RTM_ens3_case_6 RTM_ens3_case_7 RTM_ens3_case_8 RTM_ens3_case_9 RTM_ens3_case_10 RTM_ens3_case_11 RTM_ens3_case_12 RTM_ens3_case_13 RTM_ens3_case_14 RTM_ens3_case_15 RTM_ens3_case_16 RTM_ens3_case_17 RTM_ens3_case_18 RTM_ens3_case_19\n",
    "build_path=/glade/work/rfisher/ilamb/ILAMB/MODELS//RTM_ens3/_build"
   ]
  },
  {
   "cell_type": "markdown",
   "metadata": {},
   "source": [
    "### ILAMB: Submit ILAMB script (BASH)"
   ]
  },
  {
   "cell_type": "code",
   "execution_count": null,
   "metadata": {},
   "outputs": [],
   "source": [
    "%%bash -s \"$config_path\" \"$model_setup_path\" \"$ilamb_path\" \"$ilamb_regions\" \"$list_models\" \"$build_path\" \"$doilamb\"\n",
    "\n",
    "config_path=$1  \n",
    "model_setup_path=$2\n",
    "ilamb_path=$3\n",
    "ilamb_regions=$4\n",
    "list_models=$5\n",
    "build_path=$6\n",
    "doilamb=$7\n",
    "\n",
    "#PBS -N ilamb_diagnostics*\n",
    "#PBS -q regular\n",
    "#PBS -l select=4:ncpus=2:mpiprocs=2:mem=109GB\n",
    "#PBS -l walltime=12:00:00\n",
    "#PBS -A P93300041\n",
    "#PBS -j oe\n",
    "#PBS -k eod\n",
    "#PBS -m abe\n",
    "#PBS -M oleson@ucar.edu\n",
    "\n",
    "echo $config_path\n",
    "echo $model_setup_path\n",
    "echo $list_models\n",
    "echo $ilamb_path\n",
    "echo $build_path\n",
    "echo $doilamb\n",
    "\n",
    "#export BUILD_DIRNAME fates_rtm\n",
    "if [ $doilamb -eq 1 ]\n",
    "then\n",
    "#conda init bash\n",
    "source /glade/work/oleson/miniconda3/etc/profile.d/conda.sh\n",
    "\n",
    "export MPI_UNBUFFERED_STDIO=true\n",
    "export TMPDIR=$TMPDIR\n",
    "mkdir -p $TMPDIR\n",
    "\n",
    "conda activate ilamb\n",
    "export MPLBACKEND=Agg\n",
    "\n",
    "#do not delete this. \n",
    "export ILAMB_ROOT=/glade/p/cesm/lmwg_dev/oleson/ILAMB/ILAMB_all\n",
    "\n",
    "echo \"submitting ilamb\"\n",
    "#rosie modifications\n",
    "mpiexec_mpt dplace -s 1 ilamb-run --config $config_path \\\n",
    "--model_root $ilamb_path \\\n",
    "--models  $list_models \\\n",
    "--build_dir $build_path \\\n",
    "--define_regions $ilamb_regions \\\n",
    "--model_setup $model_setup_path \\\n",
    "--filter  .clm2.h0. \\\n",
    "--skip_plots \\\n",
    "--confrontation Albedo/CERES LatentHeat/GBAF GrossPrimaryProductivity/GBAF\n",
    "\n",
    "#>> ${log_filename} 2>&1\n",
    "\n",
    "fi"
   ]
  },
  {
   "cell_type": "markdown",
   "metadata": {},
   "source": [
    "#### Read in and plot ILAMB ensemble outputs "
   ]
  },
  {
   "cell_type": "markdown",
   "metadata": {},
   "source": [
    "#### ILAMB PLOTS: generic output plotter"
   ]
  },
  {
   "cell_type": "code",
   "execution_count": null,
   "metadata": {},
   "outputs": [],
   "source": [
    "def ensemble_bias(variable,vlc,vgroup,product_name,vmn,vmx):   \n",
    "   \n",
    "    fig = plt.figure()\n",
    "    output_pth=build_path+'/'+vgroup+'/'+variable+'/'+product_name+'/'\n",
    "    plt.rcParams['figure.figsize'] = [30,22]\n",
    "    vs=range(0,ncases+1)\n",
    "    arrscore = [None] * (ncases+1)\n",
    "    \n",
    "    for i in vs:\n",
    "        ifile = product_name+'_'+modelarray[i]+'.nc'\n",
    "        #ifile = product_name+'_'+caseroot+str(i)+'.nc'\n",
    "\n",
    "        \n",
    "        if(pmode == 3):\n",
    "            ex0 = ' ='+str(pvalue1[i])\n",
    "            ex1 = ' ='+str(pvalue2[i])\n",
    "        if pmode == 3 :\n",
    "             axtitle=parameter_label[0]+str(ex0)+' '+parameter_label[1]+str(ex1)\n",
    "        else:\n",
    "            axtitle=modelarray[i]\n",
    "        if(i==0):\n",
    "            axtitle=modelarray[i]\n",
    "        var= 'bias_map_of_'+vlc\n",
    "        filep=output_pth+ifile\n",
    "        try:\n",
    "            modelcmp=xr.open_dataset(filep, group='MeanState')\n",
    "            testv=modelcmp[var]\n",
    "            #print(np.max(np.max(testv)))\n",
    "            #testv.where(testv < 99999,nan)\n",
    "            tv = testv.where(testv<= 1e30, np.nan,3)\n",
    "            ax = fig.add_subplot(5,5, i+1)\n",
    "            tv.plot(cmap='RdYlBu',vmin=vmn,vmax=vmx)\n",
    "            ax.get_xaxis().set_visible(False)\n",
    "            ax.get_yaxis().set_visible(False)\n",
    "            arrscore[i]=tv.mean(skipna=True)\n",
    "            ax.set_title(axtitle)\n",
    "        except:\n",
    "            print(\"no data\"+str(i))\n",
    "            print(filep)\n",
    "    bfilep=output_pth+product_name+'_Benchmark.nc'\n",
    "    bmk=xr.open_dataset(bfilep, group='MeanState')\n",
    "#ax = fig.add_subplot(4,4, 4)\n",
    "#bmk.timeint_of_albedo.plot(vmin=0.1,vmax=0.3,cmap='Spectral')\n",
    "#ax.set_title('CERES albedo')\n",
    "    figname = figpath+'/'+variable+'_bias-'+caseroot+'.png'\n",
    "    print(figname)\n",
    "    plt.savefig(figname)\n",
    "   # print(arrscore)"
   ]
  },
  {
   "cell_type": "code",
   "execution_count": null,
   "metadata": {},
   "outputs": [],
   "source": [
    "filep='/glade/work/rfisher/ilamb/ILAMB/MODELS//RTM_ens5/_build/RadiationandEnergyCycle/Albedo/CERES/CERES_RTM_ens5_case_4.nc'\n",
    "modelcmp=xr.open_dataset(filep, group='MeanState')\n",
    "testv=modelcmp['bias_map_of_albedo']\n",
    "            #print(np.max(np.max(testv)))\n",
    "            #testv.where(testv < 99999,nan)\n",
    "tv = testv.where(testv<= 1e30, np.nan,3)\n",
    "arrscore = [None] * 10\n",
    "arrscore[1]=tv.mean(skipna=True)\n",
    "     "
   ]
  },
  {
   "cell_type": "markdown",
   "metadata": {},
   "source": [
    "#### ILAMB PLOTS: plot key variables"
   ]
  },
  {
   "cell_type": "code",
   "execution_count": null,
   "metadata": {},
   "outputs": [],
   "source": [
    "variable='Albedo'\n",
    "vlc='albedo'\n",
    "vgroup='RadiationandEnergyCycle'\n",
    "product_name='CERES'\n",
    "vmn=-0.05;vmx=0.12\n",
    "ensemble_bias(variable,vlc,vgroup,product_name,vmn,vmx)"
   ]
  },
  {
   "cell_type": "code",
   "execution_count": null,
   "metadata": {},
   "outputs": [],
   "source": [
    "variable='Albedo'\n",
    "vlc='albedo'\n",
    "vgroup='RadiationandEnergyCycle'\n",
    "product_name='GEWEX.SRB'\n",
    "vmn=-0.05;vmx=0.12\n",
    "ensemble_bias(variable,vlc,vgroup,product_name,vmn,vmx)"
   ]
  },
  {
   "cell_type": "code",
   "execution_count": null,
   "metadata": {},
   "outputs": [],
   "source": [
    "variable='LatentHeat'\n",
    "vlc='hfls'\n",
    "vgroup='HydrologyCycle'\n",
    "product_name='GBAF'\n",
    "vmn=-30;vmx=10\n",
    "ensemble_bias(variable,vlc,vgroup,product_name,vmn,vmx)"
   ]
  },
  {
   "cell_type": "code",
   "execution_count": null,
   "metadata": {},
   "outputs": [],
   "source": [
    "variable='GrossPrimaryProductivity'\n",
    "vlc='FPSN'\n",
    "vgroup='EcosystemandCarbonCycle'\n",
    "product_name='GBAF'\n",
    "vmn=-3;vmx=3\n",
    "ensemble_bias(variable,vlc,vgroup,product_name,vmn,vmx)"
   ]
  },
  {
   "cell_type": "markdown",
   "metadata": {},
   "source": [
    "### ILAMB: Read and plot score files"
   ]
  },
  {
   "cell_type": "code",
   "execution_count": 59,
   "metadata": {},
   "outputs": [
    {
     "name": "stdout",
     "output_type": "stream",
     "text": [
      "Variables\n",
      "CLM50-SP\n",
      "RTM_ens3_case_1\n",
      "RTM_ens3_case_2\n",
      "RTM_ens3_case_3\n",
      "RTM_ens3_case_4\n",
      "RTM_ens3_case_5\n",
      "RTM_ens3_case_6\n",
      "RTM_ens3_case_7\n",
      "RTM_ens3_case_8\n",
      "RTM_ens3_case_9\n",
      "RTM_ens3_case_10\n",
      "RTM_ens3_case_11\n",
      "RTM_ens3_case_12\n",
      "RTM_ens3_case_13\n",
      "RTM_ens3_case_14\n",
      "RTM_ens3_case_15\n",
      "RTM_ens3_case_16\n",
      "RTM_ens3_case_17\n",
      "RTM_ens3_case_18\n",
      "RTM_ens3_case_19\n",
      "RTM_ens3_case_0\n",
      "RTM_ens3_case_1\n",
      "RTM_ens3_case_2\n",
      "RTM_ens3_case_3\n",
      "RTM_ens3_case_4\n",
      "RTM_ens3_case_5\n",
      "RTM_ens3_case_6\n",
      "RTM_ens3_case_7\n",
      "RTM_ens3_case_8\n",
      "RTM_ens3_case_9\n",
      "RTM_ens3_case_10\n",
      "RTM_ens3_case_11\n",
      "RTM_ens3_case_12\n",
      "RTM_ens3_case_13\n",
      "RTM_ens3_case_14\n",
      "RTM_ens3_case_15\n",
      "RTM_ens3_case_16\n",
      "RTM_ens3_case_17\n",
      "RTM_ens3_case_18\n",
      "[0, 1, 2, 3, 4, 5, 6, 7, 8, 9, 10, 11, 12, 13, 14, 15, 16, 17, 18]\n",
      "[nan, 0.5551113350718154, 0.5549028328943733, 0.5548669105599743, 0.5594372495257106, 0.5589888586347277, 0.558621570588931, 0.5584284667041242, nan, 0.562536432684494, 0.5621556916062135, 0.5615154790844217, nan, 0.5635304660094939, 0.5631178241456927, 0.5625212983696184, nan, 0.5634388772726837, 0.5629391007499869]\n"
     ]
    },
    {
     "data": {
      "text/plain": [
       "<matplotlib.collections.PathCollection at 0x2b892a819970>"
      ]
     },
     "execution_count": 59,
     "metadata": {},
     "output_type": "execute_result"
    },
    {
     "data": {
      "image/png": "[encoded data removed]",
      "text/plain": [
       "<Figure size 432x288 with 1 Axes>"
      ]
     },
     "metadata": {
      "needs_background": "light"
     },
     "output_type": "display_data"
    }
   ],
   "source": [
    "import csv\n",
    "from matplotlib import pyplot as plt\n",
    "import pandas as pd\n",
    "\n",
    "scoresfile='/glade/work/rfisher/ilamb/ILAMB/MODELS/RTM_ens3/_build/scores.csv'      \n",
    "\n",
    "df = pd.read_csv(scoresfile)  \n",
    "#print(df)\n",
    "v = [None] *19\n",
    "alb=df.loc[8]\n",
    "df.dtypes\n",
    "data_top = df.head() \n",
    "#print(data_top)\n",
    "for col in df.columns:\n",
    "    print(col)\n",
    "list(df.columns)\n",
    "v[i]=float((df.loc[8]['RTM_ens3_case_1']))\n",
    "#print(v)\n",
    "#alb.Albedo=pd.to_numeric(alb.Albedo)\n",
    "#alb=alb.astype(float)\n",
    "#gpp.plot()\n",
    "vs=range(0,19)\n",
    "for i in vs:\n",
    "    casen=\"RTM_ens3_case_\"+str(i)\n",
    "    print(casen)\n",
    "    try:\n",
    "        v[i]=float((df.loc[8][casen]))\n",
    "    except:\n",
    "        v[i]=np.nan\n",
    "x_data = list(range(0,19))\n",
    "print(x_data)\n",
    "print(v)\n",
    "plt.scatter(x_data, v, c='r', label='data')\n"
   ]
  },
  {
   "cell_type": "code",
   "execution_count": null,
   "metadata": {},
   "outputs": [],
   "source": []
  }
 ],
 "metadata": {
  "kernelspec": {
   "display_name": "NPL 2022b",
   "language": "python",
   "name": "npl-2022b"
  },
  "language_info": {
   "codemirror_mode": {
    "name": "ipython",
    "version": 3
   },
   "file_extension": ".py",
   "mimetype": "text/x-python",
   "name": "python",
   "nbconvert_exporter": "python",
   "pygments_lexer": "ipython3",
   "version": "3.8.13"
  }
 },
 "nbformat": 4,
 "nbformat_minor": 4
}
