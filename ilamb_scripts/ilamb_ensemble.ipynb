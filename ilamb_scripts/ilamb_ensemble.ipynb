{
 "cells": [
  {
   "cell_type": "markdown",
   "id": "694210b5-3100-4633-9787-6239dddd3d6c",
   "metadata": {},
   "source": [
    "### This notebook uses Keith's diagnostic bash script to run ILAMB (without having to CMORize data first), generates paths, and submits the ilamb run script"
   ]
  },
  {
   "cell_type": "markdown",
   "id": "3485529c-1275-4d92-9d4c-7eeefbd68879",
   "metadata": {},
   "source": [
    "###### To Do\n",
    "\n",
    "- rosie_diagnostics works. \n",
    "- on jupyter. \n",
    "\n",
    "- look at output locally\n",
    "- get output onto website\n",
    "- make this script more generic\n",
    "- comparision bash scripts are in \n",
    "-/glade/work/rfisher/diagnostics_ilamb_standalone/runs/clm5_sp\n",
    "\n"
   ]
  },
  {
   "cell_type": "code",
   "execution_count": 1,
   "id": "7f827b5d-cfe0-46e4-82bd-ab0a1e182bca",
   "metadata": {},
   "outputs": [],
   "source": [
    "# Import all normal libraries. Likely some of these aren't needed\n",
    "import os\n",
    "import netCDF4 as nc4\n",
    "import sys\n",
    "import shutil\n",
    "import numpy as np\n",
    "import warnings\n",
    "warnings.filterwarnings('ignore')\n",
    "import xarray as xr\n",
    "from matplotlib import pyplot as plt\n",
    "#import datetime"
   ]
  },
  {
   "cell_type": "markdown",
   "id": "0f3d5533-35a9-43cf-b559-6af3656b30fe",
   "metadata": {},
   "source": [
    "##### Make function to create directories."
   ]
  },
  {
   "cell_type": "code",
   "execution_count": 2,
   "id": "c1ebd9f9-65e9-4bb7-85eb-54bee5a73c19",
   "metadata": {},
   "outputs": [],
   "source": [
    "def make_directory(fileroot):   \n",
    "    if(os.path.isdir(fileroot)):\n",
    "        print('dir exists:'+fileroot)\n",
    "    else:\n",
    "        os.mkdir(fileroot)\n",
    "        print('made: '+fileroot)"
   ]
  },
  {
   "cell_type": "markdown",
   "id": "5387b7c8-19e9-4cad-b2c6-5ed32a64db69",
   "metadata": {},
   "source": [
    "##### Make path names"
   ]
  },
  {
   "cell_type": "code",
   "execution_count": 3,
   "id": "a7991eed-551e-4fff-8c89-8f41dc253ad1",
   "metadata": {},
   "outputs": [
    {
     "name": "stdout",
     "output_type": "stream",
     "text": [
      "model config file=config_files/ilamb_CLMFATES_SP.cfg\n",
      "model setup path=model_setup_files/model_setup_fatesrtm.txt\n",
      "ilamb_path=/glade/work/rfisher/ilamb/ILAMB/MODELS/\n"
     ]
    }
   ],
   "source": [
    "#paths\n",
    "USER='rfisher'\n",
    "\n",
    "# where are the ILAMB data?\n",
    "ilamb_path   ='/glade/work/rfisher/ilamb/ILAMB/MODELS/'\n",
    "\n",
    "#ILAMB config file\n",
    "config_file='ilamb_CLMFATES_SP.cfg'\n",
    "config_path='config_files/'+config_file\n",
    "\n",
    "#model setup path\n",
    "model_setup_file='model_setup_fatesrtm.txt'\n",
    "model_setup_path = 'model_setup_files/'+ model_setup_file\n",
    "\n",
    "#ILAMB regions file\n",
    "ilamb_regions='region_files/LandRegions.nc'\n",
    "\n",
    "#### Keith's setup\n",
    "list_models='RTM_ens3_case_1' 'RTM_ens3_case_2' 'RTM_ens3_case_3'\n",
    "print('model config file='+ config_path)\n",
    "print('model setup path='+model_setup_path)\n",
    "print('ilamb_path='+ilamb_path)"
   ]
  },
  {
   "cell_type": "markdown",
   "id": "939e9814-3975-4d9d-993a-a3a2ebc53c1e",
   "metadata": {},
   "source": [
    "### ilamb diagnostic bash script\n"
   ]
  },
  {
   "cell_type": "code",
   "execution_count": 7,
   "id": "9b8096a2-ae2a-46d5-b0b2-7b0d944d8ac2",
   "metadata": {},
   "outputs": [
    {
     "name": "stdout",
     "output_type": "stream",
     "text": [
      "config_files/ilamb_CLMFATES_SP.cfg\n",
      "model_setup_files/model_setup_fatesrtm.txt\n",
      "submitting ilamb\n",
      "\n",
      "Setting up model results from model_setup_files/model_setup_fatesrtm.txt\n",
      "\n",
      "                                  RTM_ens4_case_1\n",
      "                                  RTM_ens3_case_1\n",
      "                                 RTM_ens3_case_10\n",
      "\n",
      "Parsing config file config_files/ilamb_CLMFATES_SP.cfg...\n",
      "\n",
      "                 GrossPrimaryProductivity/Fluxnet\u001b[92m Initialized\u001b[0m\n",
      "                    GrossPrimaryProductivity/GBAF\u001b[92m Initialized\u001b[0m\n",
      "                         Evapotranspiration/GLEAM\u001b[92m Initialized\u001b[0m\n",
      "                         Evapotranspiration/MODIS\u001b[92m Initialized\u001b[0m\n",
      "                         EvaporativeFraction/GBAF\u001b[92m Initialized\u001b[0m\n",
      "                               LatentHeat/Fluxnet\u001b[92m Initialized\u001b[0m\n",
      "                                  LatentHeat/GBAF\u001b[92m Initialized\u001b[0m\n",
      "                                       Runoff/Dai\u001b[92m Initialized\u001b[0m\n",
      "                             SensibleHeat/Fluxnet\u001b[92m Initialized\u001b[0m\n",
      "                                SensibleHeat/GBAF\u001b[92m Initialized\u001b[0m\n",
      "             TerrestrialWaterStorageAnomaly/GRACE\u001b[92m Initialized\u001b[0m\n",
      "                                 Permafrost/NSIDC\u001b[92m Initialized\u001b[0m\n",
      "                                     Albedo/CERES\u001b[92m Initialized\u001b[0m\n",
      "                                 Albedo/GEWEX.SRB\u001b[92m Initialized\u001b[0m\n",
      "                   SurfaceUpwardSWRadiation/CERES\u001b[92m Initialized\u001b[0m\n",
      "               SurfaceUpwardSWRadiation/GEWEX.SRB\u001b[92m Initialized\u001b[0m\n",
      "               SurfaceUpwardSWRadiation/WRMC.BSRN\u001b[92m Initialized\u001b[0m\n",
      "                      SurfaceNetSWRadiation/CERES\u001b[92m Initialized\u001b[0m\n",
      "                  SurfaceNetSWRadiation/GEWEX.SRB\u001b[92m Initialized\u001b[0m\n",
      "                  SurfaceNetSWRadiation/WRMC.BSRN\u001b[92m Initialized\u001b[0m\n",
      "                   SurfaceUpwardLWRadiation/CERES\u001b[92m Initialized\u001b[0m\n",
      "               SurfaceUpwardLWRadiation/GEWEX.SRB\u001b[92m Initialized\u001b[0m\n",
      "               SurfaceUpwardLWRadiation/WRMC.BSRN\u001b[92m Initialized\u001b[0m\n",
      "                      SurfaceNetLWRadiation/CERES\u001b[92m Initialized\u001b[0m\n",
      "                  SurfaceNetLWRadiation/GEWEX.SRB\u001b[92m Initialized\u001b[0m\n",
      "                  SurfaceNetLWRadiation/WRMC.BSRN\u001b[92m Initialized\u001b[0m\n",
      "                        SurfaceNetRadiation/CERES\u001b[92m Initialized\u001b[0m\n",
      "                      SurfaceNetRadiation/Fluxnet\u001b[92m Initialized\u001b[0m\n",
      "                    SurfaceNetRadiation/GEWEX.SRB\u001b[92m Initialized\u001b[0m\n",
      "                    SurfaceNetRadiation/WRMC.BSRN\u001b[92m Initialized\u001b[0m\n",
      "                        SurfaceAirTemperature/CRU\u001b[92m Initialized\u001b[0m\n",
      "                    SurfaceAirTemperature/Fluxnet\u001b[92m Initialized\u001b[0m\n",
      "                        DiurnalMaxTemperature/CRU\u001b[92m Initialized\u001b[0m\n",
      "                        DiurnalMinTemperature/CRU\u001b[92m Initialized\u001b[0m\n",
      "                      DiurnalTemperatureRange/CRU\u001b[92m Initialized\u001b[0m\n",
      "                               Precipitation/CMAP\u001b[92m Initialized\u001b[0m\n",
      "                            Precipitation/Fluxnet\u001b[92m Initialized\u001b[0m\n",
      "                               Precipitation/GPCC\u001b[92m Initialized\u001b[0m\n",
      "                              Precipitation/GPCP2\u001b[92m Initialized\u001b[0m\n",
      "                      SurfaceRelativeHumidity/ERA\u001b[92m Initialized\u001b[0m\n",
      "                 SurfaceDownwardSWRadiation/CERES\u001b[92m Initialized\u001b[0m\n",
      "               SurfaceDownwardSWRadiation/Fluxnet\u001b[92m Initialized\u001b[0m\n",
      "             SurfaceDownwardSWRadiation/GEWEX.SRB\u001b[92m Initialized\u001b[0m\n",
      "             SurfaceDownwardSWRadiation/WRMC.BSRN\u001b[92m Initialized\u001b[0m\n",
      "                 SurfaceDownwardLWRadiation/CERES\u001b[92m Initialized\u001b[0m\n",
      "             SurfaceDownwardLWRadiation/GEWEX.SRB\u001b[92m Initialized\u001b[0m\n",
      "             SurfaceDownwardLWRadiation/WRMC.BSRN\u001b[92m Initialized\u001b[0m\n",
      "\n",
      "We filtered some confrontations, actually running...\n",
      "\n",
      "                    GrossPrimaryProductivity/GBAF\n",
      "                         Evapotranspiration/MODIS\n",
      "                                     Albedo/CERES\n",
      "\n",
      "Running model-confrontation pairs...\n",
      "\n",
      "                    GrossPrimaryProductivity/GBAF RTM_ens4_case_1      \u001b[92mCompleted\u001b[0m  0:00:32\n",
      "                    GrossPrimaryProductivity/GBAF RTM_ens3_case_1      \u001b[92mCompleted\u001b[0m  0:00:34\n",
      "                    GrossPrimaryProductivity/GBAF RTM_ens3_case_10     \u001b[92mCompleted\u001b[0m  0:00:33\n",
      "                                     Albedo/CERES RTM_ens4_case_1      \u001b[92mCompleted\u001b[0m  0:00:30\n",
      "                                     Albedo/CERES RTM_ens3_case_1      \u001b[92mCompleted\u001b[0m  0:00:33\n",
      "                                     Albedo/CERES RTM_ens3_case_10     \u001b[92mCompleted\u001b[0m  0:00:32\n",
      "\n",
      "Finishing post-processing which requires collectives...\n",
      "\n",
      "                    GrossPrimaryProductivity/GBAF RTM_ens4_case_1      \u001b[92mCompleted\u001b[0m  0:00:05\n",
      "                    GrossPrimaryProductivity/GBAF RTM_ens3_case_1      \u001b[92mCompleted\u001b[0m  0:00:04\n",
      "                    GrossPrimaryProductivity/GBAF RTM_ens3_case_10     \u001b[92mCompleted\u001b[0m  0:00:04\n",
      "                         Evapotranspiration/MODIS RTM_ens4_case_1      \u001b[92mCompleted\u001b[0m  0:00:04\n",
      "                         Evapotranspiration/MODIS RTM_ens3_case_1      \u001b[92mCompleted\u001b[0m  0:00:04\n",
      "                         Evapotranspiration/MODIS RTM_ens3_case_10     \u001b[92mCompleted\u001b[0m  0:00:04\n",
      "                                     Albedo/CERES RTM_ens4_case_1      \u001b[92mCompleted\u001b[0m  0:00:04\n",
      "                                     Albedo/CERES RTM_ens3_case_1      \u001b[92mCompleted\u001b[0m  0:00:04\n",
      "                                     Albedo/CERES RTM_ens3_case_10     \u001b[92mCompleted\u001b[0m  0:00:04\n",
      "\n",
      "Completed in  0:03:58\n",
      "\n"
     ]
    }
   ],
   "source": [
    "%%bash -s \"$config_path\" \"$model_setup_path\" \"$ilamb_path\" \"$ilamb_regions\"\n",
    "\n",
    "config_path=$1  \n",
    "model_setup_path=$2\n",
    "ilamb_path=$3\n",
    "ilamb_regions=$4\n",
    "\n",
    "#PBS -N ilamb_diagnostics*\n",
    "#PBS -q regular\n",
    "#PBS -l select=4:ncpus=2:mpiprocs=2:mem=109GB\n",
    "#PBS -l walltime=12:00:00\n",
    "#PBS -A P93300041\n",
    "#PBS -j oe\n",
    "#PBS -k eod\n",
    "#PBS -m abe\n",
    "#PBS -M oleson@ucar.edu\n",
    "\n",
    "echo $config_path\n",
    "echo $model_setup_path\n",
    "\n",
    "export BUILD_DIRNAME fates_rtm\n",
    "\n",
    "#conda init bash\n",
    "source /glade/work/oleson/miniconda3/etc/profile.d/conda.sh\n",
    "\n",
    "export MPI_UNBUFFERED_STDIO=true\n",
    "export TMPDIR=$TMPDIR\n",
    "mkdir -p $TMPDIR\n",
    "\n",
    "conda activate ilamb\n",
    "export MPLBACKEND=Agg\n",
    "export ILAMB_ROOT=/glade/p/cesm/lmwg_dev/oleson/ILAMB/ILAMB_all\n",
    "\n",
    "echo \"submitting ilamb\"\n",
    "#rosie modifications\n",
    "mpiexec_mpt dplace -s 1 ilamb-run --config $config_path \\\n",
    "--model_root $ilamb_path \\\n",
    "--models  RTM_ens4_case_1 RTM_ens3_case_1 RTM_ens3_case_10 \\\n",
    "--build_dir ilamb_dir/$BUILD_DIRNAME/_build \\\n",
    "--define_regions $ilamb_regions \\\n",
    "--model_setup $model_setup_path \\\n",
    "--filter  .clm2.h0. \\\n",
    "--confrontation Albedo/CERES Evapotranspiration/MODIS GrossPrimaryProductivity/GBAF\n",
    "#>> ${log_filename} 2>&1\n"
   ]
  },
  {
   "cell_type": "code",
   "execution_count": null,
   "id": "5bf3152b-7f65-4f21-b7dc-d2f6731b6b18",
   "metadata": {},
   "outputs": [],
   "source": []
  }
 ],
 "metadata": {
  "kernelspec": {
   "display_name": "NPL 2022b",
   "language": "python",
   "name": "npl-2022b"
  },
  "language_info": {
   "codemirror_mode": {
    "name": "ipython",
    "version": 3
   },
   "file_extension": ".py",
   "mimetype": "text/x-python",
   "name": "python",
   "nbconvert_exporter": "python",
   "pygments_lexer": "ipython3",
   "version": "3.8.13"
  }
 },
 "nbformat": 4,
 "nbformat_minor": 5
}
