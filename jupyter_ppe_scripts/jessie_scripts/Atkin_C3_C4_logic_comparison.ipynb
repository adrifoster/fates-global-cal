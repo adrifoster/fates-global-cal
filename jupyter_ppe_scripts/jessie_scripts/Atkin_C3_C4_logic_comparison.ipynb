{
 "cells": [
  {
   "cell_type": "markdown",
   "id": "9b0bc5db",
   "metadata": {},
   "source": [
    "### Compare effect of using Ryan or Atkin respiration for  C4 plants"
   ]
  },
  {
   "cell_type": "markdown",
   "id": "18c5d548",
   "metadata": {},
   "source": [
    "#### Libraries"
   ]
  },
  {
   "cell_type": "code",
   "execution_count": null,
   "id": "aff401c0",
   "metadata": {},
   "outputs": [],
   "source": [
    "import numpy as np\n",
    "import xarray as xr\n",
    "import csv\n",
    "import pandas as pd\n",
    "\n",
    "import functions_py.fates_xarray_functions as fa\n",
    "import functions_py.fates_nearest_gridcell as ngr\n",
    "\n",
    "import matplotlib.pyplot as plt\n",
    "from matplotlib.pyplot import figure\n",
    "import cartopy.crs as ccrs\n",
    "from matplotlib import cm\n",
    "from matplotlib.colors import Normalize\n",
    "from matplotlib.colors import BoundaryNorm\n"
   ]
  },
  {
   "cell_type": "code",
   "execution_count": null,
   "id": "543a3cd2",
   "metadata": {},
   "outputs": [],
   "source": [
    "dark = cm.get_cmap('Dark2', 8)\n",
    "colormap = dark(range(8))"
   ]
  },
  {
   "cell_type": "code",
   "execution_count": null,
   "id": "4f462f00",
   "metadata": {},
   "outputs": [],
   "source": [
    "pfts = ['broadleaf_evergreen_tropical_tree','needleleaf_evergreen_extratrop_tree',\n",
    "         'needleleaf_colddecid_extratrop_tree','broadleaf_evergreen_extratrop_tree',\n",
    "        'broadleaf_hydrodecid_tropical_tree','broadleaf_colddecid_extratrop_tree',\n",
    "        'broadleaf_evergreen_extratrop_shrub','broadleaf_hydrodecid_extratrop_shrub',\n",
    "        'broadleaf_colddecid_extratrop_shrub', 'arctic_c3_grass',\n",
    "        'cool_c3_grasss','c4_grass']"
   ]
  },
  {
   "cell_type": "code",
   "execution_count": null,
   "id": "86e2ca96",
   "metadata": {},
   "outputs": [],
   "source": [
    "w = [  2,   2,   6, -10,  10,   6,  10, -18, -14,  -6,  10, -14,  -2,\n",
    "        18,  14,  14, -18]\n",
    "z = [ 25,  30, 355,  35, 285, 295, 275, 315, 295, 310, 295, 305, 280,\n",
    "       100, 100,  75, 145]\n",
    "lat_un = xr.DataArray(w, dims = ['location']).astype(int)\n",
    "lon_un = xr.DataArray(z, dims = ['location']).astype(int)"
   ]
  },
  {
   "cell_type": "markdown",
   "id": "405c6377",
   "metadata": {},
   "source": [
    "#### Load all the variations"
   ]
  },
  {
   "cell_type": "code",
   "execution_count": null,
   "id": "b34792b1",
   "metadata": {},
   "outputs": [],
   "source": [
    "# atkin for both C3 and C4 grasses\n",
    "fates_atkin = '/compyfs/need138/elm_runs/fixedbiogeog_nocomp_Atkin_high_soilmoisture_dbh_init.Eb645be3-Fd993b62.2023-03-06/run/lnd/hist/fixedbiogeog_nocomp_Atkin_high_soilmoisture_dbh_init.Eb645be3-Fd993b62.2023-03-06.elm.h0.2090s.nc'\n",
    "fates_atkin = xr.open_dataset(fates_atkin, decode_times=False)\n",
    "time = fates_atkin.variables['time']/365.\n",
    "\n",
    "n_lat = len(fates_atkin.variables['lat'])\n",
    "n_lon = len(fates_atkin.variables['lon'])\n",
    "cohort_size_bins = fates_atkin.variables['fates_levscls'][:]\n",
    "nsizebins = len(cohort_size_bins)\n",
    "\n",
    "nyears = int(len(fates_atkin.variables['time'])/12)\n",
    "time = fates_atkin.variables['time'] / 365.\n",
    "\n",
    "# Atkin for C3 and Ryan for C4\n",
    "fates_atkin_v2 = '/compyfs/need138/elm_runs/fixedbiogeog_nocomp_Atkin_high_soilmoisture_dbh_init_oldc3c4logic.Eb645be3-F62748f9.2023-03-08/run/lnd/hist/fixedbiogeog_nocomp_Atkin_high_soilmoisture_dbh_init_oldc3c4logic.Eb645be3-F62748f9.2023-03-08.elm.h0.2090s.nc'\n",
    "fates_atkin_v2 = xr.open_dataset(fates_atkin_v2, decode_times=False)\n",
    "time_v2 = fates_atkin_v2.variables['time']/365."
   ]
  },
  {
   "cell_type": "markdown",
   "id": "792f60ac",
   "metadata": {},
   "source": [
    "### Biomass C3 and C4 plants"
   ]
  },
  {
   "cell_type": "code",
   "execution_count": null,
   "id": "09e4d832",
   "metadata": {},
   "outputs": [],
   "source": [
    "vegc = fates_atkin.FATES_VEGC_PF.mean(dim='time') \n",
    "vegc_c3 = vegc.isel(fates_levpft = 10)\n",
    "vegc_c4 = vegc.isel(fates_levpft = 11)\n",
    "\n",
    "vegc_v2 = fates_atkin_v2.FATES_VEGC_PF.mean(dim='time') \n",
    "vegc_c3_v2 = vegc_v2.isel(fates_levpft = 10)\n",
    "vegc_c4_v2 = vegc_v2.isel(fates_levpft = 11)\n",
    "\n",
    "veg_c3_diff = vegc_c3 - vegc_c3_v2\n",
    "veg_c4_diff = vegc_c4 - vegc_c4_v2"
   ]
  },
  {
   "cell_type": "code",
   "execution_count": null,
   "id": "f8ff2d2d",
   "metadata": {},
   "outputs": [],
   "source": [
    "fig, axs = plt.subplots(nrows=3,ncols=2,\n",
    "                        subplot_kw={'projection': ccrs.PlateCarree()},\n",
    "                        figsize=(11,6), constrained_layout=True)\n",
    "\n",
    "clevs = np.arange(0.,0.25,0.005)\n",
    "axs=axs.flatten()\n",
    "\n",
    "vegc_c3.plot(levels=clevs, transform=ccrs.PlateCarree(),cmap='Greens',\n",
    "         cbar_kwargs={\"label\": \"Veg C kg C m-2\"}, ax=axs[0])\n",
    "axs[0].coastlines()\n",
    "axs[0].set_title('Veg C C3 grasses (C4 = Atkin)', fontsize=10)\n",
    "\n",
    "vegc_c4.plot(levels=clevs, transform=ccrs.PlateCarree(),cmap='Greens',\n",
    "         cbar_kwargs={\"label\": \"Veg C kg C m-2\"}, ax=axs[1])\n",
    "axs[1].coastlines()\n",
    "axs[1].set_title('Veg C C4 grasses (C4 = Atkin)', fontsize=10)\n",
    "\n",
    "vegc_c3_v2.plot(levels=clevs, transform=ccrs.PlateCarree(),cmap='Greens',\n",
    "         cbar_kwargs={\"label\": \"Veg C kg C m-2\"}, ax=axs[2])\n",
    "axs[2].coastlines()\n",
    "axs[2].set_title('Veg C C3 grasses (C4 = Ryan)', fontsize=10)\n",
    "\n",
    "vegc_c4_v2.plot(levels=clevs, transform=ccrs.PlateCarree(),cmap='Greens',\n",
    "         cbar_kwargs={\"label\": \"Veg C kg C m-2\"}, ax=axs[3])\n",
    "axs[3].coastlines()\n",
    "axs[3].set_title('Veg C C4 grasses (C4 = Ryan)', fontsize=10)\n",
    "\n",
    "clevs = np.arange(-0.05,0.05,0.001)\n",
    "\n",
    "veg_c3_diff.plot(levels=clevs, transform=ccrs.PlateCarree(),cmap='bwr',\n",
    "         cbar_kwargs={\"label\": \"Veg C kg C m-2\"}, ax=axs[4])\n",
    "axs[4].coastlines()\n",
    "axs[4].set_title('C3 diff', fontsize=10)\n",
    "\n",
    "veg_c4_diff.plot(levels=clevs, transform=ccrs.PlateCarree(),cmap='bwr',\n",
    "         cbar_kwargs={\"label\": \"Veg C kg C m-2\"}, ax=axs[5])\n",
    "axs[5].coastlines()\n",
    "axs[5].set_title('C4 diff', fontsize=10)\n"
   ]
  },
  {
   "cell_type": "markdown",
   "id": "aa2ce9d6",
   "metadata": {},
   "source": [
    "### NPP C4 and C4 plants"
   ]
  },
  {
   "cell_type": "code",
   "execution_count": null,
   "id": "db3674d3",
   "metadata": {},
   "outputs": [],
   "source": [
    "npp = fates_atkin.FATES_NPP_PF.mean(dim='time') * 86400 * 365 \n",
    "npp_c3 = npp.isel(fates_levpft = 10)\n",
    "npp_c4 = npp.isel(fates_levpft = 11)\n",
    "\n",
    "npp_v2 = fates_atkin_v2.FATES_NPP_PF.mean(dim='time') * 86400 * 365 \n",
    "npp_c3_v2 = npp_v2.isel(fates_levpft = 10)\n",
    "npp_c4_v2 = npp_v2.isel(fates_levpft = 11)\n",
    "\n",
    "npp_c3_diff = npp_c3 - npp_c3_v2\n",
    "npp_c4_diff = npp_c4 - npp_c4_v2"
   ]
  },
  {
   "cell_type": "code",
   "execution_count": null,
   "id": "0e208e33",
   "metadata": {},
   "outputs": [],
   "source": [
    "fig, axs = plt.subplots(nrows=3,ncols=2,\n",
    "                        subplot_kw={'projection': ccrs.PlateCarree()},\n",
    "                        figsize=(11,6), constrained_layout=True)\n",
    "\n",
    "clevs = np.arange(0.,1.,0.05)\n",
    "axs=axs.flatten()\n",
    "\n",
    "npp_c3.plot(levels=clevs, transform=ccrs.PlateCarree(),cmap='Greens',\n",
    "         cbar_kwargs={\"label\": \"NPP kg C m-2 yr-1\"}, ax=axs[0])\n",
    "axs[0].coastlines()\n",
    "axs[0].set_title('NPP C3 grasses (C4 = Atkin)', fontsize=10)\n",
    "\n",
    "npp_c4.plot(levels=clevs, transform=ccrs.PlateCarree(),cmap='Greens',\n",
    "         cbar_kwargs={\"label\": \"NPP kg C m-2 yr-1\"}, ax=axs[1])\n",
    "axs[1].coastlines()\n",
    "axs[1].set_title('NPP C4 grasses (C4 = Atkin)', fontsize=10)\n",
    "\n",
    "npp_c3_v2.plot(levels=clevs, transform=ccrs.PlateCarree(),cmap='Greens',\n",
    "         cbar_kwargs={\"label\": \"NPP kg C m-2 yr-1\"}, ax=axs[2])\n",
    "axs[2].coastlines()\n",
    "axs[2].set_title('NPP C3 grasses (C4 = Ryan)', fontsize=10)\n",
    "\n",
    "npp_c4_v2.plot(levels=clevs, transform=ccrs.PlateCarree(),cmap='Greens',\n",
    "         cbar_kwargs={\"label\": \"NPP kg C m-2 yr-1\"}, ax=axs[3])\n",
    "axs[3].coastlines()\n",
    "axs[3].set_title('NPP C4 grasses (C4 = Ryan)', fontsize=10)\n",
    "\n",
    "clevs = np.arange(-0.05,0.05,0.005)\n",
    "\n",
    "npp_c3_diff.plot(levels=clevs, transform=ccrs.PlateCarree(),cmap='bwr',\n",
    "         cbar_kwargs={\"label\": \"NPP kg C m-2 yr-1\"}, ax=axs[4])\n",
    "axs[4].coastlines()\n",
    "axs[4].set_title('C3 diff', fontsize=10)\n",
    "\n",
    "npp_c4_diff.plot(levels=clevs, transform=ccrs.PlateCarree(),cmap='bwr',\n",
    "         cbar_kwargs={\"label\": \"NPP kg C m-2 yr-1\"}, ax=axs[5])\n",
    "axs[5].coastlines()\n",
    "axs[5].set_title('C4 diff', fontsize=10)"
   ]
  }
 ],
 "metadata": {
  "kernelspec": {
   "display_name": "Python [conda env:e3sm_unified_latest]",
   "language": "python",
   "name": "conda-env-e3sm_unified_latest-py"
  },
  "language_info": {
   "codemirror_mode": {
    "name": "ipython",
    "version": 3
   },
   "file_extension": ".py",
   "mimetype": "text/x-python",
   "name": "python",
   "nbconvert_exporter": "python",
   "pygments_lexer": "ipython3",
   "version": "3.10.8"
  }
 },
 "nbformat": 4,
 "nbformat_minor": 5
}
