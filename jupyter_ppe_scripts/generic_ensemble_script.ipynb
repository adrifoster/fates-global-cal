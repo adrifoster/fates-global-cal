{
 "cells": [
  {
   "cell_type": "markdown",
   "metadata": {},
   "source": [
    "<h1> Ensemble generation submission and analysis notebook </h1>\n",
    "\n",
    "This script will:\n",
    "\n",
    "<ol>\n",
    "<li>Clone github repo \n",
    "<li>Make and build a default 4x5 CLM-FATES case\n",
    "<li>Make an ensemble of CLM-FATES cases \n",
    "<li>Generate an ensemble of parameter files with one at a time or latin hypercube  modification\n",
    "<li>Point each ensemble member at a different parameter file\n",
    "<li>Submit all these jobs\n",
    "<li>Analyse output\n",
    "</ol>\n",
    "\n",
    "<h4>n.b. This notebook is also set up to work with Cheyenne specific paths, but can be modified. "
   ]
  },
  {
   "cell_type": "markdown",
   "metadata": {},
   "source": [
    "#### Control variables for the analysis script."
   ]
  },
  {
   "cell_type": "code",
   "execution_count": 1,
   "metadata": {},
   "outputs": [
    {
     "name": "stdout",
     "output_type": "stream",
     "text": [
      "setup, submit, analysis: 1 1 1\n"
     ]
    }
   ],
   "source": [
    "# This mega script does \n",
    "# ensemble setup (including parameter file generation.  \n",
    "# job submission and \n",
    "# analysis. \n",
    "\n",
    "# You can turn these off and on according to where you are tin the process. \n",
    "\n",
    "dosetup = 1 #do we want to create parameters files and so on?\n",
    "dosubmit = 1 #do we do the submission stage, or just the analysis?\n",
    "forcenewcase = 0 #do we scurb all the old cases and start again?\n",
    "doanalysis = 1 #do we want to plot the outputs? \n",
    "print(\"setup, submit, analysis:\", dosetup,dosubmit,doanalysis)"
   ]
  },
  {
   "cell_type": "code",
   "execution_count": 2,
   "metadata": {},
   "outputs": [],
   "source": [
    "#import things. Not sure if all of these are still strictly necessary. \n",
    "from multiprocessing.pool import ThreadPool\n",
    "import dask\n",
    "dask.config.set(scheduler='single-threaded')\n",
    "import os\n",
    "import netCDF4 as nc4\n",
    "import sys\n",
    "import shutil\n",
    "import numpy as np"
   ]
  },
  {
   "cell_type": "markdown",
   "metadata": {},
   "source": [
    "<h3>Set global variables and paths for ensemble analysis </h3>"
   ]
  },
  {
   "cell_type": "code",
   "execution_count": 3,
   "metadata": {},
   "outputs": [],
   "source": [
    "# FATES mode settings for the ensemble\n",
    "sp=1 #are we using SP mode?\n",
    "calib=1 # this script can be run in one at a time and latin hypercube mode.\n",
    "calibvars=2 #which set of variables are we peturbing?\n",
    "n=1 #the number of the ensemble. For when you need to do it all again ;) \n",
    "dim3=0"
   ]
  },
  {
   "cell_type": "markdown",
   "metadata": {},
   "source": [
    "### Set pathnames for parameter directories and casenames."
   ]
  },
  {
   "cell_type": "code",
   "execution_count": 4,
   "metadata": {},
   "outputs": [],
   "source": [
    "# what is your clone of the ctsm repo called? (or you want it to be called?) \n",
    "ctsmrepo='ctsmsep22'\n",
    "\n",
    "#what do you want the directory with the ensemble cases in to be called?\n",
    "ens_directory='RTM_ens'+str(n)\n",
    "\n",
    "#what do you want the case names to begin with?\n",
    "caseroot=ens_directory+'_case_'\n",
    "\n",
    "#path to scratch (or where the model is built.)\n",
    "defbuildroot='/glade/scratch/'\n",
    "\n",
    "#how many members are in the ensemble?\n",
    "ncases=12 \n",
    "\n",
    "#where are we now?\n",
    "notebookdr=os.getcwd()  \n",
    "\n",
    "USER='rfisher'"
   ]
  },
  {
   "cell_type": "markdown",
   "metadata": {},
   "source": [
    "#### SP/NOCOMP specific paths to default case/param files"
   ]
  },
  {
   "cell_type": "code",
   "execution_count": 5,
   "metadata": {},
   "outputs": [
    {
     "name": "stdout",
     "output_type": "stream",
     "text": [
      "RTM_ens1_case_\n"
     ]
    }
   ],
   "source": [
    "if(sp == 1): #Settings for the SP ensemble.\n",
    "    resub=0 #how many times to resubmit the model. \n",
    "\n",
    "    #what is the name of your 'basecase'?\n",
    "    defcase='fates_crops_smo_minlai_opt_vcmax50'\n",
    "    \n",
    "    #what is the base parameter file called?\n",
    "    paramfiledefault='fates_params_default.nc'    \n",
    "\n",
    "else: #Settings for the NOCOMP ensemble. \n",
    "    resub=2 #how many times do we want to resubmit the job?\n",
    "    \n",
    "    #what is the name of your 'basecase'?\n",
    "    defcase='SPdefault_sept'\n",
    "    \n",
    "    #what is the base parameter file called?\n",
    "    paramfiledefault='param_files_nocomp_'+str(n)   \n",
    "    paramfiledefault='/glade/u/home/rfisher/fates_sp_ensembles/param_files_sp_n6_noc4/calib_paramfiledefault.nc'\n",
    "    \n",
    "print(caseroot)\n"
   ]
  },
  {
   "cell_type": "markdown",
   "metadata": {},
   "source": [
    "#### Clone CTSM repo (if necessary)."
   ]
  },
  {
   "cell_type": "markdown",
   "metadata": {},
   "source": [
    "##### (This box and others like it go into BASH script 'mode', and hence isn't in python) "
   ]
  },
  {
   "cell_type": "code",
   "execution_count": 6,
   "metadata": {},
   "outputs": [
    {
     "name": "stdout",
     "output_type": "stream",
     "text": [
      "Already have ctsm repo\n",
      "Currently in /glade/work/rfisher/git/ctsmsep22\n"
     ]
    }
   ],
   "source": [
    "%%bash -s \"$ctsmrepo\" \"$dosetup\"\n",
    "ctsmrepo=$1\n",
    "dosetup=$2\n",
    "\n",
    "if [ $dosetup -eq 1 ]\n",
    "then\n",
    "cd /glade/work/$USER/\n",
    "#go to git directory\n",
    "if [[ -d \"git\" ]]\n",
    "then\n",
    "cd git\n",
    "else\n",
    "mkdir git\n",
    "cd git\n",
    "fi\n",
    "\n",
    "#go to git repo, or checkout code\n",
    "if [[ -d \"$ctsmrepo\" ]]\n",
    "then\n",
    "cd $ctsmrepo\n",
    "echo \"Already have ctsm repo\"\n",
    "else\n",
    "echo \"Cloning ctsm\"\n",
    "#clone CTSM code if you didn't to this already. \n",
    "#git clone https://github.com/escomp/ctsm $ctsmrepo\n",
    "cd $ctsmrepo\n",
    "#./manage_externals/checkout_externals\n",
    "cd src\n",
    "fi\n",
    "fi\n",
    "echo \"Currently in\" $(pwd)"
   ]
  },
  {
   "cell_type": "markdown",
   "metadata": {},
   "source": [
    "<h4> Make a default FATES 4x5 case (this will take a while if it has to build) </h4>"
   ]
  },
  {
   "cell_type": "code",
   "execution_count": 7,
   "metadata": {
    "tags": []
   },
   "outputs": [
    {
     "name": "stdout",
     "output_type": "stream",
     "text": [
      "defcase is fates_crops_smo_minlai_opt_vcmax50\n",
      "setup= 1\n",
      "1\n",
      "fates_crops_smo_minlai_opt_vcmax50 exists on your filesystem. .fates_crops_smo_minlai_opt_vcmax50\n",
      "Currently in /glade/work/rfisher/git/ctsmsep22/cime/scripts\n"
     ]
    }
   ],
   "source": [
    "%%bash -s \"$ctsmrepo\" \"$dosetup\" \"$defcase\" \n",
    "ctsmrepo=$1\n",
    "dosetup=$2\n",
    "defcase=$3\n",
    "echo \"defcase is\" $defcase\n",
    "echo \"setup=\" $dosetup\n",
    "echo $dosetup\n",
    "compset=2000_DATM%GSWP3v1_CLM50%FATES_SICE_SOCN_MOSART_SGLC_SWAV_SESP\n",
    "if [[ $dosetup -eq 1 ]]\n",
    "then\n",
    "cd /glade/work/$USER/git/$ctsmrepo/cime/scripts\n",
    "if [[ -d \"$defcase\" ]]\n",
    "then\n",
    "    echo \"$defcase exists on your filesystem.\" .$defcase\n",
    "else\n",
    "    echo \"making defcase.\",$defcase\n",
    "./create_newcase --case $defcase --compset 2000_DATM%GSWP3v1_CLM50%FATES_SICE_SOCN_MOSART_SGLC_SWAV_SESP --res f45_f45_mg37  --run-unsupported\n",
    "cd $defcase\n",
    "./case.setup\n",
    "./case.build\n",
    "fi\n",
    "fi\n",
    "echo \"Currently in\" $(pwd)"
   ]
  },
  {
   "cell_type": "markdown",
   "metadata": {},
   "source": [
    "#### Adjust settings of default case. "
   ]
  },
  {
   "cell_type": "code",
   "execution_count": 8,
   "metadata": {},
   "outputs": [
    {
     "name": "stdout",
     "output_type": "stream",
     "text": [
      "updating settings\n",
      "Currently in /glade/work/rfisher/git/ctsmsep22/cime/scripts/fates_crops_smo_minlai_opt_vcmax50\n"
     ]
    }
   ],
   "source": [
    "%%bash -s \"$ctsmrepo\" \"$defcase\" \"$dosetup\" \"$defbuildroot\" \n",
    "\n",
    "ctsmrepo=$1\n",
    "defcase=$2\n",
    "dosetup=$3\n",
    "defbuildroot=$4\n",
    "\n",
    "if [[ $dosetup -eq 1 ]]\n",
    "then\n",
    "defbld=$defbuildroot$USER/$defcase/bld\n",
    "cd /glade/work/$USER/git/$ctsmrepo/cime/scripts/$defcase\n",
    "\n",
    "echo 'updating settings'\n",
    "./xmlchange CONTINUE_RUN=FALSE;  \n",
    "./xmlchange --id STOP_N --val 5;  #number of years of simulation\n",
    "./xmlchange --id STOP_OPTION --val nyears;\n",
    "./xmlchange --id CLM_FORCE_COLDSTART --val on;\n",
    "echo \"Currently in\" $(pwd)\n",
    "fi"
   ]
  },
  {
   "cell_type": "markdown",
   "metadata": {},
   "source": [
    "#### Make a default user_nl_clm file"
   ]
  },
  {
   "cell_type": "code",
   "execution_count": 9,
   "metadata": {},
   "outputs": [
    {
     "name": "stdout",
     "output_type": "stream",
     "text": [
      "Currently in /glade/work/rfisher/git/ctsmsep22/cime/scripts/fates_crops_smo_minlai_opt_vcmax50\n"
     ]
    }
   ],
   "source": [
    "%%bash -s \"$ctsmrepo\" \"$defcase\" \"$dosetup\" \"$ens_directory\" \"$sp\"\n",
    "\n",
    "ctsmrepo=$1\n",
    "defcase=$2\n",
    "dosetup=$3\n",
    "ens_directory=$4\n",
    "usesp=$5\n",
    "\n",
    "if [[ $dosetup -eq 1 ]]\n",
    "then\n",
    "cd /glade/work/$USER/git/$ctsmrepo/cime/scripts\n",
    "cd $defcase\n",
    "\n",
    "if [ -f \"user_nl_clm_store\" ] #did we do this already?\n",
    "then\n",
    "#move the stored version to the default version\n",
    "cp user_nl_clm_store  user_nl_clm_default\n",
    "else\n",
    "#store the 'vanilla' user_nl_clm file\n",
    "cp user_nl_clm  user_nl_clm_store\n",
    "# and then make a copy of that to act as the default for the ensemble. \n",
    "cp user_nl_clm_store  user_nl_clm_default\n",
    "fi \n",
    "\n",
    "if [[ $usesp -eq 1 ]] #change to SP mode. \n",
    "then\n",
    "echo use_fates_sp=.true. >> user_nl_clm_default\n",
    "fi\n",
    " \n",
    "echo \"Currently in\" $(pwd)\n",
    "cp user_nl_clm_default ../$ens_directory/user_nl_clm_default\n",
    "fi\n",
    "\n",
    "#n.b. i overwrote this with a file in the ensemble directory last time i did it."
   ]
  },
  {
   "cell_type": "markdown",
   "metadata": {},
   "source": [
    "<h3> Make ensemble of cases.</h3>"
   ]
  },
  {
   "cell_type": "code",
   "execution_count": 10,
   "metadata": {},
   "outputs": [],
   "source": [
    "%%capture\n",
    "%%bash -s \"$ctsmrepo\" \"$defcase\" c \"$ens_directory\" \"$caseroot\" \"$ncases\" \"$forcenewcase\"\n",
    "\n",
    "ctsmrepo=$1\n",
    "defcase=$2\n",
    "dosetup=$3\n",
    "ens_directory=$4\n",
    "caseroot=$5\n",
    "ncases=$6\n",
    "forcenewcase=$7\n",
    "\n",
    "echo \"ncases=\" $ncases\n",
    "echo \"caseroot=\" $caseroot\n",
    "echo \"dosetup=\" $dosetup\n",
    "echo \"forcenewcase=\" $forcenewcase\n",
    "echo \"ens_directory=\" $ens_directory\n",
    "\n",
    "if [[ $dosetup -eq 1 ]]\n",
    "then\n",
    "echo \"setup\"\n",
    "\n",
    "cd /glade/work/$USER/git/$ctsmrepo/cime/scripts\n",
    "\n",
    "if [[ -d \"$ens_directory\" ]]\n",
    "then\n",
    "echo \"already have ensemble directory\"\n",
    "else\n",
    "mkdir $ens_directory\n",
    "fi \n",
    "\n",
    "#make directory for parameter files. \n",
    "cd $ens_directory\n",
    "if [[ -d \"parameter_files\" ]]\n",
    "then\n",
    "echo \"already have parameter_files directory\"\n",
    "else\n",
    "mkdir parameter_files\n",
    "fi \n",
    "cd ..\n",
    "\n",
    "counter1=0 #include a default zero case. \n",
    "while [ $counter1 -le $ncases ]\n",
    "do\n",
    "  newcase=$caseroot$counter1 #name of ensemble membr case.    \n",
    "  if [ -d $ens_directory/$newcase ]\n",
    "  then\n",
    "    echo ' new case already exists',$ens_directory/$newcase\n",
    "    if [ $forcenewcase -eq 1 ]\n",
    "    then\n",
    "    echo 'force making case', $ens_directory/$newcase\n",
    "    rm -rf $ens_directory/$newcase\n",
    "    ./create_clone --clone $defcase --case $ens_directory/$newcase ;\n",
    "    fi    \n",
    "  else\n",
    "   echo 'making new case', $ens_directory/$newcase\n",
    "    ./create_clone --clone $defcase --case $ens_directory/$newcase ;\n",
    "  fi\n",
    "((counter1++))\n",
    "done\n",
    "\n",
    "counter1=0 #include a default zero case. \n",
    "while [ $counter1 -le $ncases ]\n",
    "do\n",
    "  newcase=$caseroot$counter1 #name of ensemble membr case.   \n",
    "   cd $ens_directory/$newcase\n",
    "   echo 'case setup', $ens_directory/$newcase\n",
    "   ./case.setup;\n",
    "    cd ../../ \n",
    "((counter1++))\n",
    "done\n",
    "fi"
   ]
  },
  {
   "cell_type": "markdown",
   "metadata": {},
   "source": [
    "<h3> Create .nc version of current defualt file. I FAILED ATT THIS. NEEDS INPUT..</h3>\n",
    "You currently have to do this step manually, by doing this in the terminal:\n",
    "\n",
    "<i> cd /glade/work/$USER/git/$ctsmrepo/src/fates/parameter_files/</i><br>\n",
    "<i>ncgen -o fates_params_default.nc fates_params_default.cdl </i>"
   ]
  },
  {
   "cell_type": "markdown",
   "metadata": {},
   "source": [
    "#### Copy default .nc template parameter file to ensemble parameter directory . "
   ]
  },
  {
   "cell_type": "code",
   "execution_count": 11,
   "metadata": {},
   "outputs": [
    {
     "name": "stdout",
     "output_type": "stream",
     "text": [
      "/glade/work/rfisher/git/ctsmsep22/cime/scripts/RTM_ens1/parameter_files/fates_params_default.nc\n"
     ]
    }
   ],
   "source": [
    "if(dosetup == 1): \n",
    "    paramsdir='/glade/work/'+USER+'/git/'+ctsmrepo+'/cime/scripts/'+ens_directory+'/parameter_files'\n",
    "    defparamfile='/glade/work/'+USER+'/git/'+ctsmrepo+'/src/fates/parameter_files/'+paramfiledefault\n",
    "    !cp $defparamfile $paramsdir\n",
    "    filename_template = paramsdir+'/'+paramfiledefault\n",
    "    print(filename_template)"
   ]
  },
  {
   "cell_type": "markdown",
   "metadata": {},
   "source": [
    "#### Make function for copying fates parameter files. "
   ]
  },
  {
   "cell_type": "code",
   "execution_count": 12,
   "metadata": {},
   "outputs": [],
   "source": [
    "def copy_clobber(filename1, filename2):\n",
    "    try:\n",
    "        os.remove(filename2) #replacing file\n",
    "    except: #'file does not yet exist\n",
    "        shutil.copyfile(filename1, filename2)"
   ]
  },
  {
   "cell_type": "markdown",
   "metadata": {},
   "source": [
    "#### Make function to modify FATES parameter files. "
   ]
  },
  {
   "cell_type": "code",
   "execution_count": 13,
   "metadata": {},
   "outputs": [],
   "source": [
    "def def_pftfile( fileroot,i,variable,delta):   \n",
    "    pfilename = fileroot+str(i)+'.nc' \n",
    "    print('modifying parameter file',i,variable,'x',delta);\n",
    "    fin = nc4.Dataset(pfilename, 'r+')\n",
    "    var = fin.variables[variable]\n",
    "    var[:] = var[:]*delta\n",
    "    fin.close()"
   ]
  },
  {
   "cell_type": "markdown",
   "metadata": {},
   "source": [
    "#### Create ensemble of parameter files"
   ]
  },
  {
   "cell_type": "code",
   "execution_count": 19,
   "metadata": {},
   "outputs": [
    {
     "name": "stdout",
     "output_type": "stream",
     "text": [
      "/glade/work/rfisher/git/ctsmsep22/cime/scripts/RTM_ens1/parameter_files\n",
      "making:/glade/work/rfisher/git/ctsmsep22/cime/scripts/RTM_ens1/parameter_files/fates_params_RTM_ens1_0.nc\n",
      "making:/glade/work/rfisher/git/ctsmsep22/cime/scripts/RTM_ens1/parameter_files/fates_params_RTM_ens1_1.nc\n",
      "making:/glade/work/rfisher/git/ctsmsep22/cime/scripts/RTM_ens1/parameter_files/fates_params_RTM_ens1_2.nc\n",
      "making:/glade/work/rfisher/git/ctsmsep22/cime/scripts/RTM_ens1/parameter_files/fates_params_RTM_ens1_3.nc\n",
      "making:/glade/work/rfisher/git/ctsmsep22/cime/scripts/RTM_ens1/parameter_files/fates_params_RTM_ens1_4.nc\n",
      "making:/glade/work/rfisher/git/ctsmsep22/cime/scripts/RTM_ens1/parameter_files/fates_params_RTM_ens1_5.nc\n",
      "making:/glade/work/rfisher/git/ctsmsep22/cime/scripts/RTM_ens1/parameter_files/fates_params_RTM_ens1_6.nc\n",
      "making:/glade/work/rfisher/git/ctsmsep22/cime/scripts/RTM_ens1/parameter_files/fates_params_RTM_ens1_7.nc\n",
      "making:/glade/work/rfisher/git/ctsmsep22/cime/scripts/RTM_ens1/parameter_files/fates_params_RTM_ens1_8.nc\n",
      "making:/glade/work/rfisher/git/ctsmsep22/cime/scripts/RTM_ens1/parameter_files/fates_params_RTM_ens1_9.nc\n",
      "making:/glade/work/rfisher/git/ctsmsep22/cime/scripts/RTM_ens1/parameter_files/fates_params_RTM_ens1_10.nc\n",
      "making:/glade/work/rfisher/git/ctsmsep22/cime/scripts/RTM_ens1/parameter_files/fates_params_RTM_ens1_11.nc\n",
      "making:/glade/work/rfisher/git/ctsmsep22/cime/scripts/RTM_ens1/parameter_files/fates_params_RTM_ens1_12.nc\n"
     ]
    }
   ],
   "source": [
    "if(dosetup == 1): \n",
    "    fatesparamfile= 'fates_params_'+ens_directory+'_'\n",
    "    vs=range(0,ncases+1) \n",
    "    print(paramsdir)\n",
    "    for i in vs:\n",
    "        filename_out = paramsdir+'/'+fatesparamfile+str(i)+'.nc' \n",
    "        #print('making parameter file',i,fatesparamfile+str(i)+'.nc');\n",
    "        print('making:'+filename_out)\n",
    "        copy_clobber(filename_template,filename_out) ; \n"
   ]
  },
  {
   "cell_type": "markdown",
   "metadata": {},
   "source": [
    "#### Modify parameters for senstivity analysis. "
   ]
  },
  {
   "cell_type": "code",
   "execution_count": 20,
   "metadata": {},
   "outputs": [
    {
     "name": "stdout",
     "output_type": "stream",
     "text": [
      "['fates_rad_leaf_clumping_index', 'fates_rad_leaf_xl', 'fates_rad_leaf_rhovis', 'fates_leaf_vcmax25top', 'fates_rad_stem_tauvis', 'fates_rad_leaf_rhonir']\n"
     ]
    }
   ],
   "source": [
    "parameter_list=['fates_rad_leaf_clumping_index','fates_rad_leaf_xl',\n",
    "                'fates_rad_leaf_rhovis','fates_leaf_vcmax25top',\n",
    "                'fates_rad_stem_tauvis','fates_rad_leaf_rhonir']\n",
    "\n",
    "min_delta=[0.9,0.1,0.8,0.8,0.8,0.8]\n",
    "max_delta=[1.1,10 ,1.2,1.2,1.2,1.2]\n",
    "print(parameter_list)  "
   ]
  },
  {
   "cell_type": "code",
   "execution_count": 21,
   "metadata": {},
   "outputs": [
    {
     "name": "stdout",
     "output_type": "stream",
     "text": [
      "/glade/work/rfisher/git/ctsmsep22/cime/scripts/RTM_ens1/parameter_files/fates_params_RTM_ens1_\n",
      "0 -1\n",
      "modifying parameter file 1 fates_rad_leaf_clumping_index x 0.9\n",
      "modifying parameter file 2 fates_rad_leaf_clumping_index x 1.1\n",
      "1 1\n",
      "modifying parameter file 3 fates_rad_leaf_xl x 0.1\n",
      "modifying parameter file 4 fates_rad_leaf_xl x 10\n",
      "2 3\n",
      "modifying parameter file 5 fates_rad_leaf_rhovis x 0.8\n",
      "modifying parameter file 6 fates_rad_leaf_rhovis x 1.2\n",
      "3 5\n",
      "modifying parameter file 7 fates_leaf_vcmax25top x 0.8\n",
      "modifying parameter file 8 fates_leaf_vcmax25top x 1.2\n",
      "4 7\n",
      "modifying parameter file 9 fates_rad_stem_tauvis x 0.8\n",
      "modifying parameter file 10 fates_rad_stem_tauvis x 1.2\n",
      "5 9\n",
      "modifying parameter file 11 fates_rad_leaf_rhonir x 0.8\n",
      "modifying parameter file 12 fates_rad_leaf_rhonir x 1.2\n"
     ]
    },
    {
     "name": "stderr",
     "output_type": "stream",
     "text": [
      "/ncar/usr/jupyterhub/envs/pangeo-2019.09.12/lib/python3.7/site-packages/ipykernel_launcher.py:6: DeprecationWarning: `np.bool` is a deprecated alias for the builtin `bool`. To silence this warning, use `bool` by itself. Doing this will not modify any behavior and is safe. If you specifically wanted the numpy scalar type, use `np.bool_` here.\n",
      "Deprecated in NumPy 1.20; for more details and guidance: https://numpy.org/devdocs/release/1.20.0-notes.html#deprecations\n",
      "  \n"
     ]
    }
   ],
   "source": [
    "#n.b. I (RAF) have other scripts that do LHC sampling or n dimensional arrays. \n",
    "#just inclusing this one at a time example here for simplicity. \n",
    "if(dosetup == 1): \n",
    "    fileroot =  paramsdir+'/'+fatesparamfile \n",
    "    print(fileroot)\n",
    "    if(sp == 1):\n",
    "        for p in range(0,6):\n",
    "            print(p,p*2-1)\n",
    "            def_pftfile(fileroot,p*2+1,parameter_list[p],min_delta[p])\n",
    "            def_pftfile(fileroot,p*2+2,parameter_list[p],max_delta[p])\n"
   ]
  },
  {
   "cell_type": "markdown",
   "metadata": {},
   "source": [
    "#### Point each ensemble script at different parameter file"
   ]
  },
  {
   "cell_type": "code",
   "execution_count": 52,
   "metadata": {},
   "outputs": [
    {
     "name": "stdout",
     "output_type": "stream",
     "text": [
      "Writing parameter file names into user_nl_clm files\n",
      "pftfilename =  fates_params_RTM_ens1_0\n",
      "pftfilename =  fates_params_RTM_ens1_1\n",
      "pftfilename =  fates_params_RTM_ens1_2\n",
      "pftfilename =  fates_params_RTM_ens1_3\n",
      "pftfilename =  fates_params_RTM_ens1_4\n",
      "pftfilename =  fates_params_RTM_ens1_5\n",
      "pftfilename =  fates_params_RTM_ens1_6\n",
      "pftfilename =  fates_params_RTM_ens1_7\n",
      "pftfilename =  fates_params_RTM_ens1_8\n",
      "pftfilename =  fates_params_RTM_ens1_9\n",
      "pftfilename =  fates_params_RTM_ens1_10\n",
      "pftfilename =  fates_params_RTM_ens1_11\n",
      "pftfilename =  fates_params_RTM_ens1_12\n"
     ]
    }
   ],
   "source": [
    "%%bash -s \"$ctsmrepo\" \"$fatesparamfile\" \"$ens_directory\" \"$caseroot\" \"$dosetup\" \"$ncases\" \"$paramsdir\"\n",
    "\n",
    "\n",
    "ctsmrepo=$1\n",
    "fatesparamfile=$2\n",
    "ens_directory=$3\n",
    "caseroot=$4\n",
    "dosetup=$5\n",
    "ncases=$6\n",
    "paramsdir=$7\n",
    "\n",
    "if [ $dosetup -eq 1 ]\n",
    "then\n",
    "echo \"Writing parameter file names into user_nl_clm files\"\n",
    "unl=user_nl_clm\n",
    "cd /glade/work/$USER/git/$ctsmrepo/cime/scripts\n",
    "counter1=0\n",
    "cd $ens_directory\n",
    "\n",
    "while [[ $counter1 -le $ncases ]]\n",
    "do\n",
    "  #echo $counter1\n",
    "  newcase=$caseroot$counter1 \n",
    "  pftfilename=$fatesparamfile$counter1\n",
    "  echo \"pftfilename = \"  $pftfilename\n",
    "  if [ -d $newcase ]\n",
    "  then\n",
    "   cd $newcase\n",
    "   #get default parameter file\n",
    "    cp ../user_nl_clm_default user_nl_clm\n",
    "    sed -i \"s|fates_params_default|$pftfilename|g\" user_nl_clm\n",
    "    cd ../\n",
    "  else\n",
    "   echo 'no case', $newcase\n",
    "  fi\n",
    "\n",
    "  ((counter1++))\n",
    "  done\n",
    "#cat $newcase/user_nl_clm\n",
    "\n",
    "fi"
   ]
  },
  {
   "cell_type": "markdown",
   "metadata": {},
   "source": [
    "<h3>Submit ensemble of cases</h3>"
   ]
  },
  {
   "cell_type": "code",
   "execution_count": 53,
   "metadata": {},
   "outputs": [],
   "source": [
    "%%capture\n",
    "%%bash -s \"$ctsmrepo\" \"$defcase\" \"$ens_directory\" \"$caseroot\" \"$ncases\" \"$dosubmit\" \n",
    "\n",
    "ctsmrepo=$1\n",
    "defcase=$2\n",
    "ens_directory=$3\n",
    "caseroot=$4\n",
    "ncases=$5\n",
    "dosubmit=$6\n",
    "\n",
    "if [ $dosubmit -eq 1 ]\n",
    "then\n",
    "cd /glade/work/$USER/git/$ctsmrepo/cime/scripts\n",
    "echo 'submitting'\n",
    "startcase=0\n",
    "counter1=$startcase\n",
    "cd $ens_directory\n",
    "pwd\n",
    "\n",
    "while [ $counter1 -le $ncases ]\n",
    "do\n",
    "  echo $counter1\n",
    "  newcase=$caseroot$counter1\n",
    "  echo $newcase\n",
    "\n",
    "  if [ -d $newcase ]\n",
    "  then\n",
    "    cd $newcase\n",
    "    echo 'submitting job',$newcase\n",
    "    ./xmlchange BUILD_COMPLETE=TRUE\n",
    "    #./xmlchange RESUBMIT=1\n",
    "   # ./xmlchange PROJECT=P93300041\n",
    "    ./case.submit\n",
    "    cd ../\n",
    "  else\n",
    "   echo 'no case', $newcase\n",
    "  fi\n",
    "\n",
    "  ((counter1++))\n",
    "  done\n",
    "else\n",
    "echo \"not submitting jobs\"\n",
    "fi"
   ]
  },
  {
   "cell_type": "markdown",
   "metadata": {},
   "source": [
    "<h2>Analyse output</h2>"
   ]
  },
  {
   "cell_type": "markdown",
   "metadata": {},
   "source": [
    "### Import libraries for analysis"
   ]
  },
  {
   "cell_type": "code",
   "execution_count": 31,
   "metadata": {},
   "outputs": [],
   "source": [
    "%matplotlib inline\n",
    "if doanalysis ==1:\n",
    "    import numpy as np\n",
    "    import warnings\n",
    "    warnings.filterwarnings('ignore')\n",
    "    import xarray as xr\n",
    "    from matplotlib import pyplot as plt\n",
    "    import datetime\n",
    "    import cartopy\n",
    "    import cartopy.crs as ccrs\n",
    "    import os.path\n",
    "    import xesmf as xe"
   ]
  },
  {
   "cell_type": "code",
   "execution_count": 38,
   "metadata": {},
   "outputs": [],
   "source": [
    "if doanalysis ==1: \n",
    "    output='/glade/scratch/rfisher/'\n",
    "    conv = 3600*24*365\n",
    "    yr='.clm2.h0.'   \n",
    "    ychoose=2000\n",
    "    delta=1\n",
    "    pftnames=['BlEvTrTr','NlEvTr','NlCdDecTt','BlEvTmTr','BlDrDecTt','BlCdDecTr','BlEvSh','BlDrDecSh','BlCdDecSh','C3AG','C3G']"
   ]
  },
  {
   "cell_type": "markdown",
   "metadata": {},
   "source": [
    "<h3>Make output figure directory</h3>"
   ]
  },
  {
   "cell_type": "code",
   "execution_count": 28,
   "metadata": {},
   "outputs": [
    {
     "name": "stdout",
     "output_type": "stream",
     "text": [
      "figs_RTM_ens1\n"
     ]
    }
   ],
   "source": [
    "#fig dir\n",
    "figdirname='figs_'+ens_directory\n",
    "print(figdirname)"
   ]
  },
  {
   "cell_type": "code",
   "execution_count": 29,
   "metadata": {},
   "outputs": [
    {
     "name": "stdout",
     "output_type": "stream",
     "text": [
      "made fig firectory, figs_RTM_ens1\n"
     ]
    }
   ],
   "source": [
    "%%bash -s \"$figdirname\"  \n",
    "figdirname=$1\n",
    "\n",
    "cd $notebookdr\n",
    "if [[ -d $figdirname ]]\n",
    "then\n",
    "   echo \"existing fig firectory\",$figdirname\n",
    "else \n",
    "    mkdir $figdirname\n",
    "    echo \"made fig firectory\", $figdirname\n",
    "fi"
   ]
  },
  {
   "cell_type": "markdown",
   "metadata": {},
   "source": [
    "<h3>Make a single data structure for the ensemble</h3>"
   ]
  },
  {
   "cell_type": "code",
   "execution_count": 35,
   "metadata": {},
   "outputs": [
    {
     "name": "stdout",
     "output_type": "stream",
     "text": [
      "range(1, 13)\n",
      "RTM_ens1_case_\n",
      "1\n",
      "output in run dir\n",
      "/glade/scratch/rfisher/RTM_ens1_case_1/run//2000combined.nc\n",
      "no file exists\n",
      "fileroot: /glade/scratch/rfisher/RTM_ens1_case_1/run/RTM_ens1_case_1.clm2.h0.2000*\n",
      "/glade/scratch/rfisher/RTM_ens1_case_1/run/\n",
      "2\n",
      "output in run dir\n",
      "/glade/scratch/rfisher/RTM_ens1_case_2/run//2000combined.nc\n",
      "no file exists\n",
      "fileroot: /glade/scratch/rfisher/RTM_ens1_case_2/run/RTM_ens1_case_2.clm2.h0.2000*\n",
      "/glade/scratch/rfisher/RTM_ens1_case_2/run/\n",
      "3\n",
      "output in run dir\n",
      "/glade/scratch/rfisher/RTM_ens1_case_3/run//2000combined.nc\n",
      "no file exists\n",
      "fileroot: /glade/scratch/rfisher/RTM_ens1_case_3/run/RTM_ens1_case_3.clm2.h0.2000*\n",
      "/glade/scratch/rfisher/RTM_ens1_case_3/run/\n",
      "4\n",
      "output in run dir\n",
      "/glade/scratch/rfisher/RTM_ens1_case_4/run//2000combined.nc\n",
      "no file exists\n",
      "fileroot: /glade/scratch/rfisher/RTM_ens1_case_4/run/RTM_ens1_case_4.clm2.h0.2000*\n",
      "/glade/scratch/rfisher/RTM_ens1_case_4/run/\n",
      "5\n",
      "output in run dir\n",
      "/glade/scratch/rfisher/RTM_ens1_case_5/run//2000combined.nc\n",
      "no file exists\n",
      "fileroot: /glade/scratch/rfisher/RTM_ens1_case_5/run/RTM_ens1_case_5.clm2.h0.2000*\n",
      "/glade/scratch/rfisher/RTM_ens1_case_5/run/\n",
      "6\n",
      "output in run dir\n",
      "/glade/scratch/rfisher/RTM_ens1_case_6/run//2000combined.nc\n",
      "no file exists\n",
      "fileroot: /glade/scratch/rfisher/RTM_ens1_case_6/run/RTM_ens1_case_6.clm2.h0.2000*\n",
      "/glade/scratch/rfisher/RTM_ens1_case_6/run/\n",
      "7\n",
      "output in run dir\n",
      "/glade/scratch/rfisher/RTM_ens1_case_7/run//2000combined.nc\n",
      "no file exists\n",
      "fileroot: /glade/scratch/rfisher/RTM_ens1_case_7/run/RTM_ens1_case_7.clm2.h0.2000*\n",
      "/glade/scratch/rfisher/RTM_ens1_case_7/run/\n",
      "8\n",
      "output in run dir\n",
      "/glade/scratch/rfisher/RTM_ens1_case_8/run//2000combined.nc\n",
      "no file exists\n",
      "fileroot: /glade/scratch/rfisher/RTM_ens1_case_8/run/RTM_ens1_case_8.clm2.h0.2000*\n",
      "/glade/scratch/rfisher/RTM_ens1_case_8/run/\n",
      "9\n",
      "output in run dir\n",
      "/glade/scratch/rfisher/RTM_ens1_case_9/run//2000combined.nc\n",
      "no file exists\n",
      "fileroot: /glade/scratch/rfisher/RTM_ens1_case_9/run/RTM_ens1_case_9.clm2.h0.2000*\n",
      "/glade/scratch/rfisher/RTM_ens1_case_9/run/\n",
      "10\n",
      "output in run dir\n",
      "/glade/scratch/rfisher/RTM_ens1_case_10/run//2000combined.nc\n",
      "no file exists\n",
      "fileroot: /glade/scratch/rfisher/RTM_ens1_case_10/run/RTM_ens1_case_10.clm2.h0.2000*\n",
      "/glade/scratch/rfisher/RTM_ens1_case_10/run/\n",
      "11\n",
      "output in run dir\n",
      "/glade/scratch/rfisher/RTM_ens1_case_11/run//2000combined.nc\n",
      "no file exists\n",
      "fileroot: /glade/scratch/rfisher/RTM_ens1_case_11/run/RTM_ens1_case_11.clm2.h0.2000*\n",
      "/glade/scratch/rfisher/RTM_ens1_case_11/run/\n",
      "12\n",
      "output in run dir\n",
      "/glade/scratch/rfisher/RTM_ens1_case_12/run//2000combined.nc\n",
      "no file exists\n",
      "fileroot: /glade/scratch/rfisher/RTM_ens1_case_12/run/RTM_ens1_case_12.clm2.h0.2000*\n",
      "/glade/scratch/rfisher/RTM_ens1_case_12/run/\n",
      "end\n"
     ]
    }
   ],
   "source": [
    "if doanalysis ==1:\n",
    "    vs=range(1|0,ncases+1) \n",
    "    print(vs)\n",
    "    count=1\n",
    "    ncol=3\n",
    "    print(caseroot)\n",
    "    for i in vs:\n",
    "        print(i)\n",
    "        run=caseroot+str(i)\n",
    "        arc = output + 'archive/' + run + '/lnd/hist/'\n",
    "        f2= arc + '/'+str(ychoose)+'combined.nc'\n",
    "        if(os.path.isdir(arc)):\n",
    "            arc = arc\n",
    "        else:\n",
    "            arc = output + run + '/run/'\n",
    "            print('output in run dir')\n",
    "        fileout = arc + '/'+str(ychoose)+'combined.nc'\n",
    "        #os.remove(fileout)\n",
    "        print(fileout)\n",
    "        if(os.path.isfile(fileout)):\n",
    "            print('file exists')\n",
    "            arc=arc\n",
    "        else:\n",
    "            print('no file exists')\n",
    "            print('fileroot:',arc +run+yr+str(ychoose)+'*')\n",
    "            ds0 = xr.open_mfdataset(arc +run+yr+str(ychoose)+'*', decode_times=False)           \n",
    "            ds0.to_netcdf(fileout)\n",
    "            print(arc)\n",
    "\n",
    "print('end')"
   ]
  },
  {
   "cell_type": "code",
   "execution_count": 50,
   "metadata": {},
   "outputs": [
    {
     "name": "stdout",
     "output_type": "stream",
     "text": [
      "1\n",
      "2\n",
      "3\n",
      "4\n",
      "5\n",
      "6\n",
      "7\n",
      "8\n",
      "9\n",
      "10\n",
      "11\n",
      "12\n",
      "figs/ensemble_GPP_delta_abs_RTM_ens1_case_12.png\n"
     ]
    },
    {
     "data": {
      "image/png": "[encoded data removed]",
      "text/plain": [
       "<Figure size 1080x504 with 24 Axes>"
      ]
     },
     "metadata": {
      "needs_background": "light"
     },
     "output_type": "display_data"
    }
   ],
   "source": [
    "import time\n",
    "rel=0\n",
    "\n",
    "if doanalysis ==1:\n",
    "    conv=24*3600\n",
    "    fig = plt.figure()\n",
    "    plt.rcParams['figure.figsize'] = [15,7]\n",
    "    fig.subplots_adjust(hspace=0.3, wspace=0.2)\n",
    "    vs=range(1,ncases+1)\n",
    "    ncol=7\n",
    "    nrow=2\n",
    "    count=1\n",
    "    for i in vs:\n",
    "        index=((count+1) % 2)*ncol + ((count+1) // 2)\n",
    "        print(i)\n",
    "        ax = fig.add_subplot(nrow, ncol, index)\n",
    "        count=count+1\n",
    "        #ds0=dse1.isel(realization=i)\n",
    "        #dsdef=dse1.isel(realization=0)\n",
    "        mod=np.multiply(np.mean(ds0.QVEGT,0),conv)\n",
    "        plt1=mod.plot(cmap='RdYlBu')\n",
    "       \n",
    "              \n",
    "        ax.get_xaxis().set_visible(False)\n",
    "        ax.get_yaxis().set_visible(False)\n",
    "        \n",
    "        fig.canvas.draw()\n",
    "        time.sleep(1) \n",
    "        \n",
    "if(delta == 1):\n",
    "    if(rel==1):\n",
    "        fnmfig='figs/ensemble_GPP_delta_rel_'+caseroot +str(i)+'.png'\n",
    "    else:\n",
    "        fnmfig='figs/ensemble_GPP_delta_abs_'+caseroot +str(i)+'.png'       \n",
    "else:\n",
    "    if(rel==1):\n",
    "        fnmfig='figs/ensemble_GPP_error_rel_'+caseroot +str(i)+'.png'\n",
    "    else:\n",
    "        fnmfig='figs/ensemble_GPP_error_abs_'+caseroot +str(i)+'.png'       \n",
    "\n",
    "print(fnmfig)\n",
    "plt.savefig(fnmfig)"
   ]
  },
  {
   "cell_type": "code",
   "execution_count": null,
   "metadata": {},
   "outputs": [],
   "source": []
  }
 ],
 "metadata": {
  "kernelspec": {
   "display_name": "Pangeo (2019.09.12 - py3.7)",
   "language": "python",
   "name": "pangeo-2019.09.12"
  },
  "language_info": {
   "codemirror_mode": {
    "name": "ipython",
    "version": 3
   },
   "file_extension": ".py",
   "mimetype": "text/x-python",
   "name": "python",
   "nbconvert_exporter": "python",
   "pygments_lexer": "ipython3",
   "version": "3.7.3"
  }
 },
 "nbformat": 4,
 "nbformat_minor": 4
}
