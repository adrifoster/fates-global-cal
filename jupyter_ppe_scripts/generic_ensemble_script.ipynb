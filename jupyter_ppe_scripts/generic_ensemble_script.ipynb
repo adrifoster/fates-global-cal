{
 "cells": [
  {
   "cell_type": "markdown",
   "metadata": {},
   "source": [
    "<h1> Ensemble generation submission and analysis notebook </h1>\n",
    "\n",
    "This script uses a combination of bash and python cells to form a workflow for creating and analysing FATES (or any CLM) ensembles. It will:\n",
    "\n",
    "<ol>\n",
    "<li>Clone the github repo \n",
    "<li>Make and build a default 4x5 CLM-FATES case\n",
    "<li>Make an ensemble of CLM-FATES cases \n",
    "<li>Generate an ensemble of parameter files with one at a time or latin hypercube  modification\n",
    "<li>Point each ensemble member at a different parameter file\n",
    "<li>Submit all these jobs\n",
    "<li>Analyse output\n",
    "</ol>\n",
    "\n",
    "<h4>n.b. This notebook is also set up to work with Cheyenne specific paths, but can be modified. \n",
    "<h4>n.b. The version here is relatively simple in that it just submits a one at a time sensemble and plots maps of the output. Obviously much more can be made of the ensemble design and analysis but this is here as a generic tool... "
   ]
  },
  {
   "cell_type": "markdown",
   "metadata": {},
   "source": [
    "#### Control variables for the analysis script."
   ]
  },
  {
   "cell_type": "code",
   "execution_count": 1,
   "metadata": {},
   "outputs": [
    {
     "name": "stdout",
     "output_type": "stream",
     "text": [
      "setup, submit, analysis: 1 1 1\n"
     ]
    }
   ],
   "source": [
    "# This mega script does \n",
    "# ensemble setup (including parameter file generation.  \n",
    "# job submission and \n",
    "# analysis. \n",
    "\n",
    "# You can turn these off and on according to where you are tin the process. \n",
    "\n",
    "dosetup = 1 #do we want to create parameters files and so on?\n",
    "dosubmit = 1 #do we do the submission stage, or just the analysis?\n",
    "forcenewcase = 0 #do we scurb all the old cases and start again?\n",
    "doanalysis = 1 #do we want to plot the outputs? \n",
    "print(\"setup, submit, analysis:\", dosetup,dosubmit,doanalysis)"
   ]
  },
  {
   "cell_type": "markdown",
   "metadata": {
    "tags": []
   },
   "source": [
    "#### Define parameter space for senstivity analysis. "
   ]
  },
  {
   "cell_type": "code",
   "execution_count": 2,
   "metadata": {},
   "outputs": [
    {
     "name": "stdout",
     "output_type": "stream",
     "text": [
      "['fates_rad_leaf_clumping_index', 'fates_rad_leaf_xl', 'fates_rad_leaf_rhovis', 'fates_rad_stem_rhovis', 'fates_rad_leaf_tauvis', 'fates_rad_stem_tauvis']\n"
     ]
    }
   ],
   "source": [
    "#aspiration to make this into a dictionary...\n",
    "parameter_list=['fates_rad_leaf_clumping_index','fates_rad_leaf_xl',\n",
    "                'fates_rad_leaf_rhovis','fates_rad_stem_rhovis',\n",
    "                'fates_rad_leaf_tauvis','fates_rad_stem_tauvis' ]\n",
    "\n",
    "min_delta=[0.5,   0.01,0.75, 0.75, 0.75,0.75]\n",
    "max_delta=[1/0.85,1.4 ,1.25, 1.25, 1.25,1.25]\n",
    "print(parameter_list)  "
   ]
  },
  {
   "cell_type": "markdown",
   "metadata": {},
   "source": [
    "<h3>Set global variables and paths for ensemble analysis </h3>"
   ]
  },
  {
   "cell_type": "code",
   "execution_count": 3,
   "metadata": {},
   "outputs": [],
   "source": [
    "# FATES mode settings for the ensemble\n",
    "sp=1 #are we using SP mode?\n",
    "calib=1 # this script can be run in one at a time and latin hypercube mode.\n",
    "calibvars=2 #which set of variables are we peturbing?\n",
    "n=1 #the number of the ensemble. For when you need to do it all again ;) \n",
    "dim3=0"
   ]
  },
  {
   "cell_type": "markdown",
   "metadata": {},
   "source": [
    "### Set pathnames for parameter directories and casenames."
   ]
  },
  {
   "cell_type": "markdown",
   "metadata": {},
   "source": [
    "#### Import libraries"
   ]
  },
  {
   "cell_type": "code",
   "execution_count": 4,
   "metadata": {},
   "outputs": [],
   "source": [
    "import os\n",
    "import netCDF4 as nc4\n",
    "import sys\n",
    "import shutil\n",
    "import numpy as np\n",
    "import warnings\n",
    "warnings.filterwarnings('ignore')\n",
    "import xarray as xr\n",
    "from matplotlib import pyplot as plt\n",
    "#import datetime"
   ]
  },
  {
   "cell_type": "code",
   "execution_count": 5,
   "metadata": {},
   "outputs": [],
   "source": [
    "# what is your clone of the ctsm repo called? (or you want it to be called?) \n",
    "ctsmrepo='ctsmsep22'\n",
    "\n",
    "#what do you want the directory with the ensemble cases in to be called?\n",
    "ens_directory='RTM_ens'+str(n)\n",
    "\n",
    "#what do you want the case names to begin with?\n",
    "caseroot=ens_directory+'_case_'\n",
    "\n",
    "USER='rfisher'\n",
    "\n",
    "#path to scratch (or where the model is built.)\n",
    "defbuildroot='/glade/scratch/'\n",
    "\n",
    "#path to scratch (or where the model is built.)\n",
    "output_dir='/glade/scratch/'+USER+'/'\n",
    "\n",
    "#how many members are in the ensemble?\n",
    "ncases=12 \n",
    "\n",
    "#where are we now?\n",
    "notebookdr=os.getcwd()  \n",
    "\n"
   ]
  },
  {
   "cell_type": "markdown",
   "metadata": {},
   "source": [
    "#### SP/NOCOMP specific paths to default case/param files"
   ]
  },
  {
   "cell_type": "code",
   "execution_count": 6,
   "metadata": {},
   "outputs": [
    {
     "name": "stdout",
     "output_type": "stream",
     "text": [
      "RTM_ens1_case_\n"
     ]
    }
   ],
   "source": [
    "if(sp == 1): #Settings for the SP ensemble.\n",
    "    resub=0 #how many times to resubmit the model. \n",
    "\n",
    "    #what is the name of your 'basecase'?\n",
    "    defcase='fates_crops_smo_minlai_opt_vcmax50'\n",
    "    \n",
    "    #what is the base parameter file called?\n",
    "    paramfiledefault='fates_params_default.nc'    \n",
    "\n",
    "else: #Settings for the NOCOMP ensemble. \n",
    "    resub=2 #how many times do we want to resubmit the job?\n",
    "    \n",
    "    #what is the name of your 'basecase'?\n",
    "    defcase='SPdefault_sept'\n",
    "    \n",
    "    #what is the base parameter file called?\n",
    "    paramfiledefault='param_files_nocomp_'+str(n)   \n",
    "    paramfiledefault='/glade/u/home/rfisher/fates_sp_ensembles/param_files_sp_n6_noc4/calib_paramfiledefault.nc'\n",
    "    \n",
    "print(caseroot)\n"
   ]
  },
  {
   "cell_type": "markdown",
   "metadata": {},
   "source": [
    "#### Clone CTSM repo (if necessary)."
   ]
  },
  {
   "cell_type": "markdown",
   "metadata": {},
   "source": [
    "##### (This box and others like it go into BASH script 'mode', and hence isn't in python) "
   ]
  },
  {
   "cell_type": "code",
   "execution_count": 7,
   "metadata": {},
   "outputs": [
    {
     "name": "stdout",
     "output_type": "stream",
     "text": [
      "Already have ctsm repo\n",
      "Currently in /glade/work/rfisher/git/ctsmsep22\n"
     ]
    }
   ],
   "source": [
    "%%bash -s \"$ctsmrepo\" \"$dosetup\"\n",
    "ctsmrepo=$1\n",
    "dosetup=$2\n",
    "\n",
    "if [ $dosetup -eq 1 ]\n",
    "then\n",
    "cd /glade/work/$USER/\n",
    "#go to git directory\n",
    "if [[ -d \"git\" ]]\n",
    "then\n",
    "cd git\n",
    "else\n",
    "mkdir git\n",
    "cd git\n",
    "fi\n",
    "\n",
    "#go to git repo, or checkout code\n",
    "if [[ -d \"$ctsmrepo\" ]]\n",
    "then\n",
    "cd $ctsmrepo\n",
    "echo \"Already have ctsm repo\"\n",
    "else\n",
    "echo \"Cloning ctsm\"\n",
    "#clone CTSM code if you didn't to this already. \n",
    "#git clone https://github.com/escomp/ctsm $ctsmrepo\n",
    "cd $ctsmrepo\n",
    "#./manage_externals/checkout_externals\n",
    "cd src\n",
    "fi\n",
    "fi\n",
    "echo \"Currently in\" $(pwd)"
   ]
  },
  {
   "cell_type": "markdown",
   "metadata": {},
   "source": [
    "<h4> Make a default FATES 4x5 case (this will take a while if it has to build) </h4>"
   ]
  },
  {
   "cell_type": "code",
   "execution_count": 8,
   "metadata": {
    "tags": []
   },
   "outputs": [
    {
     "name": "stdout",
     "output_type": "stream",
     "text": [
      "defcase is fates_crops_smo_minlai_opt_vcmax50\n",
      "setup= 1\n",
      "1\n",
      "fates_crops_smo_minlai_opt_vcmax50 exists on your filesystem. .fates_crops_smo_minlai_opt_vcmax50\n",
      "Currently in /glade/work/rfisher/git/ctsmsep22/cime/scripts\n"
     ]
    }
   ],
   "source": [
    "%%bash -s \"$ctsmrepo\" \"$dosetup\" \"$defcase\" \n",
    "ctsmrepo=$1\n",
    "dosetup=$2\n",
    "defcase=$3\n",
    "echo \"defcase is\" $defcase\n",
    "echo \"setup=\" $dosetup\n",
    "echo $dosetup\n",
    "compset=2000_DATM%GSWP3v1_CLM50%FATES_SICE_SOCN_MOSART_SGLC_SWAV_SESP\n",
    "if [[ $dosetup -eq 1 ]]\n",
    "then\n",
    "cd /glade/work/$USER/git/$ctsmrepo/cime/scripts\n",
    "if [[ -d \"$defcase\" ]]\n",
    "then\n",
    "    echo \"$defcase exists on your filesystem.\" .$defcase\n",
    "else\n",
    "    echo \"making defcase.\",$defcase\n",
    "./create_newcase --case $defcase --compset 2000_DATM%GSWP3v1_CLM50%FATES_SICE_SOCN_MOSART_SGLC_SWAV_SESP --res f45_f45_mg37  --run-unsupported\n",
    "cd $defcase\n",
    "./case.setup\n",
    "./case.build\n",
    "fi\n",
    "fi\n",
    "echo \"Currently in\" $(pwd)"
   ]
  },
  {
   "cell_type": "markdown",
   "metadata": {},
   "source": [
    "#### Adjust settings of default case. "
   ]
  },
  {
   "cell_type": "code",
   "execution_count": 9,
   "metadata": {},
   "outputs": [
    {
     "name": "stdout",
     "output_type": "stream",
     "text": [
      "updating settings\n",
      "Currently in /glade/work/rfisher/git/ctsmsep22/cime/scripts/fates_crops_smo_minlai_opt_vcmax50\n"
     ]
    }
   ],
   "source": [
    "%%bash -s \"$ctsmrepo\" \"$defcase\" \"$dosetup\" \"$defbuildroot\" \n",
    "\n",
    "ctsmrepo=$1\n",
    "defcase=$2\n",
    "dosetup=$3\n",
    "defbuildroot=$4\n",
    "\n",
    "if [[ $dosetup -eq 1 ]]\n",
    "then\n",
    "defbld=$defbuildroot$USER/$defcase/bld\n",
    "cd /glade/work/$USER/git/$ctsmrepo/cime/scripts/$defcase\n",
    "\n",
    "echo 'updating settings'\n",
    "./xmlchange CONTINUE_RUN=FALSE;  \n",
    "./xmlchange --id STOP_N --val 5;  #number of years of simulation\n",
    "./xmlchange --id STOP_OPTION --val nyears;\n",
    "./xmlchange --id CLM_FORCE_COLDSTART --val on;\n",
    "echo \"Currently in\" $(pwd)\n",
    "fi"
   ]
  },
  {
   "cell_type": "markdown",
   "metadata": {},
   "source": [
    "#### Make a default user_nl_clm file"
   ]
  },
  {
   "cell_type": "code",
   "execution_count": 10,
   "metadata": {},
   "outputs": [
    {
     "name": "stdout",
     "output_type": "stream",
     "text": [
      "Currently in /glade/work/rfisher/git/ctsmsep22/cime/scripts/fates_crops_smo_minlai_opt_vcmax50\n",
      "!----------------------------------------------------------------------------------\n",
      "! Users should add all user specific namelist changes below in the form of \n",
      "! namelist_var = new_namelist_value \n",
      "!\n",
      "! EXCEPTIONS: \n",
      "! Set use_cndv           by the compset you use and the CLM_BLDNML_OPTS -dynamic_vegetation setting\n",
      "! Set use_vichydro       by the compset you use and the CLM_BLDNML_OPTS -vichydro           setting\n",
      "! Set use_cn             by the compset you use and CLM_BLDNML_OPTS -bgc  setting\n",
      "! Set use_crop           by the compset you use and CLM_BLDNML_OPTS -crop setting\n",
      "! Set spinup_state       by the CLM_BLDNML_OPTS -bgc_spinup      setting\n",
      "! Set co2_ppmv           with CCSM_CO2_PPMV                      option\n",
      "! Set fatmlndfrc         with LND_DOMAIN_PATH/LND_DOMAIN_FILE    options\n",
      "! Set finidat            with RUN_REFCASE/RUN_REFDATE/RUN_REFTOD options for hybrid or branch cases\n",
      "!                        (includes $inst_string for multi-ensemble cases)\n",
      "!                        or with CLM_FORCE_COLDSTART to do a cold start\n",
      "!                        or set it with an explicit filename here.\n",
      "! Set maxpatch_glc       with GLC_NEC                            option\n",
      "! Set glc_do_dynglacier  with GLC_TWO_WAY_COUPLING               env variable\n",
      "!----------------------------------------------------------------------------------\n",
      "\n",
      "use_fates_sp=.true.\n",
      "fates_paramfile = nullparameterfile\n"
     ]
    }
   ],
   "source": [
    "%%bash -s \"$ctsmrepo\" \"$defcase\" \"$dosetup\" \"$ens_directory\" \"$sp\"\n",
    "\n",
    "ctsmrepo=$1\n",
    "defcase=$2\n",
    "dosetup=$3\n",
    "ens_directory=$4\n",
    "usesp=$5\n",
    "\n",
    "if [[ $dosetup -eq 1 ]]\n",
    "then\n",
    "cd /glade/work/$USER/git/$ctsmrepo/cime/scripts\n",
    "cd $defcase\n",
    "\n",
    "if [ -f \"user_nl_clm_store\" ] #did we do this already?\n",
    "then\n",
    "#move the stored version to the default version\n",
    "cp user_nl_clm_store  user_nl_clm_default\n",
    "else\n",
    "#store the 'vanilla' user_nl_clm file\n",
    "cp user_nl_clm  user_nl_clm_store\n",
    "# and then make a copy of that to act as the default for the ensemble. \n",
    "cp user_nl_clm_store  user_nl_clm_default\n",
    "fi \n",
    "\n",
    "if [[ $usesp -eq 1 ]] #change to SP mode. \n",
    "then\n",
    "echo use_fates_sp=.true. >> user_nl_clm_default\n",
    "fi\n",
    "echo fates_paramfile = \"nullparameterfile\" >> user_nl_clm_default\n",
    " \n",
    "echo \"Currently in\" $(pwd)\n",
    "cp user_nl_clm_default ../$ens_directory/user_nl_clm_default\n",
    "fi\n",
    "\n",
    "cat user_nl_clm_default\n",
    "#n.b. i overwrote this with a file in the ensemble directory last time i did it."
   ]
  },
  {
   "cell_type": "markdown",
   "metadata": {},
   "source": [
    "<h3> Make ensemble of cases.</h3>"
   ]
  },
  {
   "cell_type": "code",
   "execution_count": 11,
   "metadata": {},
   "outputs": [],
   "source": [
    "%%capture\n",
    "%%bash -s \"$ctsmrepo\" \"$defcase\" c \"$ens_directory\" \"$caseroot\" \"$ncases\" \"$forcenewcase\"\n",
    "\n",
    "ctsmrepo=$1\n",
    "defcase=$2\n",
    "dosetup=$3\n",
    "ens_directory=$4\n",
    "caseroot=$5\n",
    "ncases=$6\n",
    "forcenewcase=$7\n",
    "\n",
    "echo \"ncases=\" $ncases\n",
    "echo \"caseroot=\" $caseroot\n",
    "echo \"dosetup=\" $dosetup\n",
    "echo \"forcenewcase=\" $forcenewcase\n",
    "echo \"ens_directory=\" $ens_directory\n",
    "\n",
    "if [[ $dosetup -eq 1 ]]\n",
    "then\n",
    "echo \"setup\"\n",
    "\n",
    "cd /glade/work/$USER/git/$ctsmrepo/cime/scripts\n",
    "\n",
    "if [[ -d \"$ens_directory\" ]]\n",
    "then\n",
    "echo \"already have ensemble directory\"\n",
    "else\n",
    "mkdir $ens_directory\n",
    "fi \n",
    "\n",
    "#make directory for parameter files. \n",
    "cd $ens_directory\n",
    "if [[ -d \"parameter_files\" ]]\n",
    "then\n",
    "echo \"already have parameter_files directory\"\n",
    "else\n",
    "mkdir parameter_files\n",
    "fi \n",
    "cd ..\n",
    "\n",
    "counter1=0 #include a default zero case. \n",
    "while [ $counter1 -le $ncases ]\n",
    "do\n",
    "  newcase=$caseroot$counter1 #name of ensemble membr case.    \n",
    "  if [ -d $ens_directory/$newcase ]\n",
    "  then\n",
    "    echo ' new case already exists',$ens_directory/$newcase\n",
    "    if [ $forcenewcase -eq 1 ]\n",
    "    then\n",
    "    echo 'force making case', $ens_directory/$newcase\n",
    "    rm -rf $ens_directory/$newcase\n",
    "    ./create_clone --clone $defcase --case $ens_directory/$newcase ;\n",
    "    fi    \n",
    "  else\n",
    "   echo 'making new case', $ens_directory/$newcase\n",
    "    ./create_clone --clone $defcase --case $ens_directory/$newcase ;\n",
    "  fi\n",
    "((counter1++))\n",
    "done\n",
    "\n",
    "counter1=0 #include a default zero case. \n",
    "while [ $counter1 -le $ncases ]\n",
    "do\n",
    "  newcase=$caseroot$counter1 #name of ensemble membr case.   \n",
    "   cd $ens_directory/$newcase\n",
    "   echo 'case setup', $ens_directory/$newcase\n",
    "   ./case.setup;\n",
    "    cd ../../ \n",
    "((counter1++))\n",
    "done\n",
    "fi"
   ]
  },
  {
   "cell_type": "markdown",
   "metadata": {},
   "source": [
    "<h3> Create .nc version of current defualt file. I FAILED ATT THIS. NEEDS INPUT..</h3>\n",
    "You currently have to do this step manually, by doing this in the terminal:\n",
    "\n",
    "<i> cd /glade/work/$USER/git/$ctsmrepo/src/fates/parameter_files/</i><br>\n",
    "<i>ncgen -o fates_params_default.nc fates_params_default.cdl </i>"
   ]
  },
  {
   "cell_type": "markdown",
   "metadata": {},
   "source": [
    "#### Copy default .nc template parameter file to ensemble parameter directory . "
   ]
  },
  {
   "cell_type": "code",
   "execution_count": 12,
   "metadata": {},
   "outputs": [
    {
     "name": "stdout",
     "output_type": "stream",
     "text": [
      "default parameters in/glade/work/rfisher/git/ctsmsep22/cime/scripts/RTM_ens1/parameter_files/fates_params_default.nc\n"
     ]
    }
   ],
   "source": [
    "if(dosetup == 1): \n",
    "    paramsdir='/glade/work/'+USER+'/git/'+ctsmrepo+'/cime/scripts/'+ens_directory+'/parameter_files'\n",
    "    defparamfile='/glade/work/'+USER+'/git/'+ctsmrepo+'/src/fates/parameter_files/'+paramfiledefault\n",
    "    filename_template = paramsdir+'/'+paramfiledefault\n",
    "    try:\n",
    "        os.remove(filename_template)\n",
    "    except:\n",
    "        print('file does not yet exist: '+filename_template)\n",
    "    shutil.copy(defparamfile,filename_template)\n",
    "    print('default parameters in'+filename_template)"
   ]
  },
  {
   "cell_type": "markdown",
   "metadata": {},
   "source": [
    "#### Create ensemble of parameter files"
   ]
  },
  {
   "cell_type": "code",
   "execution_count": 13,
   "metadata": {},
   "outputs": [
    {
     "name": "stdout",
     "output_type": "stream",
     "text": [
      "make:/glade/work/rfisher/git/ctsmsep22/cime/scripts/RTM_ens1/parameter_files/fates_params_RTM_ens1_0.nc\n",
      "make:/glade/work/rfisher/git/ctsmsep22/cime/scripts/RTM_ens1/parameter_files/fates_params_RTM_ens1_1.nc\n",
      "make:/glade/work/rfisher/git/ctsmsep22/cime/scripts/RTM_ens1/parameter_files/fates_params_RTM_ens1_2.nc\n",
      "make:/glade/work/rfisher/git/ctsmsep22/cime/scripts/RTM_ens1/parameter_files/fates_params_RTM_ens1_3.nc\n",
      "make:/glade/work/rfisher/git/ctsmsep22/cime/scripts/RTM_ens1/parameter_files/fates_params_RTM_ens1_4.nc\n",
      "make:/glade/work/rfisher/git/ctsmsep22/cime/scripts/RTM_ens1/parameter_files/fates_params_RTM_ens1_5.nc\n",
      "make:/glade/work/rfisher/git/ctsmsep22/cime/scripts/RTM_ens1/parameter_files/fates_params_RTM_ens1_6.nc\n",
      "make:/glade/work/rfisher/git/ctsmsep22/cime/scripts/RTM_ens1/parameter_files/fates_params_RTM_ens1_7.nc\n",
      "make:/glade/work/rfisher/git/ctsmsep22/cime/scripts/RTM_ens1/parameter_files/fates_params_RTM_ens1_8.nc\n",
      "make:/glade/work/rfisher/git/ctsmsep22/cime/scripts/RTM_ens1/parameter_files/fates_params_RTM_ens1_9.nc\n",
      "make:/glade/work/rfisher/git/ctsmsep22/cime/scripts/RTM_ens1/parameter_files/fates_params_RTM_ens1_10.nc\n",
      "make:/glade/work/rfisher/git/ctsmsep22/cime/scripts/RTM_ens1/parameter_files/fates_params_RTM_ens1_11.nc\n",
      "make:/glade/work/rfisher/git/ctsmsep22/cime/scripts/RTM_ens1/parameter_files/fates_params_RTM_ens1_12.nc\n"
     ]
    }
   ],
   "source": [
    "if(dosetup == 1): \n",
    "    fatesparamfile= 'fates_params_'+ens_directory+'_'\n",
    "    vs=range(0,ncases+1) \n",
    "    for i in vs:\n",
    "        filename_out = paramsdir+'/'+fatesparamfile+str(i)+'.nc' \n",
    "        print('make:'+filename_out)\n",
    "        try:\n",
    "            os.remove(filename_out)\n",
    "        except:\n",
    "            print('file does not yet exist: '+filename_out)\n",
    "        shutil.copy(filename_template,filename_out)"
   ]
  },
  {
   "cell_type": "markdown",
   "metadata": {},
   "source": [
    "#### Make function to modify FATES parameter files. "
   ]
  },
  {
   "cell_type": "code",
   "execution_count": 14,
   "metadata": {},
   "outputs": [],
   "source": [
    "def def_pftfile( fileroot,i,variable,delta):   \n",
    "    pfilename = fileroot+str(i)+'.nc' \n",
    "    fin = nc4.Dataset(pfilename, 'r+')\n",
    "    print('modifying parameter file',i,variable,delta);\n",
    "    var = fin.variables[variable]\n",
    "    var[:] = var[:]*delta\n",
    "    fin.close()"
   ]
  },
  {
   "cell_type": "markdown",
   "metadata": {
    "tags": []
   },
   "source": [
    "#### Modify parameter files (one at a time)"
   ]
  },
  {
   "cell_type": "code",
   "execution_count": 15,
   "metadata": {},
   "outputs": [
    {
     "name": "stdout",
     "output_type": "stream",
     "text": [
      "modifying parameter file 1 fates_rad_leaf_clumping_index 0.5\n",
      "modifying parameter file 2 fates_rad_leaf_clumping_index 1.1764705882352942\n",
      "modifying parameter file 3 fates_rad_leaf_xl 0.01\n",
      "modifying parameter file 4 fates_rad_leaf_xl 1.4\n",
      "modifying parameter file 5 fates_rad_leaf_rhovis 0.75\n",
      "modifying parameter file 6 fates_rad_leaf_rhovis 1.25\n",
      "modifying parameter file 7 fates_rad_stem_rhovis 0.75\n",
      "modifying parameter file 8 fates_rad_stem_rhovis 1.25\n",
      "modifying parameter file 9 fates_rad_leaf_tauvis 0.75\n",
      "modifying parameter file 10 fates_rad_leaf_tauvis 1.25\n",
      "modifying parameter file 11 fates_rad_stem_tauvis 0.75\n",
      "modifying parameter file 12 fates_rad_stem_tauvis 1.25\n"
     ]
    }
   ],
   "source": [
    "#n.b. I (RAF) have other scripts that do LHC sampling or n dimensional arrays. \n",
    "#just including this one at a time example here for simplicity. \n",
    "\n",
    "if(dosetup == 1): \n",
    "    fileroot =  paramsdir+'/'+fatesparamfile \n",
    "    if(sp == 1):\n",
    "        for p in range(0,6):\n",
    "            def_pftfile(fileroot,p*2+1,parameter_list[p],min_delta[p])\n",
    "            def_pftfile(fileroot,p*2+2,parameter_list[p],max_delta[p])\n"
   ]
  },
  {
   "cell_type": "markdown",
   "metadata": {},
   "source": [
    "#### Point each ensemble script at different parameter file"
   ]
  },
  {
   "cell_type": "code",
   "execution_count": 26,
   "metadata": {},
   "outputs": [
    {
     "name": "stdout",
     "output_type": "stream",
     "text": [
      "/glade/work/rfisher/git/ctsmsep22/cime/scripts/RTM_ens1/parameter_files/fates_params_RTM_ens1_0.nc\n",
      "/glade/work/rfisher/git/ctsmsep22/cime/scripts/RTM_ens1/parameter_files/fates_params_RTM_ens1_1.nc\n",
      "/glade/work/rfisher/git/ctsmsep22/cime/scripts/RTM_ens1/parameter_files/fates_params_RTM_ens1_2.nc\n",
      "/glade/work/rfisher/git/ctsmsep22/cime/scripts/RTM_ens1/parameter_files/fates_params_RTM_ens1_3.nc\n",
      "/glade/work/rfisher/git/ctsmsep22/cime/scripts/RTM_ens1/parameter_files/fates_params_RTM_ens1_4.nc\n",
      "/glade/work/rfisher/git/ctsmsep22/cime/scripts/RTM_ens1/parameter_files/fates_params_RTM_ens1_5.nc\n",
      "/glade/work/rfisher/git/ctsmsep22/cime/scripts/RTM_ens1/parameter_files/fates_params_RTM_ens1_6.nc\n",
      "/glade/work/rfisher/git/ctsmsep22/cime/scripts/RTM_ens1/parameter_files/fates_params_RTM_ens1_7.nc\n",
      "/glade/work/rfisher/git/ctsmsep22/cime/scripts/RTM_ens1/parameter_files/fates_params_RTM_ens1_8.nc\n",
      "/glade/work/rfisher/git/ctsmsep22/cime/scripts/RTM_ens1/parameter_files/fates_params_RTM_ens1_9.nc\n",
      "/glade/work/rfisher/git/ctsmsep22/cime/scripts/RTM_ens1/parameter_files/fates_params_RTM_ens1_10.nc\n",
      "/glade/work/rfisher/git/ctsmsep22/cime/scripts/RTM_ens1/parameter_files/fates_params_RTM_ens1_11.nc\n",
      "/glade/work/rfisher/git/ctsmsep22/cime/scripts/RTM_ens1/parameter_files/fates_params_RTM_ens1_12.nc\n"
     ]
    }
   ],
   "source": [
    "if(dosetup == 1): \n",
    "    root= '/glade/work/'+USER+'/git/'+ctsmrepo+'/cime/scripts/'+ens_directory+'/'\n",
    "    fatesparamfile='fates_params_'+ens_directory+'_'\n",
    "    vs=range(0,ncases+1) \n",
    "    for i in vs:\n",
    "        pftfilename = paramsdir+'/'+fatesparamfile+str(i)+'.nc'    \n",
    "        print(pftfilename)\n",
    "        unlfile=root+caseroot+str(i)+'/'+'user_nl_clm'\n",
    "        #print('unl='+unlfile)   \n",
    "        fin = open(unlfile, \"rt\")     \n",
    "        data = fin.read()   #read file contents to string   \n",
    "        data = data.replace('pyton', 'python') #replace all occurrences of the required string        \n",
    "        fin.close() #close the input file       \n",
    "        fin = open(unlfile, \"wt\") #open the input file in write mode     \n",
    "        fin.write(data) #overrite the input file with the resulting data       \n",
    "        fin.close() #close the file"
   ]
  },
  {
   "cell_type": "markdown",
   "metadata": {},
   "source": [
    "#### Check parameter files were correctly modifed"
   ]
  },
  {
   "cell_type": "code",
   "execution_count": 35,
   "metadata": {},
   "outputs": [
    {
     "name": "stdout",
     "output_type": "stream",
     "text": [
      "/glade/work/rfisher/git/ctsmsep22/cime/scripts/RTM_ens1/parameter_files/fates_params_RTM_ens1_0.nc\n",
      "actual ratio: [0.75 0.75 0.75 0.75 0.75 0.75 0.75 0.75 0.75 0.75 0.75 0.75]\n",
      "target ratio: 0.75\n"
     ]
    }
   ],
   "source": [
    "i=5\n",
    "paramnum=2\n",
    "pf= paramsdir+'/'+fatesparamfile+str(0)+'.nc' \n",
    "print(pf)\n",
    "find = nc4.Dataset(pf, 'r+')\n",
    "vardef=find.variables[parameter_list[paramnum]]\n",
    "pf= paramsdir+'/'+fatesparamfile+str(i)+'.nc' \n",
    "finm = nc4.Dataset(pf, 'r+')\n",
    "varmod=finm.variables[parameter_list[paramnum]]\n",
    "print('actual ratio:',np.divide(varmod[:],vardef[:]))\n",
    "print('target ratio:',min_delta[paramnum])"
   ]
  },
  {
   "cell_type": "markdown",
   "metadata": {},
   "source": [
    "<h3>Submit ensemble of cases</h3>"
   ]
  },
  {
   "cell_type": "code",
   "execution_count": 36,
   "metadata": {},
   "outputs": [],
   "source": [
    "%%capture\n",
    "%%bash -s \"$ctsmrepo\" \"$defcase\" \"$ens_directory\" \"$caseroot\" \"$ncases\" \"$dosubmit\" \n",
    "\n",
    "ctsmrepo=$1\n",
    "defcase=$2\n",
    "ens_directory=$3\n",
    "caseroot=$4\n",
    "ncases=$5\n",
    "dosubmit=$6\n",
    "\n",
    "if [ $dosubmit -eq 1 ]\n",
    "then\n",
    "cd /glade/work/$USER/git/$ctsmrepo/cime/scripts\n",
    "echo 'submitting'\n",
    "startcase=0\n",
    "counter1=$startcase\n",
    "cd $ens_directory\n",
    "pwd\n",
    "\n",
    "while [ $counter1 -le $ncases ]\n",
    "do\n",
    "  echo $counter1\n",
    "  newcase=$caseroot$counter1\n",
    "  echo $newcase\n",
    "\n",
    "  if [ -d $newcase ]\n",
    "  then\n",
    "    cd $newcase\n",
    "    cat user_nl_clm\n",
    "    echo 'submitting job',$newcase\n",
    "    ./xmlchange BUILD_COMPLETE=TRUE\n",
    "    #./xmlchange RESUBMIT=1\n",
    "   # ./xmlchange PROJECT=P93300041\n",
    "    ./case.submit\n",
    "    cd ../\n",
    "  else\n",
    "   echo 'no case', $newcase\n",
    "  fi\n",
    "\n",
    "  ((counter1++))\n",
    "  done\n",
    "else\n",
    "echo \"not submitting jobs\"\n",
    "fi"
   ]
  },
  {
   "cell_type": "markdown",
   "metadata": {},
   "source": [
    "<h2>Analyse output</h2>"
   ]
  },
  {
   "cell_type": "markdown",
   "metadata": {},
   "source": [
    "### Paths for analysis"
   ]
  },
  {
   "cell_type": "code",
   "execution_count": 39,
   "metadata": {},
   "outputs": [
    {
     "name": "stdout",
     "output_type": "stream",
     "text": [
      "ychoose= 2001\n"
     ]
    }
   ],
   "source": [
    "if doanalysis ==1: \n",
    "    output='/glade/scratch/rfisher/'\n",
    "    conv = 3600*24*365\n",
    "    yr='.clm2.h0.'   \n",
    "    ychoose=2001\n",
    "    delta=1\n",
    "    print('ychoose=', ychoose)"
   ]
  },
  {
   "cell_type": "markdown",
   "metadata": {},
   "source": [
    "<h3>Make output figure directory</h3>"
   ]
  },
  {
   "cell_type": "code",
   "execution_count": 42,
   "metadata": {},
   "outputs": [
    {
     "name": "stdout",
     "output_type": "stream",
     "text": [
      "dir exists already:/glade/u/home/rfisher/fates_sp_ensembles/figs_RTM_ens1\n"
     ]
    }
   ],
   "source": [
    "figdirname='figs_'+ens_directory\n",
    "current=os.getcwd()\n",
    "figpath = os.path.join(current, figdirname)\n",
    "if(os.path.isdir(figpath)):\n",
    "    print('dir exists already:'+figpath)\n",
    "else:\n",
    "    os.mkdir(path)\n",
    "    print('made: '+figpath)"
   ]
  },
  {
   "cell_type": "markdown",
   "metadata": {},
   "source": [
    "<h3>Make a single data structure for the ensemble</h3>"
   ]
  },
  {
   "cell_type": "code",
   "execution_count": 37,
   "metadata": {},
   "outputs": [
    {
     "name": "stdout",
     "output_type": "stream",
     "text": [
      "/glade/scratch/rfisher/\n",
      "RTM_ens1_case_\n",
      "/glade/scratch/rfisher/archive/RTM_ens1_case_0/lnd/hist/\n",
      "is archive\n",
      "file in archive\n",
      "/glade/scratch/rfisher/archive/RTM_ens1_case_0/lnd/hist/RTM_ens1_case_0.clm2.h0.2003-01.nc\n",
      "/glade/scratch/rfisher/archive/RTM_ens1_case_1/lnd/hist/\n",
      "is archive\n",
      "file in archive\n",
      "/glade/scratch/rfisher/archive/RTM_ens1_case_1/lnd/hist/RTM_ens1_case_1.clm2.h0.2003-01.nc\n",
      "/glade/scratch/rfisher/archive/RTM_ens1_case_2/lnd/hist/\n",
      "is archive\n",
      "file in archive\n",
      "/glade/scratch/rfisher/archive/RTM_ens1_case_2/lnd/hist/RTM_ens1_case_2.clm2.h0.2003-01.nc\n",
      "/glade/scratch/rfisher/archive/RTM_ens1_case_3/lnd/hist/\n",
      "is archive\n",
      "file in archive\n",
      "/glade/scratch/rfisher/archive/RTM_ens1_case_3/lnd/hist/RTM_ens1_case_3.clm2.h0.2003-01.nc\n",
      "/glade/scratch/rfisher/archive/RTM_ens1_case_4/lnd/hist/\n",
      "is archive\n",
      "file in archive\n",
      "/glade/scratch/rfisher/archive/RTM_ens1_case_4/lnd/hist/RTM_ens1_case_4.clm2.h0.2003-01.nc\n",
      "/glade/scratch/rfisher/archive/RTM_ens1_case_5/lnd/hist/\n",
      "is archive\n",
      "file in archive\n",
      "/glade/scratch/rfisher/archive/RTM_ens1_case_5/lnd/hist/RTM_ens1_case_5.clm2.h0.2003-01.nc\n",
      "/glade/scratch/rfisher/archive/RTM_ens1_case_6/lnd/hist/\n",
      "is archive\n",
      "file in archive\n",
      "/glade/scratch/rfisher/archive/RTM_ens1_case_6/lnd/hist/RTM_ens1_case_6.clm2.h0.2003-01.nc\n",
      "/glade/scratch/rfisher/archive/RTM_ens1_case_7/lnd/hist/\n",
      "is archive\n",
      "file in archive\n",
      "/glade/scratch/rfisher/archive/RTM_ens1_case_7/lnd/hist/RTM_ens1_case_7.clm2.h0.2003-01.nc\n",
      "/glade/scratch/rfisher/archive/RTM_ens1_case_8/lnd/hist/\n",
      "is archive\n",
      "file in archive\n",
      "/glade/scratch/rfisher/archive/RTM_ens1_case_8/lnd/hist/RTM_ens1_case_8.clm2.h0.2003-01.nc\n",
      "/glade/scratch/rfisher/archive/RTM_ens1_case_9/lnd/hist/\n",
      "is archive\n",
      "file in archive\n",
      "/glade/scratch/rfisher/archive/RTM_ens1_case_9/lnd/hist/RTM_ens1_case_9.clm2.h0.2003-01.nc\n",
      "/glade/scratch/rfisher/archive/RTM_ens1_case_10/lnd/hist/\n",
      "is archive\n",
      "file in archive\n",
      "/glade/scratch/rfisher/archive/RTM_ens1_case_10/lnd/hist/RTM_ens1_case_10.clm2.h0.2003-01.nc\n",
      "/glade/scratch/rfisher/archive/RTM_ens1_case_11/lnd/hist/\n",
      "is archive\n",
      "file in archive\n",
      "/glade/scratch/rfisher/archive/RTM_ens1_case_11/lnd/hist/RTM_ens1_case_11.clm2.h0.2003-01.nc\n",
      "/glade/scratch/rfisher/archive/RTM_ens1_case_12/lnd/hist/\n",
      "is archive\n",
      "file in archive\n",
      "/glade/scratch/rfisher/archive/RTM_ens1_case_12/lnd/hist/RTM_ens1_case_12.clm2.h0.2003-01.nc\n",
      "end\n"
     ]
    }
   ],
   "source": [
    "ychoose=2003\n",
    "print(output_dir)\n",
    "if doanalysis ==1:\n",
    "    hstring='.clm2.h0.'\n",
    "    vs=range(0,ncases+1)\n",
    "    count=1\n",
    "    print(caseroot)\n",
    "    for i in vs:       \n",
    "        run=caseroot+str(i)\n",
    "        os.listdir(output_dir + '/archive')\n",
    "        arc = output_dir + 'archive/' + run + '/lnd/hist/' \n",
    "        hpath = arc\n",
    "        tfile = run+hstring+str(ychoose)+'-01.nc'\n",
    "        print(hpath)\n",
    "        if(os.path.isdir(hpath)): \n",
    "            print('is archive')\n",
    "            if(os.path.isfile(hpath+tfile)): \n",
    "                print('file in archive')\n",
    "            else:\n",
    "                print('file not in archive',hpath+tfile)\n",
    "                #os.listdir(hpath)\n",
    "        else:\n",
    "            print('no archive')\n",
    "            hpath = output_dir + run + '/run/'            \n",
    "            if(os.path.isdir(hpath)): \n",
    "                print('is rundir',hpath)                \n",
    "                if(os.path.isfile(hpath+tfile)):\n",
    "                    print('file in  rundir',hpath+tfile)\n",
    "                else:\n",
    "                    print('no file in  rundir',hpath+tfile)                    \n",
    "            else:\n",
    "                print('no  rundir',hpath)\n",
    "\n",
    "        #print(hpath)\n",
    "        vars=['FATES_GPP','FSR','SABV','lat','lon','time']\n",
    "        print(hpath +run+hstring+str(ychoose)+'-01.nc')\n",
    "        allvars=list(xr.open_dataset(hpath +run+hstring+str(ychoose)+'-01.nc', decode_times=False).variables)\n",
    "        dropvars=list(set(allvars) - set(vars)) #thanks to Ben for figuring this part out :) \n",
    "        tmp=xr.open_mfdataset(arc +run+hstring+str(ychoose)+'*', decode_times=False, drop_variables=dropvars)\n",
    "\n",
    "        if i==0:\n",
    "            dsc = tmp           \n",
    "        else:\n",
    "            dsc=xr.concat([dsc,tmp],'ens')\n",
    "\n",
    "print('end')"
   ]
  },
  {
   "cell_type": "markdown",
   "metadata": {},
   "source": [
    "#### Save data in netcdf file just incase"
   ]
  },
  {
   "cell_type": "code",
   "execution_count": 40,
   "metadata": {},
   "outputs": [
    {
     "ename": "NameError",
     "evalue": "name 'figpath' is not defined",
     "output_type": "error",
     "traceback": [
      "\u001b[0;31m---------------------------------------------------------------------------\u001b[0m",
      "\u001b[0;31mNameError\u001b[0m                                 Traceback (most recent call last)",
      "Input \u001b[0;32mIn [40]\u001b[0m, in \u001b[0;36m<cell line: 1>\u001b[0;34m()\u001b[0m\n\u001b[0;32m----> 1\u001b[0m outfile\u001b[38;5;241m=\u001b[39m\u001b[43mfigpath\u001b[49m\u001b[38;5;241m+\u001b[39m\u001b[38;5;124m'\u001b[39m\u001b[38;5;124m/dataout.nc\u001b[39m\u001b[38;5;124m'\u001b[39m \n\u001b[1;32m      2\u001b[0m dsc\u001b[38;5;241m.\u001b[39mto_netcdf(outfile)\n\u001b[1;32m      3\u001b[0m os\u001b[38;5;241m.\u001b[39mlistdir(figpath)\n",
      "\u001b[0;31mNameError\u001b[0m: name 'figpath' is not defined"
     ]
    }
   ],
   "source": [
    "outfile=figpath+'/dataout.nc' \n",
    "dsc.to_netcdf(outfile)\n",
    "os.listdir(figpath)"
   ]
  },
  {
   "cell_type": "code",
   "execution_count": null,
   "metadata": {},
   "outputs": [],
   "source": [
    "print(dsc)"
   ]
  },
  {
   "cell_type": "markdown",
   "metadata": {},
   "source": [
    "#### Plot delta from default"
   ]
  },
  {
   "cell_type": "code",
   "execution_count": null,
   "metadata": {},
   "outputs": [],
   "source": [
    "import time\n",
    "rel=0\n",
    "v=3\n",
    "if doanalysis ==1:\n",
    "    conv=1\n",
    "    fig = plt.figure()\n",
    "    plt.rcParams['figure.figsize'] = [19,7]\n",
    "    fig.subplots_adjust(hspace=0.3, wspace=0.2)\n",
    "    vs=range(1,ncases+1)\n",
    "    ncol=7\n",
    "    nrow=2\n",
    "    count=1\n",
    "    var_0=dsc.SABV.isel(ens=0)\n",
    "    defm=np.multiply(np.mean(var_0,0),conv)\n",
    "    for i in vs:\n",
    "        index=((count+1) % 2)*ncol + ((count+1) // 2)\n",
    "        print(index,count,(count+1) % 2,((count+1) // 2),(((count+1) // 2))-1)\n",
    "        ax = fig.add_subplot(nrow, ncol, index)\n",
    "\n",
    "        #ds0=dse1.isel(realization=i)\n",
    "        var_i=dsc.SABV.isel(ens=i)\n",
    "        mod=np.multiply(np.mean(var_i,0),conv)\n",
    "        \n",
    "        delt=mod-defm\n",
    "        plt1=delt.plot(cmap='RdYlBu')\n",
    "                    \n",
    "        ax.get_xaxis().set_visible(False)\n",
    "        ax.get_yaxis().set_visible(False)\n",
    "        if((count+1) % 2==0):\n",
    "            ex=' +'\n",
    "        else:\n",
    "            ex=' -'\n",
    "        ax.set_title(str(parameter_list[(((count+1) // 2))-1]+ex))\n",
    "        count=count+1\n",
    "        fig.canvas.draw()\n",
    "        time.sleep(1) \n",
    "          "
   ]
  },
  {
   "cell_type": "code",
   "execution_count": null,
   "metadata": {},
   "outputs": [],
   "source": [
    "import time\n",
    "rel=0\n",
    "v=2\n",
    "if doanalysis ==1:\n",
    "    conv=1\n",
    "    fig = plt.figure()\n",
    "    plt.rcParams['figure.figsize'] = [19,7]\n",
    "    fig.subplots_adjust(hspace=0.3, wspace=0.2)\n",
    "    vs=range(1,ncases+1)\n",
    "    ncol=7\n",
    "    nrow=2\n",
    "    count=1\n",
    "    var_0=dsc.FSR.isel(ens=0)\n",
    "    defm=np.multiply(np.mean(var_0,0),conv)\n",
    "    for i in vs:\n",
    "        index=((count+1) % 2)*ncol + ((count+1) // 2)\n",
    "        print(index,count,(count+1) % 2,((count+1) // 2),(((count+1) // 2))-1)\n",
    "        ax = fig.add_subplot(nrow, ncol, index)\n",
    "\n",
    "        #ds0=dse1.isel(realization=i)\n",
    "        var_i=dsc.FSR.isel(ens=i)\n",
    "        mod=np.multiply(np.mean(var_i,0),conv)\n",
    "        \n",
    "        delt=mod-defm\n",
    "        plt1=delt.plot(cmap='RdYlBu')\n",
    "                    \n",
    "        ax.get_xaxis().set_visible(False)\n",
    "        ax.get_yaxis().set_visible(False)\n",
    "        if((count+1) % 2==0):\n",
    "            ex=' +'\n",
    "        else:\n",
    "            ex=' -'\n",
    "        ax.set_title(str(parameter_list[(((count+1) // 2))-1]+ex))\n",
    "        count=count+1\n",
    "        fig.canvas.draw()\n",
    "        time.sleep(1) \n",
    "          "
   ]
  },
  {
   "cell_type": "code",
   "execution_count": null,
   "metadata": {},
   "outputs": [],
   "source": []
  }
 ],
 "metadata": {
  "kernelspec": {
   "display_name": "NPL 2022b",
   "language": "python",
   "name": "npl-2022b"
  },
  "language_info": {
   "codemirror_mode": {
    "name": "ipython",
    "version": 3
   },
   "file_extension": ".py",
   "mimetype": "text/x-python",
   "name": "python",
   "nbconvert_exporter": "python",
   "pygments_lexer": "ipython3",
   "version": "3.8.13"
  }
 },
 "nbformat": 4,
 "nbformat_minor": 4
}
