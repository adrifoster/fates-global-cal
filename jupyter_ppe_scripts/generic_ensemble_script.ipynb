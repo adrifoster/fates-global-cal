{
 "cells": [
  {
   "cell_type": "markdown",
   "metadata": {},
   "source": [
    "<h1> Ensemble generation submission and analysis notebook </h1>\n",
    "\n",
    "This script uses a combination of bash and python cells to form a workflow for creating and analysing FATES (or any CLM) ensembles. It will:\n",
    "\n",
    "<ol>\n",
    "<li>Clone the github repo \n",
    "<li>Make and build a default 4x5 CLM-FATES case\n",
    "<li>Make an ensemble of CLM-FATES cases \n",
    "<li>Generate an ensemble of parameter files with one at a time or latin hypercube  modification\n",
    "<li>Point each ensemble member at a different parameter file\n",
    "<li>Submit all these jobs\n",
    "<li>Analyse output\n",
    "</ol>\n",
    "\n",
    "n.b. This notebook is also set up to work with Cheyenne specific paths, but can be modified. \n",
    "\n",
    "The version here is relatively simple in that it just submits a one at a time sensemble and plots maps of the output. Obviously much more can be made of the ensemble design and analysis but this is here as a generic tool... "
   ]
  },
  {
   "cell_type": "markdown",
   "metadata": {},
   "source": [
    "#### INITIALISE: Control variables for the analysis script."
   ]
  },
  {
   "cell_type": "code",
   "execution_count": 1,
   "metadata": {},
   "outputs": [
    {
     "name": "stdout",
     "output_type": "stream",
     "text": [
      "setup, submit, analysis: 0 0 1\n"
     ]
    }
   ],
   "source": [
    "# This mega script does \n",
    "# ensemble setup (including parameter file generation.  \n",
    "# job submission and \n",
    "# analysis. \n",
    "\n",
    "# You can turn these off and on according to where you are tin the process. \n",
    "\n",
    "dosetup = 0 #do we want to create parameters files and so on?\n",
    "dosubmit = 0 #do we do the submission stage, or just the analysis?\n",
    "forcenewcase = 0 #do we scurb all the old cases and start again?\n",
    "doanalysis = 1 #do we want to plot the outputs? \n",
    "print(\"setup, submit, analysis:\", dosetup,dosubmit,doanalysis)"
   ]
  },
  {
   "cell_type": "markdown",
   "metadata": {
    "tags": []
   },
   "source": [
    "#### INITIALISE: Define parameter space for senstivity analysis. "
   ]
  },
  {
   "cell_type": "code",
   "execution_count": 2,
   "metadata": {},
   "outputs": [
    {
     "name": "stdout",
     "output_type": "stream",
     "text": [
      "['fates_rad_leaf_xl']\n"
     ]
    }
   ],
   "source": [
    "#aspiration to make this into a dictionary...\n",
    "n=2 #the number of the ensemble. For when you need to do it all again ;) \n",
    "\n",
    "if(n == 1):\n",
    "    parameter_list=['fates_rad_leaf_clumping_index','fates_rad_leaf_xl',\n",
    "                'fates_rad_leaf_rhovis','fates_rad_stem_rhovis',\n",
    "                'fates_rad_leaf_tauvis','fates_rad_stem_tauvis' ,\n",
    "               'fates_vai_top_bin_width','fates_vai_width_increase_factor']\n",
    "    parameter_label=['clumping_index','leaf_xl',\n",
    "                'leaf_rhovis','stem_rhovis',\n",
    "                'leaf_tauvis','stem_tauvis' ,\n",
    "               'top_bin_width','width_increase_factor']\n",
    "    nparams = 8\n",
    "    pmode = 1 #mode of varying the parameters. OAAT. \n",
    "    #how many members are in the ensemble?\n",
    "    sp=1 #are we using SP mode?\n",
    "    ncases=nparams*2\n",
    "    min_delta=[0.5,   0.01,0.75, 0.75, 0.75,0.75, 0.25, 1.1]\n",
    "    max_delta=[1/0.85,1.4 ,1.25, 1.25, 1.25,1.25, 0.5, 1.25]\n",
    "    \n",
    "# ensemble 2 is to look at a range of absolute values of xl\n",
    "if(n == 2):\n",
    "    pvalue=[-0.99, -0.75, -0.5, -0.25, 0, 0.25, 0.5, 0.75, 0.99]\n",
    "    ncases = 8 #(this is zero indexed)\n",
    "    parameter_list=['fates_rad_leaf_xl']\n",
    "    pmode = 2 #just vary this one parameter. \n",
    "    parameter_label=['leaf_xl']\n",
    "    sp=1 #are we using SP mode?\n",
    "    \n",
    "print(parameter_list)  "
   ]
  },
  {
   "cell_type": "markdown",
   "metadata": {},
   "source": [
    "#### INITIALISE: Import libraries"
   ]
  },
  {
   "cell_type": "code",
   "execution_count": 3,
   "metadata": {},
   "outputs": [],
   "source": [
    "import os\n",
    "import netCDF4 as nc4\n",
    "import sys\n",
    "import shutil\n",
    "import numpy as np\n",
    "import warnings\n",
    "warnings.filterwarnings('ignore')\n",
    "import xarray as xr\n",
    "from matplotlib import pyplot as plt\n",
    "#import datetime"
   ]
  },
  {
   "cell_type": "markdown",
   "metadata": {},
   "source": [
    "#### INITIALISE: Set pathnames for parameter directories and casenames."
   ]
  },
  {
   "cell_type": "code",
   "execution_count": 4,
   "metadata": {},
   "outputs": [],
   "source": [
    "# what is your clone of the ctsm repo called? (or you want it to be called?) \n",
    "ctsmrepo='ctsmsep22'\n",
    "\n",
    "#what do you want the directory with the ensemble cases in to be called?\n",
    "ens_directory='RTM_ens'+str(n)\n",
    "\n",
    "#what do you want the case names to begin with?\n",
    "caseroot=ens_directory+'_case_'\n",
    "\n",
    "USER='rfisher'\n",
    "\n",
    "#path to scratch (or where the model is built.)\n",
    "defbuildroot='/glade/scratch/'\n",
    "\n",
    "#path to scratch (or where the model is built.)\n",
    "output_dir='/glade/scratch/'+USER+'/'\n",
    "\n",
    "#where are we now?\n",
    "notebookdr=os.getcwd() \n",
    "\n",
    "# git directory. aka where do you want the code and scripts to live?\n",
    "gitpath = '/glade/work/'+USER+'/'\n",
    "\n",
    "# some more derived path names to simplify latter scripts\n",
    "scriptsdir=gitpath+'/git/'+ctsmrepo+'/cime/scripts/'\n"
   ]
  },
  {
   "cell_type": "markdown",
   "metadata": {},
   "source": [
    "#### INITIALISE: SP/NOCOMP specific paths to default case/param files"
   ]
  },
  {
   "cell_type": "code",
   "execution_count": 5,
   "metadata": {},
   "outputs": [],
   "source": [
    "if(sp == 1): #Settings for the SP ensemble.\n",
    "    resub=0 #how many times to resubmit the model. \n",
    "\n",
    "    #what is the name of your 'basecase'?\n",
    "    defcase='fates_crops_smo_minlai_opt_vcmax50'\n",
    "    \n",
    "    #what is the base parameter file called?\n",
    "    paramfiledefault='fates_params_default.nc'    \n",
    "\n",
    "else: #Settings for the NOCOMP ensemble. \n",
    "    resub=2 #how many times do we want to resubmit the job?\n",
    "    \n",
    "    #what is the name of your 'basecase'?\n",
    "    defcase='SPdefault_sept'\n",
    "    \n",
    "    #what is the base parameter file called?\n",
    "    paramfiledefault='fates_params_default.nc'   \n",
    "    \n",
    "#set up the parameter file paths even if not in 'setup' mode\n",
    "paramsdir = scriptsdir+'/'+ens_directory+'/parameter_files'\n",
    "defparamdir = gitpath+'/git/'+ctsmrepo+'/src/fates/parameter_files/'\n"
   ]
  },
  {
   "cell_type": "markdown",
   "metadata": {},
   "source": [
    "#### INITIALISE: Make a function that creates directories if they don't already exist"
   ]
  },
  {
   "cell_type": "code",
   "execution_count": 6,
   "metadata": {},
   "outputs": [],
   "source": [
    "def make_directory(fileroot):   \n",
    "    if(os.path.isdir(fileroot)):\n",
    "        print('dir exists:'+fileroot)\n",
    "    else:\n",
    "        os.mkdir(fileroot)\n",
    "        print('made: '+fileroot)"
   ]
  },
  {
   "cell_type": "markdown",
   "metadata": {},
   "source": [
    "#### SETUP: Make a git repo if needed. "
   ]
  },
  {
   "cell_type": "code",
   "execution_count": 7,
   "metadata": {},
   "outputs": [
    {
     "name": "stdout",
     "output_type": "stream",
     "text": [
      "dir exists:/glade/work/rfisher/git\n"
     ]
    }
   ],
   "source": [
    "make_directory(gitpath+'git')"
   ]
  },
  {
   "cell_type": "markdown",
   "metadata": {},
   "source": [
    "#### SETUP: Clone CTSM repo (if necessary). BASH"
   ]
  },
  {
   "cell_type": "code",
   "execution_count": 8,
   "metadata": {},
   "outputs": [],
   "source": [
    "%%bash -s \"$ctsmrepo\" \"$dosetup\"\n",
    "ctsmrepo=$1\n",
    "dosetup=$2\n",
    "\n",
    "if [ $dosetup -eq 1 ]\n",
    "then\n",
    "cd /glade/work/$USER/git\n",
    "#go to git directory\n",
    "pwd\n",
    "#go to git repo, or checkout code\n",
    "if [[ -d \"$ctsmrepo\" ]]\n",
    "then\n",
    "cd $ctsmrepo\n",
    "echo \"Already have ctsm repo\"\n",
    "else\n",
    "echo \"Cloning ctsm\"\n",
    "#clone CTSM code if you didn't to this already. \n",
    "git clone https://github.com/escomp/ctsm $ctsmrepo\n",
    "cd $ctsmrepo\n",
    "./manage_externals/checkout_externals\n",
    "cd src\n",
    "fi\n",
    "fi\n"
   ]
  },
  {
   "cell_type": "markdown",
   "metadata": {},
   "source": [
    "#### SETUP: Make a default FATES 4x5 case BASH "
   ]
  },
  {
   "cell_type": "code",
   "execution_count": 9,
   "metadata": {
    "tags": []
   },
   "outputs": [
    {
     "name": "stdout",
     "output_type": "stream",
     "text": [
      "defcase is fates_crops_smo_minlai_opt_vcmax50\n",
      "setup= 0\n",
      "0\n",
      "Currently in /glade/u/home/rfisher/fates-global-cal/jupyter_ppe_scripts\n"
     ]
    }
   ],
   "source": [
    "%%bash -s \"$scriptsdir\" \"$dosetup\" \"$defcase\" \n",
    "scriptsdir=$1\n",
    "dosetup=$2\n",
    "defcase=$3\n",
    "echo \"defcase is\" $defcase\n",
    "echo \"setup=\" $dosetup\n",
    "echo $dosetup\n",
    "compset=2000_DATM%GSWP3v1_CLM50%FATES_SICE_SOCN_MOSART_SGLC_SWAV_SESP\n",
    "if [[ $dosetup -eq 1 ]]\n",
    "then\n",
    "cd $scriptsdir\n",
    "if [[ -d \"$defcase\" ]]\n",
    "then\n",
    "    echo \"$defcase exists on your filesystem.\" .$defcase\n",
    "else\n",
    "    echo \"making defcase.\",$defcase\n",
    "./create_newcase --case $defcase --compset 2000_DATM%GSWP3v1_CLM50%FATES_SICE_SOCN_MOSART_SGLC_SWAV_SESP --res f45_f45_mg37  --run-unsupported\n",
    "cd $defcase\n",
    "./case.setup\n",
    "./case.build\n",
    "fi\n",
    "fi\n",
    "echo \"Currently in\" $(pwd)"
   ]
  },
  {
   "cell_type": "markdown",
   "metadata": {},
   "source": [
    "#### SETUP: Adjust settings of default case. BASH "
   ]
  },
  {
   "cell_type": "code",
   "execution_count": 10,
   "metadata": {},
   "outputs": [],
   "source": [
    "%%bash -s \"$scriptsdir\" \"$defcase\" \"$dosetup\" \n",
    "\n",
    "scriptsdir=$1\n",
    "defcase=$2\n",
    "dosetup=$3\n",
    "\n",
    "if [[ $dosetup -eq 1 ]]\n",
    "then\n",
    "defbld=$defbuildroot$USER/$defcase/bld\n",
    "cd $scriptsdir$defcase\n",
    "\n",
    "echo 'updating settings'\n",
    "./xmlchange CONTINUE_RUN=FALSE;  \n",
    "./xmlchange --id STOP_N --val 5;  #number of years of simulation\n",
    "./xmlchange --id STOP_OPTION --val nyears;\n",
    "./xmlchange --id CLM_FORCE_COLDSTART --val on;\n",
    "echo \"Currently in\" $(pwd)\n",
    "fi"
   ]
  },
  {
   "cell_type": "markdown",
   "metadata": {},
   "source": [
    "#### SETUP: Make ensemble and parameter directory"
   ]
  },
  {
   "cell_type": "code",
   "execution_count": 11,
   "metadata": {},
   "outputs": [
    {
     "name": "stdout",
     "output_type": "stream",
     "text": [
      "dir exists:/glade/work/rfisher//git/ctsmsep22/cime/scripts/RTM_ens2\n",
      "dir exists:/glade/work/rfisher//git/ctsmsep22/cime/scripts/RTM_ens2/parameter_files\n"
     ]
    }
   ],
   "source": [
    "make_directory(scriptsdir+ens_directory)\n",
    "make_directory(scriptsdir+ens_directory+'/parameter_files' )"
   ]
  },
  {
   "cell_type": "markdown",
   "metadata": {},
   "source": [
    "#### SETUP: Make ensemble of CLM cases BASH"
   ]
  },
  {
   "cell_type": "code",
   "execution_count": 12,
   "metadata": {},
   "outputs": [
    {
     "name": "stdout",
     "output_type": "stream",
     "text": [
      "ncases= 8\n",
      "caseroot= RTM_ens2_case_\n",
      "dosetup= 0\n",
      "forcenewcase= 0\n",
      "ens_directory= RTM_ens2\n"
     ]
    }
   ],
   "source": [
    "\n",
    "%%bash -s \"$scriptsdir\" \"$defcase\" \"$dosetup\" \"$ens_directory\" \"$caseroot\" \"$ncases\" \"$forcenewcase\"\n",
    "\n",
    "scriptsdir=$1\n",
    "defcase=$2\n",
    "dosetup=$3\n",
    "ens_directory=$4\n",
    "caseroot=$5\n",
    "ncases=$6\n",
    "forcenewcase=$7\n",
    "\n",
    "echo \"ncases=\" $ncases\n",
    "echo \"caseroot=\" $caseroot\n",
    "echo \"dosetup=\" $dosetup\n",
    "echo \"forcenewcase=\" $forcenewcase\n",
    "echo \"ens_directory=\" $ens_directory\n",
    "\n",
    "if [[ $dosetup -eq 1 ]]\n",
    "then\n",
    "cd $scriptsdir\n",
    "\n",
    "counter1=0 #include a default zero case. \n",
    "while [ $counter1 -le $ncases ]\n",
    "do\n",
    "  newcase=$caseroot$counter1 #name of ensemble membr case.    \n",
    "  if [ -d $ens_directory/$newcase ]\n",
    "  then\n",
    "    echo ' new case already exists',$ens_directory/$newcase\n",
    "    if [ $forcenewcase -eq 1 ]\n",
    "    then\n",
    "    echo 'force making case', $ens_directory/$newcase\n",
    "    rm -rf $ens_directory/$newcase\n",
    "    ./create_clone --clone $defcase --case $ens_directory/$newcase ;\n",
    "    cd $ens_directory/$newcase\n",
    "    echo 'case setup', $ens_directory/$newcase\n",
    "    ./case.setup;\n",
    "     cd ../../ \n",
    "    fi    \n",
    "  else\n",
    "   echo 'making new case', $ens_directory/$newcase\n",
    "    ./create_clone --clone $defcase --case $ens_directory/$newcase ;\n",
    "    cd $ens_directory/$newcase\n",
    "    echo 'case setup', $ens_directory/$newcase\n",
    "    ./case.setup;\n",
    "    cd ../../ \n",
    "  fi\n",
    "((counter1++))\n",
    "done\n",
    "\n",
    "fi"
   ]
  },
  {
   "cell_type": "markdown",
   "metadata": {},
   "source": [
    "#### SETUP: Create/ncgen a .nc version of current default (.cdl) file. "
   ]
  },
  {
   "cell_type": "code",
   "execution_count": 13,
   "metadata": {},
   "outputs": [],
   "source": [
    "if(dosetup == 1): \n",
    "    newfilenc=defparamdir+'fates_params_default.nc'\n",
    "    template_cdl=defparamdir+'fates_params_default.cdl'\n",
    "\n",
    "    if(os.path.isfile(newfilenc)):\n",
    "       os.remove(newfilenc)    \n",
    "    os.system('ncgen '+template_cdl+' -o '+newfilenc)\n",
    "    os.listdir(defparamdir)"
   ]
  },
  {
   "cell_type": "markdown",
   "metadata": {},
   "source": [
    "#### SETUP: Copy default template parameter file to ensemble parameter directory"
   ]
  },
  {
   "cell_type": "code",
   "execution_count": 14,
   "metadata": {},
   "outputs": [],
   "source": [
    "if(dosetup == 1): \n",
    "    filename_template = paramsdir+'/'+paramfiledefault\n",
    "    print(filename_template)\n",
    "    if(os.path.isfile(filename_template)):\n",
    "       os.remove(filename_template)    \n",
    "    shutil.copy(newfilenc,filename_template)"
   ]
  },
  {
   "cell_type": "markdown",
   "metadata": {},
   "source": [
    "#### SETUP: Make a default user_nl_clm file"
   ]
  },
  {
   "cell_type": "code",
   "execution_count": 15,
   "metadata": {},
   "outputs": [],
   "source": [
    "if (dosetup == 1 ):\n",
    "    defcasedir = scriptsdir+'/'+defcase #where is the vanilla file?\n",
    "    os.chdir(defcasedir) #go to the def case dir\n",
    "\n",
    "    if(os.path.isfile('user_nl_clm_default')):\n",
    "        #squash the existing default file\n",
    "        os.remove('user_nl_clm_default')\n",
    "    else:    \n",
    "        #move the vanilla version to the default version\n",
    "        shutil.copy(user_nl_clm, user_nl_clm_default)"
   ]
  },
  {
   "cell_type": "markdown",
   "metadata": {},
   "source": [
    "#### SETUP: Write configuration and dummy parameter filename into defualt user_nl_clm file"
   ]
  },
  {
   "cell_type": "code",
   "execution_count": 16,
   "metadata": {},
   "outputs": [
    {
     "name": "stdout",
     "output_type": "stream",
     "text": [
      "end\n"
     ]
    }
   ],
   "source": [
    "if (dosetup == 1 ):   \n",
    "    f = open('user_nl_clm_default', 'a')\n",
    "    if (sp ==1): #change to SP mode. \n",
    "        f.write('use_fates_sp = true')\n",
    "        f.write('\\n')\n",
    "    f.write('fates_paramfile = \"nullparameterfile\"')\n",
    "    f.close()\n",
    "    # copy this 'fresh' default file into the ensemble directory. \n",
    "    shutil.copy('user_nl_clm_default', scriptsdir+'/'+ens_directory+'/user_nl_clm_default')\n",
    "    \n",
    "    #check what you made!\n",
    "    os.system(\"cat user_nl_clm_default\")\n",
    "    os.chdir(notebookdr)\n",
    "print('end')"
   ]
  },
  {
   "cell_type": "markdown",
   "metadata": {},
   "source": [
    "#### SETUP: Create ensemble of parameter files"
   ]
  },
  {
   "cell_type": "code",
   "execution_count": 17,
   "metadata": {},
   "outputs": [
    {
     "name": "stdout",
     "output_type": "stream",
     "text": [
      "end\n"
     ]
    }
   ],
   "source": [
    "if(dosetup == 1): \n",
    "    fatesparamfile= 'fates_params_'+ens_directory+'_'\n",
    "    vs=range(0,ncases+1) \n",
    "    for i in vs:\n",
    "        filename_out = paramsdir+'/'+fatesparamfile+str(i)+'.nc' \n",
    "        #print('make:'+filename_out)\n",
    "        try:\n",
    "            os.remove(filename_out)\n",
    "        except:\n",
    "            print('file does not yet exist: '+filename_out)\n",
    "        shutil.copy(filename_template,filename_out)\n",
    "print('end')"
   ]
  },
  {
   "cell_type": "markdown",
   "metadata": {},
   "source": [
    "#### SETUP: Make function to modify FATES parameter files. "
   ]
  },
  {
   "cell_type": "code",
   "execution_count": 18,
   "metadata": {},
   "outputs": [],
   "source": [
    "def def_pftfile( fileroot,i,variable,pmode,delta):   \n",
    "    pfilename = fileroot+str(i)+'.nc' \n",
    "    fin = nc4.Dataset(pfilename, 'r+')\n",
    "    print('modifying parameter file',i,variable,delta);\n",
    "    var = fin.variables[variable]\n",
    "    if(pmode == 1): #multiplicative peturbation\n",
    "        var[:] = var[:]*delta\n",
    "    if(pmode == 2): \n",
    "        var[:] = var[:]*0+delta\n",
    "    fin.close()"
   ]
  },
  {
   "cell_type": "markdown",
   "metadata": {
    "tags": []
   },
   "source": [
    "#### SETUP: Modify parameter files (one at a time)"
   ]
  },
  {
   "cell_type": "code",
   "execution_count": 19,
   "metadata": {},
   "outputs": [],
   "source": [
    "if(dosetup == 1): \n",
    "    fileroot =  paramsdir+'/'+fatesparamfile \n",
    "    if(pmode == 1): #OAAT\n",
    "        for p in range(0,8):\n",
    "            def_pftfile(fileroot,p*2+1,parameter_list[p],pmode,min_delta[p])\n",
    "            def_pftfile(fileroot,p*2+2,parameter_list[p],pmode,max_delta[p])\n",
    "\n",
    "    if(pmode == 2): #single p variation. \n",
    "        for i in vs:\n",
    "            def_pftfile(fileroot,i,parameter_list[0],pmode,pvalue[i])\n"
   ]
  },
  {
   "cell_type": "markdown",
   "metadata": {},
   "source": [
    "#### SETUP: Point each ensemble script at different parameter file"
   ]
  },
  {
   "cell_type": "code",
   "execution_count": 20,
   "metadata": {},
   "outputs": [
    {
     "name": "stdout",
     "output_type": "stream",
     "text": [
      "r1i4n26\n",
      "use_fates_sp = true\n",
      "fates_paramfile = \"/glade/work/rfisher//git/ctsmsep22/cime/scripts//RTM_ens1/parameter_files/fates_params_RTM_ens1_7.nc\""
     ]
    }
   ],
   "source": [
    "if(dosetup == 1): \n",
    "    root= scriptsdir+'/'+ens_directory+'/'\n",
    "    vs=range(0,ncases+1) \n",
    "    print('paramsdir=',paramsdir)\n",
    "    for i in vs:\n",
    "        pftfilename = paramsdir+'/'+fatesparamfile+str(i)+'.nc'    \n",
    "        unlfile=root+caseroot+str(i)+'/'+'user_nl_clm'\n",
    "        defunl=scriptsdir+'/'+ens_directory+'/user_nl_clm_default' \n",
    "        print('defult unl='+defunl)\n",
    "        print('case unl='+unlfile)\n",
    "        shutil.copy(defunl,unlfile)\n",
    "        print('unl='+unlfile)   \n",
    "        fin = open(unlfile, \"rt\")     \n",
    "        data = fin.read()   #read file contents to string   \n",
    "        data = data.replace('nullparameterfile',pftfilename) #replace all occurrences of the required string        \n",
    "        fin.close() #close the input file       \n",
    "        fin = open(unlfile, \"wt\") #open the input file in write mode     \n",
    "        fin.write(data) #overrite the input file with the resulting data       \n",
    "        fin.close() #close the file\n",
    "!cat '/glade/work/rfisher/git/ctsmsep22/cime/scripts//RTM_ens1/RTM_ens1_case_7/user_nl_clm'"
   ]
  },
  {
   "cell_type": "markdown",
   "metadata": {},
   "source": [
    "#### SETUP: Check parameter files were correctly modifed"
   ]
  },
  {
   "cell_type": "code",
   "execution_count": 21,
   "metadata": {},
   "outputs": [],
   "source": [
    "if(dosetup == 1):\n",
    "    i=3\n",
    "    paramnum=0\n",
    "    pf= paramsdir+'/'+fatesparamfile+str(0)+'.nc' \n",
    "    print(pf)\n",
    "    find = nc4.Dataset(pf, 'r+')\n",
    "    vardef=find.variables[parameter_list[paramnum]]\n",
    "    pf= paramsdir+'/'+fatesparamfile+str(i)+'.nc' \n",
    "    print(pf)\n",
    "    finm = nc4.Dataset(pf, 'r+')\n",
    "    varmod=finm.variables[parameter_list[paramnum]]\n",
    "    if(pmode == 1):\n",
    "        print('actual ratio:',np.divide(varmod[:],vardef[:]))\n",
    "        print('target ratio:',min_delta[paramnum])\n",
    "    if(pmode == 2):\n",
    "        print('actual value:',varmod[:])\n",
    "        print(pvalue[i])       "
   ]
  },
  {
   "cell_type": "markdown",
   "metadata": {},
   "source": [
    "#### SUBMISSION: Submit ensemble of cases BASH"
   ]
  },
  {
   "cell_type": "code",
   "execution_count": 22,
   "metadata": {},
   "outputs": [],
   "source": [
    "%%capture\n",
    "%%bash -s \"$scriptsdir\" \"$defcase\" \"$ens_directory\" \"$caseroot\" \"$ncases\" \"$dosubmit\" \n",
    "\n",
    "scriptsdir=$1\n",
    "defcase=$2\n",
    "ens_directory=$3\n",
    "caseroot=$4\n",
    "ncases=$5\n",
    "dosubmit=$6\n",
    "echo $dosubmit\n",
    "if [ $dosubmit -eq 1 ]\n",
    "then\n",
    "cd $scriptsdir\n",
    "\n",
    "echo 'submitting'\n",
    "startcase=0\n",
    "counter1=$startcase\n",
    "cd $ens_directory\n",
    "\n",
    "while [ $counter1 -le $ncases ]\n",
    "do\n",
    "  echo $counter1\n",
    "  newcase=$caseroot$counter1\n",
    "  echo $newcase\n",
    "\n",
    "  if [ -d $newcase ]\n",
    "  then\n",
    "    cd $newcase\n",
    "    cat user_nl_clm\n",
    "    echo 'submitting job',$newcase\n",
    "    ./xmlchange BUILD_COMPLETE=TRUE\n",
    "    #./xmlchange RESUBMIT=1\n",
    "   # ./xmlchange PROJECT=P93300041\n",
    "    ./case.submit\n",
    "    cd ../\n",
    "  else\n",
    "   echo 'no case', $newcase\n",
    "  fi\n",
    "\n",
    "  ((counter1++))\n",
    "  done\n",
    "else\n",
    "echo \"not submitting jobs\"\n",
    "fi"
   ]
  },
  {
   "cell_type": "markdown",
   "metadata": {},
   "source": [
    "#### check progress of jobs\n"
   ]
  },
  {
   "cell_type": "code",
   "execution_count": 23,
   "metadata": {},
   "outputs": [
    {
     "name": "stdout",
     "output_type": "stream",
     "text": [
      "/glade/scratch/rfisher/RTM_ens2_case_7/run\n",
      "total 470\n",
      "drwxr-xr-x 3 rfisher ncar   4096 Oct 11 02:42 timing\n",
      "-rw-r--r-- 1 rfisher ncar     72 Oct 11 02:42 CASEROOT\n",
      "-rw-r--r-- 1 rfisher ncar    498 Oct 11 02:42 datm_in\n",
      "-rw-r--r-- 1 rfisher ncar 113439 Oct 11 02:42 datm.streams.xml\n",
      "-rw-r--r-- 1 rfisher ncar   7765 Oct 11 02:42 lnd_in\n",
      "-rw-r--r-- 1 rfisher ncar    560 Oct 11 02:42 mosart_in\n",
      "-rw-rw-r-- 1 rfisher ncar      0 Oct 11 02:42 preview_run.log.6829548.chadmin1.ib0.cheyenne.ucar.edu.221011-024212\n",
      "-rw-r--r-- 1 rfisher ncar    464 Oct 11 02:42 nuopc.runseq\n",
      "-rw-r--r-- 1 rfisher ncar    552 Oct 11 02:42 drv_in\n",
      "-rw-r--r-- 1 rfisher ncar  12613 Oct 11 02:42 nuopc.runconfig\n",
      "-rw-r--r-- 1 rfisher ncar     64 Oct 11 02:42 drv_flds_in\n",
      "-rw-r--r-- 1 rfisher ncar  38544 Oct 11 02:42 fd.yaml\n",
      "-rw-rw-r-- 1 rfisher ncar   2163 Oct 11 02:42 preview_run.log\n",
      "-rw-r--r-- 1 rfisher ncar   1492 Oct 11 02:42 drv.log.6829548.chadmin1.ib0.cheyenne.ucar.edu.221011-024212\n",
      "drwxr-xr-x 2 rfisher ncar   4096 Oct 11 02:42 init_generated_files\n",
      "-rw-r--r-- 1 rfishe"
     ]
    },
    {
     "data": {
      "text/plain": [
       "0"
      ]
     },
     "execution_count": 23,
     "metadata": {},
     "output_type": "execute_result"
    },
    {
     "name": "stdout",
     "output_type": "stream",
     "text": [
      "r ncar  13734 Oct 11 02:42 rof.log.6829548.chadmin1.ib0.cheyenne.ucar.edu.221011-024212\n",
      "-rw-r--r-- 1 rfisher ncar  25836 Oct 11 02:42 med.log.6829548.chadmin1.ib0.cheyenne.ucar.edu.221011-024212\n",
      "-rw-r--r-- 1 rfisher ncar 141418 Oct 11 02:42 lnd.log.6829548.chadmin1.ib0.cheyenne.ucar.edu.221011-024212\n",
      "-rw-r--r-- 1 rfisher ncar  21775 Oct 11 02:42 atm.log.6829548.chadmin1.ib0.cheyenne.ucar.edu.221011-024212\n",
      "-rw-r--r-- 1 rfisher ncar  43449 Oct 11 02:42 cesm.log.6829548.chadmin1.ib0.cheyenne.ucar.edu.221011-024212\n"
     ]
    }
   ],
   "source": [
    "rund=output_dir+caseroot+str(7)+'/run'\n",
    "print(rund)\n",
    "os.system('ls -lrt '+rund)"
   ]
  },
  {
   "cell_type": "markdown",
   "metadata": {},
   "source": [
    "<h2>Analyse output</h2>"
   ]
  },
  {
   "cell_type": "markdown",
   "metadata": {},
   "source": [
    "### Paths for analysis"
   ]
  },
  {
   "cell_type": "code",
   "execution_count": 24,
   "metadata": {},
   "outputs": [
    {
     "name": "stdout",
     "output_type": "stream",
     "text": [
      "ychoose= 2001\n"
     ]
    }
   ],
   "source": [
    "if doanalysis ==1: \n",
    "    output='/glade/scratch/rfisher/'\n",
    "    conv = 3600*24*365\n",
    "    yr='.clm2.h0.'   \n",
    "    ychoose=2001\n",
    "    delta=1\n",
    "    print('ychoose=', ychoose)\n",
    "    rel=1"
   ]
  },
  {
   "cell_type": "markdown",
   "metadata": {},
   "source": [
    "#### ANALYSIS: Choose variables to read in"
   ]
  },
  {
   "cell_type": "code",
   "execution_count": 25,
   "metadata": {},
   "outputs": [],
   "source": [
    "vars=['FATES_GPP','FSR','SABV','SABG','lat','lon','time']"
   ]
  },
  {
   "cell_type": "markdown",
   "metadata": {},
   "source": [
    " #### ANALYSIS: Make output figure directory"
   ]
  },
  {
   "cell_type": "code",
   "execution_count": 26,
   "metadata": {},
   "outputs": [
    {
     "name": "stdout",
     "output_type": "stream",
     "text": [
      "made: /glade/u/home/rfisher/fates-global-cal/jupyter_ppe_scripts/figs_RTM_ens2/\n"
     ]
    }
   ],
   "source": [
    "figpath = (notebookdr+'/'+ 'figs_'+ens_directory+'/')\n",
    "make_directory(figpath)"
   ]
  },
  {
   "cell_type": "markdown",
   "metadata": {},
   "source": [
    "####  ANALYSIS: Make a single data structure for the ensemble"
   ]
  },
  {
   "cell_type": "code",
   "execution_count": 27,
   "metadata": {},
   "outputs": [
    {
     "name": "stdout",
     "output_type": "stream",
     "text": [
      "/glade/scratch/rfisher/\n",
      "RTM_ens2_case_\n",
      "range(0, 9)\n",
      "file in archive\n",
      "file0 =/glade/scratch/rfisher/archive/RTM_ens2_case_0/lnd/hist/RTM_ens2_case_0.clm2.h0.2000-06.nc\n",
      "file in archive\n",
      "file1 =/glade/scratch/rfisher/archive/RTM_ens2_case_1/lnd/hist/RTM_ens2_case_1.clm2.h0.2000-06.nc\n",
      "file in archive\n",
      "file2 =/glade/scratch/rfisher/archive/RTM_ens2_case_2/lnd/hist/RTM_ens2_case_2.clm2.h0.2000-06.nc\n",
      "file in archive\n",
      "file3 =/glade/scratch/rfisher/archive/RTM_ens2_case_3/lnd/hist/RTM_ens2_case_3.clm2.h0.2000-06.nc\n",
      "file in archive\n",
      "file4 =/glade/scratch/rfisher/archive/RTM_ens2_case_4/lnd/hist/RTM_ens2_case_4.clm2.h0.2000-06.nc\n",
      "file in archive\n",
      "file5 =/glade/scratch/rfisher/archive/RTM_ens2_case_5/lnd/hist/RTM_ens2_case_5.clm2.h0.2000-06.nc\n",
      "file in archive\n",
      "file6 =/glade/scratch/rfisher/archive/RTM_ens2_case_6/lnd/hist/RTM_ens2_case_6.clm2.h0.2000-06.nc\n",
      "no archive\n",
      "is rundir /glade/scratch/rfisher/RTM_ens2_case_7/run/\n",
      "no file in  rundir /glade/scratch/rfisher/RTM_ens2_case_7/run/RTM_ens2_case_7.clm2.h0.2000-06.nc\n"
     ]
    },
    {
     "ename": "FileNotFoundError",
     "evalue": "[Errno 2] No such file or directory: b'/glade/scratch/rfisher/RTM_ens2_case_7/run/RTM_ens2_case_7.clm2.h0.2000-06.nc'",
     "output_type": "error",
     "traceback": [
      "\u001b[0;31m---------------------------------------------------------------------------\u001b[0m",
      "\u001b[0;31mKeyError\u001b[0m                                  Traceback (most recent call last)",
      "File \u001b[0;32m/glade/u/apps/opt/conda/envs/npl-2022b/lib/python3.8/site-packages/xarray/backends/file_manager.py:201\u001b[0m, in \u001b[0;36mCachingFileManager._acquire_with_cache_info\u001b[0;34m(self, needs_lock)\u001b[0m\n\u001b[1;32m    200\u001b[0m \u001b[38;5;28;01mtry\u001b[39;00m:\n\u001b[0;32m--> 201\u001b[0m     file \u001b[38;5;241m=\u001b[39m \u001b[38;5;28;43mself\u001b[39;49m\u001b[38;5;241;43m.\u001b[39;49m\u001b[43m_cache\u001b[49m\u001b[43m[\u001b[49m\u001b[38;5;28;43mself\u001b[39;49m\u001b[38;5;241;43m.\u001b[39;49m\u001b[43m_key\u001b[49m\u001b[43m]\u001b[49m\n\u001b[1;32m    202\u001b[0m \u001b[38;5;28;01mexcept\u001b[39;00m \u001b[38;5;167;01mKeyError\u001b[39;00m:\n",
      "File \u001b[0;32m/glade/u/apps/opt/conda/envs/npl-2022b/lib/python3.8/site-packages/xarray/backends/lru_cache.py:55\u001b[0m, in \u001b[0;36mLRUCache.__getitem__\u001b[0;34m(self, key)\u001b[0m\n\u001b[1;32m     54\u001b[0m \u001b[38;5;28;01mwith\u001b[39;00m \u001b[38;5;28mself\u001b[39m\u001b[38;5;241m.\u001b[39m_lock:\n\u001b[0;32m---> 55\u001b[0m     value \u001b[38;5;241m=\u001b[39m \u001b[38;5;28;43mself\u001b[39;49m\u001b[38;5;241;43m.\u001b[39;49m\u001b[43m_cache\u001b[49m\u001b[43m[\u001b[49m\u001b[43mkey\u001b[49m\u001b[43m]\u001b[49m\n\u001b[1;32m     56\u001b[0m     \u001b[38;5;28mself\u001b[39m\u001b[38;5;241m.\u001b[39m_cache\u001b[38;5;241m.\u001b[39mmove_to_end(key)\n",
      "\u001b[0;31mKeyError\u001b[0m: [<class 'netCDF4._netCDF4.Dataset'>, ('/glade/scratch/rfisher/RTM_ens2_case_7/run/RTM_ens2_case_7.clm2.h0.2000-06.nc',), 'r', (('clobber', True), ('diskless', False), ('format', 'NETCDF4'), ('persist', False))]",
      "\nDuring handling of the above exception, another exception occurred:\n",
      "\u001b[0;31mFileNotFoundError\u001b[0m                         Traceback (most recent call last)",
      "Input \u001b[0;32mIn [27]\u001b[0m, in \u001b[0;36m<cell line: 3>\u001b[0;34m()\u001b[0m\n\u001b[1;32m     32\u001b[0m     \u001b[38;5;28;01melse\u001b[39;00m:\n\u001b[1;32m     33\u001b[0m         \u001b[38;5;28mprint\u001b[39m(\u001b[38;5;124m'\u001b[39m\u001b[38;5;124mno  rundir\u001b[39m\u001b[38;5;124m'\u001b[39m,hpath)\n\u001b[0;32m---> 35\u001b[0m allvars\u001b[38;5;241m=\u001b[39m\u001b[38;5;28mlist\u001b[39m(\u001b[43mxr\u001b[49m\u001b[38;5;241;43m.\u001b[39;49m\u001b[43mopen_dataset\u001b[49m\u001b[43m(\u001b[49m\u001b[43mhpath\u001b[49m\u001b[38;5;241;43m+\u001b[39;49m\u001b[43mtfile\u001b[49m\u001b[43m,\u001b[49m\u001b[43m \u001b[49m\u001b[43mdecode_times\u001b[49m\u001b[38;5;241;43m=\u001b[39;49m\u001b[38;5;28;43;01mFalse\u001b[39;49;00m\u001b[43m)\u001b[49m\u001b[38;5;241m.\u001b[39mvariables)\n\u001b[1;32m     36\u001b[0m dropvars\u001b[38;5;241m=\u001b[39m\u001b[38;5;28mlist\u001b[39m(\u001b[38;5;28mset\u001b[39m(allvars) \u001b[38;5;241m-\u001b[39m \u001b[38;5;28mset\u001b[39m(\u001b[38;5;28mvars\u001b[39m)) \u001b[38;5;66;03m#thanks to Ben for figuring this part out :) \u001b[39;00m\n\u001b[1;32m     37\u001b[0m \u001b[38;5;28mprint\u001b[39m(\u001b[38;5;124m'\u001b[39m\u001b[38;5;124mfile\u001b[39m\u001b[38;5;124m'\u001b[39m\u001b[38;5;241m+\u001b[39m\u001b[38;5;28mstr\u001b[39m(i)\u001b[38;5;241m+\u001b[39m\u001b[38;5;124m'\u001b[39m\u001b[38;5;124m =\u001b[39m\u001b[38;5;124m'\u001b[39m\u001b[38;5;241m+\u001b[39mhpath\u001b[38;5;241m+\u001b[39mtfile)\n",
      "File \u001b[0;32m/glade/u/apps/opt/conda/envs/npl-2022b/lib/python3.8/site-packages/xarray/backends/api.py:531\u001b[0m, in \u001b[0;36mopen_dataset\u001b[0;34m(filename_or_obj, engine, chunks, cache, decode_cf, mask_and_scale, decode_times, decode_timedelta, use_cftime, concat_characters, decode_coords, drop_variables, inline_array, backend_kwargs, **kwargs)\u001b[0m\n\u001b[1;32m    519\u001b[0m decoders \u001b[38;5;241m=\u001b[39m _resolve_decoders_kwargs(\n\u001b[1;32m    520\u001b[0m     decode_cf,\n\u001b[1;32m    521\u001b[0m     open_backend_dataset_parameters\u001b[38;5;241m=\u001b[39mbackend\u001b[38;5;241m.\u001b[39mopen_dataset_parameters,\n\u001b[0;32m   (...)\u001b[0m\n\u001b[1;32m    527\u001b[0m     decode_coords\u001b[38;5;241m=\u001b[39mdecode_coords,\n\u001b[1;32m    528\u001b[0m )\n\u001b[1;32m    530\u001b[0m overwrite_encoded_chunks \u001b[38;5;241m=\u001b[39m kwargs\u001b[38;5;241m.\u001b[39mpop(\u001b[38;5;124m\"\u001b[39m\u001b[38;5;124moverwrite_encoded_chunks\u001b[39m\u001b[38;5;124m\"\u001b[39m, \u001b[38;5;28;01mNone\u001b[39;00m)\n\u001b[0;32m--> 531\u001b[0m backend_ds \u001b[38;5;241m=\u001b[39m \u001b[43mbackend\u001b[49m\u001b[38;5;241;43m.\u001b[39;49m\u001b[43mopen_dataset\u001b[49m\u001b[43m(\u001b[49m\n\u001b[1;32m    532\u001b[0m \u001b[43m    \u001b[49m\u001b[43mfilename_or_obj\u001b[49m\u001b[43m,\u001b[49m\n\u001b[1;32m    533\u001b[0m \u001b[43m    \u001b[49m\u001b[43mdrop_variables\u001b[49m\u001b[38;5;241;43m=\u001b[39;49m\u001b[43mdrop_variables\u001b[49m\u001b[43m,\u001b[49m\n\u001b[1;32m    534\u001b[0m \u001b[43m    \u001b[49m\u001b[38;5;241;43m*\u001b[39;49m\u001b[38;5;241;43m*\u001b[39;49m\u001b[43mdecoders\u001b[49m\u001b[43m,\u001b[49m\n\u001b[1;32m    535\u001b[0m \u001b[43m    \u001b[49m\u001b[38;5;241;43m*\u001b[39;49m\u001b[38;5;241;43m*\u001b[39;49m\u001b[43mkwargs\u001b[49m\u001b[43m,\u001b[49m\n\u001b[1;32m    536\u001b[0m \u001b[43m\u001b[49m\u001b[43m)\u001b[49m\n\u001b[1;32m    537\u001b[0m ds \u001b[38;5;241m=\u001b[39m _dataset_from_backend_dataset(\n\u001b[1;32m    538\u001b[0m     backend_ds,\n\u001b[1;32m    539\u001b[0m     filename_or_obj,\n\u001b[0;32m   (...)\u001b[0m\n\u001b[1;32m    547\u001b[0m     \u001b[38;5;241m*\u001b[39m\u001b[38;5;241m*\u001b[39mkwargs,\n\u001b[1;32m    548\u001b[0m )\n\u001b[1;32m    549\u001b[0m \u001b[38;5;28;01mreturn\u001b[39;00m ds\n",
      "File \u001b[0;32m/glade/u/apps/opt/conda/envs/npl-2022b/lib/python3.8/site-packages/xarray/backends/netCDF4_.py:555\u001b[0m, in \u001b[0;36mNetCDF4BackendEntrypoint.open_dataset\u001b[0;34m(self, filename_or_obj, mask_and_scale, decode_times, concat_characters, decode_coords, drop_variables, use_cftime, decode_timedelta, group, mode, format, clobber, diskless, persist, lock, autoclose)\u001b[0m\n\u001b[1;32m    534\u001b[0m \u001b[38;5;28;01mdef\u001b[39;00m \u001b[38;5;21mopen_dataset\u001b[39m(\n\u001b[1;32m    535\u001b[0m     \u001b[38;5;28mself\u001b[39m,\n\u001b[1;32m    536\u001b[0m     filename_or_obj,\n\u001b[0;32m   (...)\u001b[0m\n\u001b[1;32m    551\u001b[0m     autoclose\u001b[38;5;241m=\u001b[39m\u001b[38;5;28;01mFalse\u001b[39;00m,\n\u001b[1;32m    552\u001b[0m ):\n\u001b[1;32m    554\u001b[0m     filename_or_obj \u001b[38;5;241m=\u001b[39m _normalize_path(filename_or_obj)\n\u001b[0;32m--> 555\u001b[0m     store \u001b[38;5;241m=\u001b[39m \u001b[43mNetCDF4DataStore\u001b[49m\u001b[38;5;241;43m.\u001b[39;49m\u001b[43mopen\u001b[49m\u001b[43m(\u001b[49m\n\u001b[1;32m    556\u001b[0m \u001b[43m        \u001b[49m\u001b[43mfilename_or_obj\u001b[49m\u001b[43m,\u001b[49m\n\u001b[1;32m    557\u001b[0m \u001b[43m        \u001b[49m\u001b[43mmode\u001b[49m\u001b[38;5;241;43m=\u001b[39;49m\u001b[43mmode\u001b[49m\u001b[43m,\u001b[49m\n\u001b[1;32m    558\u001b[0m \u001b[43m        \u001b[49m\u001b[38;5;28;43mformat\u001b[39;49m\u001b[38;5;241;43m=\u001b[39;49m\u001b[38;5;28;43mformat\u001b[39;49m\u001b[43m,\u001b[49m\n\u001b[1;32m    559\u001b[0m \u001b[43m        \u001b[49m\u001b[43mgroup\u001b[49m\u001b[38;5;241;43m=\u001b[39;49m\u001b[43mgroup\u001b[49m\u001b[43m,\u001b[49m\n\u001b[1;32m    560\u001b[0m \u001b[43m        \u001b[49m\u001b[43mclobber\u001b[49m\u001b[38;5;241;43m=\u001b[39;49m\u001b[43mclobber\u001b[49m\u001b[43m,\u001b[49m\n\u001b[1;32m    561\u001b[0m \u001b[43m        \u001b[49m\u001b[43mdiskless\u001b[49m\u001b[38;5;241;43m=\u001b[39;49m\u001b[43mdiskless\u001b[49m\u001b[43m,\u001b[49m\n\u001b[1;32m    562\u001b[0m \u001b[43m        \u001b[49m\u001b[43mpersist\u001b[49m\u001b[38;5;241;43m=\u001b[39;49m\u001b[43mpersist\u001b[49m\u001b[43m,\u001b[49m\n\u001b[1;32m    563\u001b[0m \u001b[43m        \u001b[49m\u001b[43mlock\u001b[49m\u001b[38;5;241;43m=\u001b[39;49m\u001b[43mlock\u001b[49m\u001b[43m,\u001b[49m\n\u001b[1;32m    564\u001b[0m \u001b[43m        \u001b[49m\u001b[43mautoclose\u001b[49m\u001b[38;5;241;43m=\u001b[39;49m\u001b[43mautoclose\u001b[49m\u001b[43m,\u001b[49m\n\u001b[1;32m    565\u001b[0m \u001b[43m    \u001b[49m\u001b[43m)\u001b[49m\n\u001b[1;32m    567\u001b[0m     store_entrypoint \u001b[38;5;241m=\u001b[39m StoreBackendEntrypoint()\n\u001b[1;32m    568\u001b[0m     \u001b[38;5;28;01mwith\u001b[39;00m close_on_error(store):\n",
      "File \u001b[0;32m/glade/u/apps/opt/conda/envs/npl-2022b/lib/python3.8/site-packages/xarray/backends/netCDF4_.py:384\u001b[0m, in \u001b[0;36mNetCDF4DataStore.open\u001b[0;34m(cls, filename, mode, format, group, clobber, diskless, persist, lock, lock_maker, autoclose)\u001b[0m\n\u001b[1;32m    378\u001b[0m kwargs \u001b[38;5;241m=\u001b[39m \u001b[38;5;28mdict\u001b[39m(\n\u001b[1;32m    379\u001b[0m     clobber\u001b[38;5;241m=\u001b[39mclobber, diskless\u001b[38;5;241m=\u001b[39mdiskless, persist\u001b[38;5;241m=\u001b[39mpersist, \u001b[38;5;28mformat\u001b[39m\u001b[38;5;241m=\u001b[39m\u001b[38;5;28mformat\u001b[39m\n\u001b[1;32m    380\u001b[0m )\n\u001b[1;32m    381\u001b[0m manager \u001b[38;5;241m=\u001b[39m CachingFileManager(\n\u001b[1;32m    382\u001b[0m     netCDF4\u001b[38;5;241m.\u001b[39mDataset, filename, mode\u001b[38;5;241m=\u001b[39mmode, kwargs\u001b[38;5;241m=\u001b[39mkwargs\n\u001b[1;32m    383\u001b[0m )\n\u001b[0;32m--> 384\u001b[0m \u001b[38;5;28;01mreturn\u001b[39;00m \u001b[38;5;28;43mcls\u001b[39;49m\u001b[43m(\u001b[49m\u001b[43mmanager\u001b[49m\u001b[43m,\u001b[49m\u001b[43m \u001b[49m\u001b[43mgroup\u001b[49m\u001b[38;5;241;43m=\u001b[39;49m\u001b[43mgroup\u001b[49m\u001b[43m,\u001b[49m\u001b[43m \u001b[49m\u001b[43mmode\u001b[49m\u001b[38;5;241;43m=\u001b[39;49m\u001b[43mmode\u001b[49m\u001b[43m,\u001b[49m\u001b[43m \u001b[49m\u001b[43mlock\u001b[49m\u001b[38;5;241;43m=\u001b[39;49m\u001b[43mlock\u001b[49m\u001b[43m,\u001b[49m\u001b[43m \u001b[49m\u001b[43mautoclose\u001b[49m\u001b[38;5;241;43m=\u001b[39;49m\u001b[43mautoclose\u001b[49m\u001b[43m)\u001b[49m\n",
      "File \u001b[0;32m/glade/u/apps/opt/conda/envs/npl-2022b/lib/python3.8/site-packages/xarray/backends/netCDF4_.py:332\u001b[0m, in \u001b[0;36mNetCDF4DataStore.__init__\u001b[0;34m(self, manager, group, mode, lock, autoclose)\u001b[0m\n\u001b[1;32m    330\u001b[0m \u001b[38;5;28mself\u001b[39m\u001b[38;5;241m.\u001b[39m_group \u001b[38;5;241m=\u001b[39m group\n\u001b[1;32m    331\u001b[0m \u001b[38;5;28mself\u001b[39m\u001b[38;5;241m.\u001b[39m_mode \u001b[38;5;241m=\u001b[39m mode\n\u001b[0;32m--> 332\u001b[0m \u001b[38;5;28mself\u001b[39m\u001b[38;5;241m.\u001b[39mformat \u001b[38;5;241m=\u001b[39m \u001b[38;5;28;43mself\u001b[39;49m\u001b[38;5;241;43m.\u001b[39;49m\u001b[43mds\u001b[49m\u001b[38;5;241m.\u001b[39mdata_model\n\u001b[1;32m    333\u001b[0m \u001b[38;5;28mself\u001b[39m\u001b[38;5;241m.\u001b[39m_filename \u001b[38;5;241m=\u001b[39m \u001b[38;5;28mself\u001b[39m\u001b[38;5;241m.\u001b[39mds\u001b[38;5;241m.\u001b[39mfilepath()\n\u001b[1;32m    334\u001b[0m \u001b[38;5;28mself\u001b[39m\u001b[38;5;241m.\u001b[39mis_remote \u001b[38;5;241m=\u001b[39m is_remote_uri(\u001b[38;5;28mself\u001b[39m\u001b[38;5;241m.\u001b[39m_filename)\n",
      "File \u001b[0;32m/glade/u/apps/opt/conda/envs/npl-2022b/lib/python3.8/site-packages/xarray/backends/netCDF4_.py:393\u001b[0m, in \u001b[0;36mNetCDF4DataStore.ds\u001b[0;34m(self)\u001b[0m\n\u001b[1;32m    391\u001b[0m \u001b[38;5;129m@property\u001b[39m\n\u001b[1;32m    392\u001b[0m \u001b[38;5;28;01mdef\u001b[39;00m \u001b[38;5;21mds\u001b[39m(\u001b[38;5;28mself\u001b[39m):\n\u001b[0;32m--> 393\u001b[0m     \u001b[38;5;28;01mreturn\u001b[39;00m \u001b[38;5;28;43mself\u001b[39;49m\u001b[38;5;241;43m.\u001b[39;49m\u001b[43m_acquire\u001b[49m\u001b[43m(\u001b[49m\u001b[43m)\u001b[49m\n",
      "File \u001b[0;32m/glade/u/apps/opt/conda/envs/npl-2022b/lib/python3.8/site-packages/xarray/backends/netCDF4_.py:387\u001b[0m, in \u001b[0;36mNetCDF4DataStore._acquire\u001b[0;34m(self, needs_lock)\u001b[0m\n\u001b[1;32m    386\u001b[0m \u001b[38;5;28;01mdef\u001b[39;00m \u001b[38;5;21m_acquire\u001b[39m(\u001b[38;5;28mself\u001b[39m, needs_lock\u001b[38;5;241m=\u001b[39m\u001b[38;5;28;01mTrue\u001b[39;00m):\n\u001b[0;32m--> 387\u001b[0m     \u001b[38;5;28;01mwith\u001b[39;00m \u001b[38;5;28mself\u001b[39m\u001b[38;5;241m.\u001b[39m_manager\u001b[38;5;241m.\u001b[39macquire_context(needs_lock) \u001b[38;5;28;01mas\u001b[39;00m root:\n\u001b[1;32m    388\u001b[0m         ds \u001b[38;5;241m=\u001b[39m _nc4_require_group(root, \u001b[38;5;28mself\u001b[39m\u001b[38;5;241m.\u001b[39m_group, \u001b[38;5;28mself\u001b[39m\u001b[38;5;241m.\u001b[39m_mode)\n\u001b[1;32m    389\u001b[0m     \u001b[38;5;28;01mreturn\u001b[39;00m ds\n",
      "File \u001b[0;32m/glade/u/apps/opt/conda/envs/npl-2022b/lib/python3.8/contextlib.py:113\u001b[0m, in \u001b[0;36m_GeneratorContextManager.__enter__\u001b[0;34m(self)\u001b[0m\n\u001b[1;32m    111\u001b[0m \u001b[38;5;28;01mdel\u001b[39;00m \u001b[38;5;28mself\u001b[39m\u001b[38;5;241m.\u001b[39margs, \u001b[38;5;28mself\u001b[39m\u001b[38;5;241m.\u001b[39mkwds, \u001b[38;5;28mself\u001b[39m\u001b[38;5;241m.\u001b[39mfunc\n\u001b[1;32m    112\u001b[0m \u001b[38;5;28;01mtry\u001b[39;00m:\n\u001b[0;32m--> 113\u001b[0m     \u001b[38;5;28;01mreturn\u001b[39;00m \u001b[38;5;28;43mnext\u001b[39;49m\u001b[43m(\u001b[49m\u001b[38;5;28;43mself\u001b[39;49m\u001b[38;5;241;43m.\u001b[39;49m\u001b[43mgen\u001b[49m\u001b[43m)\u001b[49m\n\u001b[1;32m    114\u001b[0m \u001b[38;5;28;01mexcept\u001b[39;00m \u001b[38;5;167;01mStopIteration\u001b[39;00m:\n\u001b[1;32m    115\u001b[0m     \u001b[38;5;28;01mraise\u001b[39;00m \u001b[38;5;167;01mRuntimeError\u001b[39;00m(\u001b[38;5;124m\"\u001b[39m\u001b[38;5;124mgenerator didn\u001b[39m\u001b[38;5;124m'\u001b[39m\u001b[38;5;124mt yield\u001b[39m\u001b[38;5;124m\"\u001b[39m) \u001b[38;5;28;01mfrom\u001b[39;00m \u001b[38;5;28mNone\u001b[39m\n",
      "File \u001b[0;32m/glade/u/apps/opt/conda/envs/npl-2022b/lib/python3.8/site-packages/xarray/backends/file_manager.py:189\u001b[0m, in \u001b[0;36mCachingFileManager.acquire_context\u001b[0;34m(self, needs_lock)\u001b[0m\n\u001b[1;32m    186\u001b[0m \u001b[38;5;129m@contextlib\u001b[39m\u001b[38;5;241m.\u001b[39mcontextmanager\n\u001b[1;32m    187\u001b[0m \u001b[38;5;28;01mdef\u001b[39;00m \u001b[38;5;21macquire_context\u001b[39m(\u001b[38;5;28mself\u001b[39m, needs_lock\u001b[38;5;241m=\u001b[39m\u001b[38;5;28;01mTrue\u001b[39;00m):\n\u001b[1;32m    188\u001b[0m     \u001b[38;5;124;03m\"\"\"Context manager for acquiring a file.\"\"\"\u001b[39;00m\n\u001b[0;32m--> 189\u001b[0m     file, cached \u001b[38;5;241m=\u001b[39m \u001b[38;5;28;43mself\u001b[39;49m\u001b[38;5;241;43m.\u001b[39;49m\u001b[43m_acquire_with_cache_info\u001b[49m\u001b[43m(\u001b[49m\u001b[43mneeds_lock\u001b[49m\u001b[43m)\u001b[49m\n\u001b[1;32m    190\u001b[0m     \u001b[38;5;28;01mtry\u001b[39;00m:\n\u001b[1;32m    191\u001b[0m         \u001b[38;5;28;01myield\u001b[39;00m file\n",
      "File \u001b[0;32m/glade/u/apps/opt/conda/envs/npl-2022b/lib/python3.8/site-packages/xarray/backends/file_manager.py:207\u001b[0m, in \u001b[0;36mCachingFileManager._acquire_with_cache_info\u001b[0;34m(self, needs_lock)\u001b[0m\n\u001b[1;32m    205\u001b[0m     kwargs \u001b[38;5;241m=\u001b[39m kwargs\u001b[38;5;241m.\u001b[39mcopy()\n\u001b[1;32m    206\u001b[0m     kwargs[\u001b[38;5;124m\"\u001b[39m\u001b[38;5;124mmode\u001b[39m\u001b[38;5;124m\"\u001b[39m] \u001b[38;5;241m=\u001b[39m \u001b[38;5;28mself\u001b[39m\u001b[38;5;241m.\u001b[39m_mode\n\u001b[0;32m--> 207\u001b[0m file \u001b[38;5;241m=\u001b[39m \u001b[38;5;28;43mself\u001b[39;49m\u001b[38;5;241;43m.\u001b[39;49m\u001b[43m_opener\u001b[49m\u001b[43m(\u001b[49m\u001b[38;5;241;43m*\u001b[39;49m\u001b[38;5;28;43mself\u001b[39;49m\u001b[38;5;241;43m.\u001b[39;49m\u001b[43m_args\u001b[49m\u001b[43m,\u001b[49m\u001b[43m \u001b[49m\u001b[38;5;241;43m*\u001b[39;49m\u001b[38;5;241;43m*\u001b[39;49m\u001b[43mkwargs\u001b[49m\u001b[43m)\u001b[49m\n\u001b[1;32m    208\u001b[0m \u001b[38;5;28;01mif\u001b[39;00m \u001b[38;5;28mself\u001b[39m\u001b[38;5;241m.\u001b[39m_mode \u001b[38;5;241m==\u001b[39m \u001b[38;5;124m\"\u001b[39m\u001b[38;5;124mw\u001b[39m\u001b[38;5;124m\"\u001b[39m:\n\u001b[1;32m    209\u001b[0m     \u001b[38;5;66;03m# ensure file doesn't get overridden when opened again\u001b[39;00m\n\u001b[1;32m    210\u001b[0m     \u001b[38;5;28mself\u001b[39m\u001b[38;5;241m.\u001b[39m_mode \u001b[38;5;241m=\u001b[39m \u001b[38;5;124m\"\u001b[39m\u001b[38;5;124ma\u001b[39m\u001b[38;5;124m\"\u001b[39m\n",
      "File \u001b[0;32msrc/netCDF4/_netCDF4.pyx:2353\u001b[0m, in \u001b[0;36mnetCDF4._netCDF4.Dataset.__init__\u001b[0;34m()\u001b[0m\n",
      "File \u001b[0;32msrc/netCDF4/_netCDF4.pyx:1963\u001b[0m, in \u001b[0;36mnetCDF4._netCDF4._ensure_nc_success\u001b[0;34m()\u001b[0m\n",
      "\u001b[0;31mFileNotFoundError\u001b[0m: [Errno 2] No such file or directory: b'/glade/scratch/rfisher/RTM_ens2_case_7/run/RTM_ens2_case_7.clm2.h0.2000-06.nc'"
     ]
    }
   ],
   "source": [
    "ychoose=2000\n",
    "print(output_dir)\n",
    "if doanalysis ==1:\n",
    "    debug=1\n",
    "    hstring='.clm2.h0.'\n",
    "    vs=range(0,ncases+1)\n",
    "    count=1\n",
    "    print(caseroot)\n",
    "    print(vs)\n",
    "\n",
    "    for i in vs:       \n",
    "        run=caseroot+str(i)\n",
    "        os.listdir(output_dir + '/archive')\n",
    "        arc = output_dir + 'archive/' + run + '/lnd/hist/' \n",
    "        hpath = arc\n",
    "        tfile = run+hstring+str(ychoose)+'-06.nc'\n",
    "        if(os.path.isdir(hpath)): \n",
    "            #print('is archive')\n",
    "            if(os.path.isfile(hpath+tfile)): \n",
    "                if debug == 1 :print('file in archive')\n",
    "            else:\n",
    "                if debug == 1 :print('file not in archive',hpath+tfile)\n",
    "        else:\n",
    "            if(debug == 1):print('no archive')\n",
    "            hpath = output_dir + run + '/run/'            \n",
    "            if(os.path.isdir(hpath)): \n",
    "                print('is rundir',hpath)                \n",
    "                if(os.path.isfile(hpath+tfile)):\n",
    "                    if debug == 1 :print('file in  rundir')\n",
    "                else:\n",
    "                    print('no file in  rundir',hpath+tfile)\n",
    "            else:\n",
    "                print('no  rundir',hpath)\n",
    " \n",
    "        allvars=list(xr.open_dataset(hpath+tfile, decode_times=False).variables)\n",
    "        dropvars=list(set(allvars) - set(vars)) #thanks to Ben for figuring this part out :) \n",
    "        print('file'+str(i)+' ='+hpath+tfile)\n",
    "        tmp=xr.open_mfdataset(hpath+tfile, decode_times=False, drop_variables=dropvars)\n",
    "\n",
    "        if i==0:\n",
    "            dsc = tmp           \n",
    "        else:\n",
    "            dsc=xr.concat([dsc,tmp],'ens')\n",
    "\n",
    "print('end')"
   ]
  },
  {
   "cell_type": "code",
   "execution_count": null,
   "metadata": {},
   "outputs": [],
   "source": [
    "#print(allvars)"
   ]
  },
  {
   "cell_type": "markdown",
   "metadata": {},
   "source": [
    "####  ANALYSIS: Save data in netcdf file just incase"
   ]
  },
  {
   "cell_type": "code",
   "execution_count": null,
   "metadata": {},
   "outputs": [],
   "source": [
    "outfile=figpath+'/dataout.nc' \n",
    "dsc.to_netcdf(outfile)\n",
    "os.listdir(figpath)"
   ]
  },
  {
   "cell_type": "markdown",
   "metadata": {},
   "source": [
    "####  ANALYSIS:  Make a function to plot relative differences between runs"
   ]
  },
  {
   "cell_type": "code",
   "execution_count": null,
   "metadata": {},
   "outputs": [],
   "source": [
    "def make_diff_figure(dsc,v,rel,conv,ncases,pmode,parameter_list):   \n",
    "    fig = plt.figure()\n",
    "    if(pmode == 1):\n",
    "        plt.rcParams['figure.figsize'] = [27,7]\n",
    "    if(pmode == 2):\n",
    "        plt.rcParams['figure.figsize'] = [17,7]\n",
    "    fig.subplots_adjust(hspace=0.3, wspace=0.2)\n",
    "    vs=range(1,ncases+1)\n",
    "    nrow=2\n",
    "    ncol=(ncases+1) // 2\n",
    "    count=1\n",
    "    var_0=dsc[vars[v]].isel(ens=0)\n",
    "    defm=np.multiply(np.mean(var_0,0),conv)\n",
    "    for i in vs:\n",
    "        index=((count+1) % 2)*ncol + ((count+1) // 2)\n",
    "        p=((count+1) // 2)-1\n",
    "        ax = fig.add_subplot(nrow, ncol, index)\n",
    "        var_i=dsc[vars[v]].isel(ens=i)\n",
    "        mod=np.multiply(np.mean(var_i,0),conv)\n",
    "        \n",
    "        delt=mod-defm\n",
    "        plt1=delt.plot(cmap='RdYlBu')\n",
    "                  \n",
    "        ax.get_xaxis().set_visible(False)\n",
    "        ax.get_yaxis().set_visible(False)\n",
    "        if(pmode == 1):\n",
    "            if((count+1) % 2==0):\n",
    "                ex=' x'+str(min_delta[p])\n",
    "            else:\n",
    "                ex=' x'+str(max_delta[p])\n",
    "            ax.set_title(str(parameter_label[(((count+1) // 2))-1]+ex))\n",
    "\n",
    "        if(pmode == 2):\n",
    "            ex = ' x'+str(pvalue[i])\n",
    "            ax.set_title(str(parameter_label[0]+ex))\n",
    "            #plt1.set_clim(-3,3)\n",
    "\n",
    "        count=count+1\n",
    "        fig.canvas.draw()\n",
    "       # time.sleep(1) \n",
    "        figname = figpath+ens_directory+vars[v]+'.png'\n",
    "    print(figname)\n",
    "    plt.savefig(figname)\n",
    "          "
   ]
  },
  {
   "cell_type": "code",
   "execution_count": null,
   "metadata": {},
   "outputs": [],
   "source": [
    "make_diff_figure(dsc,0,rel,3600*365*24,ncases,pmode,parameter_list)"
   ]
  },
  {
   "cell_type": "code",
   "execution_count": null,
   "metadata": {},
   "outputs": [],
   "source": [
    "conv=1\n",
    "make_diff_figure(dsc,1,rel,conv,ncases,pmode,parameter_list)"
   ]
  },
  {
   "cell_type": "code",
   "execution_count": null,
   "metadata": {},
   "outputs": [],
   "source": [
    "conv=1\n",
    "make_diff_figure(dsc,2,rel,conv,ncases,pmode,parameter_list)"
   ]
  },
  {
   "cell_type": "code",
   "execution_count": null,
   "metadata": {},
   "outputs": [],
   "source": [
    "conv=1\n",
    "make_diff_figure(dsc,3,rel,conv,ncases,pmode,parameter_list)"
   ]
  },
  {
   "cell_type": "code",
   "execution_count": null,
   "metadata": {},
   "outputs": [],
   "source": [
    "!cat '/glade/work/rfisher/git/ctsmsep22/cime/scripts//RTM_ens1/RTM_ens1_case_12/user_nl_clm'"
   ]
  },
  {
   "cell_type": "code",
   "execution_count": null,
   "metadata": {},
   "outputs": [],
   "source": []
  }
 ],
 "metadata": {
  "kernelspec": {
   "display_name": "NPL 2022b",
   "language": "python",
   "name": "npl-2022b"
  },
  "language_info": {
   "codemirror_mode": {
    "name": "ipython",
    "version": 3
   },
   "file_extension": ".py",
   "mimetype": "text/x-python",
   "name": "python",
   "nbconvert_exporter": "python",
   "pygments_lexer": "ipython3",
   "version": "3.8.13"
  }
 },
 "nbformat": 4,
 "nbformat_minor": 4
}
